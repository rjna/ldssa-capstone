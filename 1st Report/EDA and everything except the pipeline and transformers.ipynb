{
 "cells": [
  {
   "cell_type": "markdown",
   "metadata": {},
   "source": [
    "Tips to navigate the notebook: Everytime that you need to verify a claim made in the report, search for the corresponding section name. For some sections (mainly related with the model itself), the code can also be located in the notebook that contains the pipeline or in transformers.py."
   ]
  },
  {
   "cell_type": "code",
   "execution_count": 36,
   "metadata": {},
   "outputs": [],
   "source": [
    "import pandas as pd\n",
    "import os\n",
    "import matplotlib.pyplot as plt\n",
    "from sklearn.metrics import confusion_matrix\n",
    "import numpy as np\n",
    "import category_encoders as ce\n",
    "from sklearn.model_selection import cross_val_predict\n",
    "from sklearn.ensemble import RandomForestClassifier\n",
    "from sklearn.metrics import recall_score, precision_score, accuracy_score,precision_recall_curve\n",
    "from sklearn.base import TransformerMixin, ClassifierMixin\n",
    "from sklearn.pipeline import Pipeline\n",
    "from category_encoders.target_encoder import TargetEncoder\n",
    "from category_encoders.binary import BinaryEncoder\n",
    "import category_encoders as ce\n",
    "import pickle\n",
    "import json\n",
    "from sklearn.model_selection import cross_val_score\n",
    "from sklearn.metrics import roc_auc_score\n",
    "from sklearn.model_selection import train_test_split\n",
    "import os\n",
    "from sklearn.pipeline import make_pipeline\n",
    "from sklearn.impute import SimpleImputer\n",
    "from transformers import (\n",
    "    Test, \n",
    "    CreateCyclicalFeatures, \n",
    "    CategoricalDataCleaning, \n",
    "    NumericalDataCleaning\n",
    ")\n",
    "\n",
    "\n",
    "\n",
    "RANDOM_STATE = 1"
   ]
  },
  {
   "cell_type": "code",
   "execution_count": 57,
   "metadata": {},
   "outputs": [
    {
     "data": {
      "text/html": [
       "<div>\n",
       "<style scoped>\n",
       "    .dataframe tbody tr th:only-of-type {\n",
       "        vertical-align: middle;\n",
       "    }\n",
       "\n",
       "    .dataframe tbody tr th {\n",
       "        vertical-align: top;\n",
       "    }\n",
       "\n",
       "    .dataframe thead th {\n",
       "        text-align: right;\n",
       "    }\n",
       "</style>\n",
       "<table border=\"1\" class=\"dataframe\">\n",
       "  <thead>\n",
       "    <tr style=\"text-align: right;\">\n",
       "      <th></th>\n",
       "      <th>VehicleSearchedIndicator</th>\n",
       "      <th>ContrabandIndicator</th>\n",
       "      <th>Department Name</th>\n",
       "      <th>InterventionDateTime</th>\n",
       "      <th>InterventionLocationName</th>\n",
       "      <th>InterventionReasonCode</th>\n",
       "      <th>ReportingOfficerIdentificationID</th>\n",
       "      <th>ResidentIndicator</th>\n",
       "      <th>SearchAuthorizationCode</th>\n",
       "      <th>StatuteReason</th>\n",
       "      <th>SubjectAge</th>\n",
       "      <th>SubjectEthnicityCode</th>\n",
       "      <th>SubjectRaceCode</th>\n",
       "      <th>SubjectSexCode</th>\n",
       "      <th>TownResidentIndicator</th>\n",
       "    </tr>\n",
       "  </thead>\n",
       "  <tbody>\n",
       "    <tr>\n",
       "      <th>0</th>\n",
       "      <td>False</td>\n",
       "      <td>False</td>\n",
       "      <td>New Haven</td>\n",
       "      <td>10/01/2013 12:00:00 AM</td>\n",
       "      <td>NEW HAVEN</td>\n",
       "      <td>V</td>\n",
       "      <td>262</td>\n",
       "      <td>True</td>\n",
       "      <td>N</td>\n",
       "      <td>Stop Sign</td>\n",
       "      <td>31.0</td>\n",
       "      <td>H</td>\n",
       "      <td>W</td>\n",
       "      <td>M</td>\n",
       "      <td>True</td>\n",
       "    </tr>\n",
       "    <tr>\n",
       "      <th>1</th>\n",
       "      <td>False</td>\n",
       "      <td>False</td>\n",
       "      <td>State Police</td>\n",
       "      <td>10/01/2013 12:00:00 AM</td>\n",
       "      <td>WILLINGTON</td>\n",
       "      <td>V</td>\n",
       "      <td>1000002715</td>\n",
       "      <td>False</td>\n",
       "      <td>N</td>\n",
       "      <td>Other</td>\n",
       "      <td>29.0</td>\n",
       "      <td>M</td>\n",
       "      <td>W</td>\n",
       "      <td>M</td>\n",
       "      <td>False</td>\n",
       "    </tr>\n",
       "    <tr>\n",
       "      <th>2</th>\n",
       "      <td>False</td>\n",
       "      <td>False</td>\n",
       "      <td>Plymouth</td>\n",
       "      <td>10/01/2013 12:00:00 AM</td>\n",
       "      <td>Terryville</td>\n",
       "      <td>V</td>\n",
       "      <td>21</td>\n",
       "      <td>True</td>\n",
       "      <td>N</td>\n",
       "      <td>Speed Related</td>\n",
       "      <td>18.0</td>\n",
       "      <td>N</td>\n",
       "      <td>W</td>\n",
       "      <td>M</td>\n",
       "      <td>True</td>\n",
       "    </tr>\n",
       "    <tr>\n",
       "      <th>3</th>\n",
       "      <td>False</td>\n",
       "      <td>False</td>\n",
       "      <td>Plymouth</td>\n",
       "      <td>10/01/2013 12:00:00 AM</td>\n",
       "      <td>Plymouth</td>\n",
       "      <td>V</td>\n",
       "      <td>D1</td>\n",
       "      <td>True</td>\n",
       "      <td>N</td>\n",
       "      <td>Speed Related</td>\n",
       "      <td>52.0</td>\n",
       "      <td>N</td>\n",
       "      <td>W</td>\n",
       "      <td>F</td>\n",
       "      <td>False</td>\n",
       "    </tr>\n",
       "    <tr>\n",
       "      <th>4</th>\n",
       "      <td>False</td>\n",
       "      <td>False</td>\n",
       "      <td>Bethel</td>\n",
       "      <td>10/01/2013 12:00:00 AM</td>\n",
       "      <td>BETHEL</td>\n",
       "      <td>V</td>\n",
       "      <td>08M</td>\n",
       "      <td>True</td>\n",
       "      <td>N</td>\n",
       "      <td>Cell Phone</td>\n",
       "      <td>34.0</td>\n",
       "      <td>N</td>\n",
       "      <td>W</td>\n",
       "      <td>M</td>\n",
       "      <td>False</td>\n",
       "    </tr>\n",
       "  </tbody>\n",
       "</table>\n",
       "</div>"
      ],
      "text/plain": [
       "   VehicleSearchedIndicator  ContrabandIndicator Department Name  \\\n",
       "0                     False                False       New Haven   \n",
       "1                     False                False    State Police   \n",
       "2                     False                False        Plymouth   \n",
       "3                     False                False        Plymouth   \n",
       "4                     False                False          Bethel   \n",
       "\n",
       "     InterventionDateTime InterventionLocationName InterventionReasonCode  \\\n",
       "0  10/01/2013 12:00:00 AM                NEW HAVEN                      V   \n",
       "1  10/01/2013 12:00:00 AM               WILLINGTON                      V   \n",
       "2  10/01/2013 12:00:00 AM               Terryville                      V   \n",
       "3  10/01/2013 12:00:00 AM                 Plymouth                      V   \n",
       "4  10/01/2013 12:00:00 AM                   BETHEL                      V   \n",
       "\n",
       "  ReportingOfficerIdentificationID  ResidentIndicator SearchAuthorizationCode  \\\n",
       "0                              262               True                       N   \n",
       "1                       1000002715              False                       N   \n",
       "2                               21               True                       N   \n",
       "3                               D1               True                       N   \n",
       "4                              08M               True                       N   \n",
       "\n",
       "   StatuteReason  SubjectAge SubjectEthnicityCode SubjectRaceCode  \\\n",
       "0      Stop Sign        31.0                    H               W   \n",
       "1          Other        29.0                    M               W   \n",
       "2  Speed Related        18.0                    N               W   \n",
       "3  Speed Related        52.0                    N               W   \n",
       "4     Cell Phone        34.0                    N               W   \n",
       "\n",
       "  SubjectSexCode  TownResidentIndicator  \n",
       "0              M                   True  \n",
       "1              M                  False  \n",
       "2              M                   True  \n",
       "3              F                  False  \n",
       "4              M                  False  "
      ]
     },
     "execution_count": 57,
     "metadata": {},
     "output_type": "execute_result"
    }
   ],
   "source": [
    "def read_data() -> pd.DataFrame:\n",
    "    \"\"\"Imports the data.\n",
    "    \n",
    "    Returns:\n",
    "        data (pd.DataFrame): DataFrame with the data. \n",
    "                             \n",
    "    \"\"\"\n",
    "    path = os.path.join('data', 'train.csv')\n",
    "    data = pd.read_csv(path)\n",
    "    return data\n",
    "\n",
    "train_df = read_data()\n",
    "train_df.head()"
   ]
  },
  {
   "cell_type": "markdown",
   "metadata": {},
   "source": [
    "Section General Analysis"
   ]
  },
  {
   "cell_type": "code",
   "execution_count": 70,
   "metadata": {},
   "outputs": [
    {
     "data": {
      "text/plain": [
       "M    1563180\n",
       "F     910463\n",
       "Name: SubjectSexCode, dtype: int64"
      ]
     },
     "execution_count": 70,
     "metadata": {},
     "output_type": "execute_result"
    }
   ],
   "source": [
    "train_df.SubjectSexCode.value_counts()"
   ]
  },
  {
   "cell_type": "code",
   "execution_count": 72,
   "metadata": {},
   "outputs": [
    {
     "data": {
      "text/plain": [
       "Text(0.5, 0, 'Searched Vehicles')"
      ]
     },
     "execution_count": 72,
     "metadata": {},
     "output_type": "execute_result"
    },
    {
     "data": {
      "image/png": "[encoded data removed]",
      "text/plain": [
       "<Figure size 576x576 with 1 Axes>"
      ]
     },
     "metadata": {
      "needs_background": "light"
     },
     "output_type": "display_data"
    }
   ],
   "source": [
    "ax = train_df.groupby('SubjectSexCode')['VehicleSearchedIndicator'].sum().plot.barh(title = \"Number of Searched Vehicles by Sex Code\");\n",
    "ax.set_xlabel(\"Searched Vehicles\")"
   ]
  },
  {
   "cell_type": "code",
   "execution_count": 74,
   "metadata": {},
   "outputs": [
    {
     "data": {
      "text/plain": [
       "W    2018931\n",
       "B     386325\n",
       "A      48641\n",
       "I      19746\n",
       "Name: SubjectRaceCode, dtype: int64"
      ]
     },
     "execution_count": 74,
     "metadata": {},
     "output_type": "execute_result"
    }
   ],
   "source": [
    "train_df.SubjectRaceCode.value_counts()"
   ]
  },
  {
   "cell_type": "code",
   "execution_count": 76,
   "metadata": {},
   "outputs": [
    {
     "data": {
      "text/plain": [
       "SubjectRaceCode\n",
       "A      498.0\n",
       "B    22501.0\n",
       "I      220.0\n",
       "W    53524.0\n",
       "Name: VehicleSearchedIndicator, dtype: float64"
      ]
     },
     "execution_count": 76,
     "metadata": {},
     "output_type": "execute_result"
    }
   ],
   "source": [
    "train_df.groupby('SubjectRaceCode')['VehicleSearchedIndicator'].sum()"
   ]
  },
  {
   "cell_type": "code",
   "execution_count": 77,
   "metadata": {},
   "outputs": [
    {
     "data": {
      "text/plain": [
       "0.026511059565681047"
      ]
     },
     "execution_count": 77,
     "metadata": {},
     "output_type": "execute_result"
    }
   ],
   "source": [
    "53524/2018931"
   ]
  },
  {
   "cell_type": "code",
   "execution_count": 78,
   "metadata": {},
   "outputs": [
    {
     "data": {
      "text/plain": [
       "0.058243706723613536"
      ]
     },
     "execution_count": 78,
     "metadata": {},
     "output_type": "execute_result"
    }
   ],
   "source": [
    "22501/386325"
   ]
  },
  {
   "cell_type": "code",
   "execution_count": 79,
   "metadata": {},
   "outputs": [
    {
     "data": {
      "text/plain": [
       "0.011141497012053074"
      ]
     },
     "execution_count": 79,
     "metadata": {},
     "output_type": "execute_result"
    }
   ],
   "source": [
    "220/19746"
   ]
  },
  {
   "cell_type": "code",
   "execution_count": 80,
   "metadata": {},
   "outputs": [
    {
     "data": {
      "text/plain": [
       "0.010238276351226332"
      ]
     },
     "execution_count": 80,
     "metadata": {},
     "output_type": "execute_result"
    }
   ],
   "source": [
    "498/48641"
   ]
  },
  {
   "cell_type": "code",
   "execution_count": 81,
   "metadata": {},
   "outputs": [
    {
     "data": {
      "text/plain": [
       "N    2099632\n",
       "H     328450\n",
       "M      45561\n",
       "Name: SubjectEthnicityCode, dtype: int64"
      ]
     },
     "execution_count": 81,
     "metadata": {},
     "output_type": "execute_result"
    }
   ],
   "source": [
    "train_df.SubjectEthnicityCode.value_counts()"
   ]
  },
  {
   "cell_type": "code",
   "execution_count": 82,
   "metadata": {},
   "outputs": [
    {
     "data": {
      "text/plain": [
       "SubjectEthnicityCode\n",
       "H    17524.0\n",
       "M      876.0\n",
       "N    58343.0\n",
       "Name: VehicleSearchedIndicator, dtype: float64"
      ]
     },
     "execution_count": 82,
     "metadata": {},
     "output_type": "execute_result"
    }
   ],
   "source": [
    "train_df.groupby('SubjectEthnicityCode')['VehicleSearchedIndicator'].sum()"
   ]
  },
  {
   "cell_type": "code",
   "execution_count": 83,
   "metadata": {},
   "outputs": [
    {
     "data": {
      "text/plain": [
       "0.019226970435240666"
      ]
     },
     "execution_count": 83,
     "metadata": {},
     "output_type": "execute_result"
    }
   ],
   "source": [
    "876/45561"
   ]
  },
  {
   "cell_type": "code",
   "execution_count": 84,
   "metadata": {},
   "outputs": [
    {
     "data": {
      "text/plain": [
       "0.027787250337201946"
      ]
     },
     "execution_count": 84,
     "metadata": {},
     "output_type": "execute_result"
    }
   ],
   "source": [
    "58343/2099632"
   ]
  },
  {
   "cell_type": "code",
   "execution_count": 85,
   "metadata": {},
   "outputs": [
    {
     "data": {
      "text/plain": [
       "0.05335363068960268"
      ]
     },
     "execution_count": 85,
     "metadata": {},
     "output_type": "execute_result"
    }
   ],
   "source": [
    "17524/328450"
   ]
  },
  {
   "cell_type": "code",
   "execution_count": 93,
   "metadata": {},
   "outputs": [
    {
     "data": {
      "text/plain": [
       "8593"
      ]
     },
     "execution_count": 93,
     "metadata": {},
     "output_type": "execute_result"
    }
   ],
   "source": [
    "train_df.ReportingOfficerIdentificationID.nunique()"
   ]
  },
  {
   "cell_type": "code",
   "execution_count": 95,
   "metadata": {},
   "outputs": [
    {
     "name": "stdout",
     "output_type": "stream",
     "text": [
      "0.0\n",
      "1.0\n"
     ]
    }
   ],
   "source": [
    "average_searched_vehicles_by_officer = train_df.groupby(\"ReportingOfficerIdentificationID\")[\"VehicleSearchedIndicator\"].mean().reset_index()\n",
    "average_searched_vehicles_by_officer.columns = [\"ReportingOfficerIdentificationID\", \"VehicleSearchedIndicator\"]\n",
    "average_searched_vehicles_by_officer = average_searched_vehicles_by_officer.set_index('ReportingOfficerIdentificationID', drop=False)\n",
    "print(average_searched_vehicles_by_officer.VehicleSearchedIndicator.min())\n",
    "print(average_searched_vehicles_by_officer.VehicleSearchedIndicator.max())"
   ]
  },
  {
   "cell_type": "code",
   "execution_count": 99,
   "metadata": {},
   "outputs": [
    {
     "name": "stdout",
     "output_type": "stream",
     "text": [
      "0.0\n",
      "1.0\n"
     ]
    }
   ],
   "source": [
    "average_contraband_by_officer = train_df.groupby(\"ReportingOfficerIdentificationID\")[\"ContrabandIndicator\"].mean().reset_index()\n",
    "average_contraband_by_officer.columns = [\"ReportingOfficerIdentificationID\", \"ContrabandIndicator\"]\n",
    "average_contraband_by_officer = average_contraband_by_officer.set_index('ReportingOfficerIdentificationID', drop=False)\n",
    "print(average_contraband_by_officer.ContrabandIndicator.min())\n",
    "print(average_contraband_by_officer.ContrabandIndicator.max())"
   ]
  },
  {
   "cell_type": "code",
   "execution_count": 96,
   "metadata": {},
   "outputs": [
    {
     "data": {
      "text/plain": [
       "122"
      ]
     },
     "execution_count": 96,
     "metadata": {},
     "output_type": "execute_result"
    }
   ],
   "source": [
    "train_df['Department Name'].nunique()"
   ]
  },
  {
   "cell_type": "code",
   "execution_count": 97,
   "metadata": {},
   "outputs": [
    {
     "name": "stdout",
     "output_type": "stream",
     "text": [
      "0.0\n",
      "0.1966724219117878\n"
     ]
    }
   ],
   "source": [
    "average_searched_vehicles_by_department = train_df.groupby(\"Department Name\")[\"VehicleSearchedIndicator\"].mean().reset_index()\n",
    "average_searched_vehicles_by_department.columns = [\"Department Name\", \"VehicleSearchedIndicator\"]\n",
    "average_searched_vehicles_by_department = average_searched_vehicles_by_department.set_index('Department Name', drop=False)\n",
    "print(average_searched_vehicles_by_department.VehicleSearchedIndicator.min())\n",
    "print(average_searched_vehicles_by_department.VehicleSearchedIndicator.max())"
   ]
  },
  {
   "cell_type": "code",
   "execution_count": 100,
   "metadata": {},
   "outputs": [
    {
     "name": "stdout",
     "output_type": "stream",
     "text": [
      "0.0\n",
      "0.1111111111111111\n"
     ]
    }
   ],
   "source": [
    "average_contraband_by_department = train_df.groupby(\"Department Name\")[\"ContrabandIndicator\"].mean().reset_index()\n",
    "average_contraband_by_department.columns = [\"Department Name\", \"ContrabandIndicator\"]\n",
    "average_contraband_by_department = average_contraband_by_department.set_index('Department Name', drop=False)\n",
    "print(average_contraband_by_department.ContrabandIndicator.min())\n",
    "print(average_contraband_by_department.ContrabandIndicator.max())"
   ]
  },
  {
   "cell_type": "code",
   "execution_count": 104,
   "metadata": {},
   "outputs": [],
   "source": [
    "train_df['InterventionDateTime'] = pd.to_datetime(train_df['InterventionDateTime'], format='%m/%d/%Y %I:%M:%S %p')"
   ]
  },
  {
   "cell_type": "code",
   "execution_count": 105,
   "metadata": {},
   "outputs": [],
   "source": [
    "train_df['InterventionDateMonth'] = train_df['InterventionDateTime'].dt.month"
   ]
  },
  {
   "cell_type": "code",
   "execution_count": 106,
   "metadata": {},
   "outputs": [
    {
     "data": {
      "image/png": "[encoded data removed]",
      "text/plain": [
       "<Figure size 576x576 with 1 Axes>"
      ]
     },
     "metadata": {
      "needs_background": "light"
     },
     "output_type": "display_data"
    }
   ],
   "source": [
    "average_contraband_by_month = train_df.loc[train_df.VehicleSearchedIndicator == True].groupby(\"InterventionDateMonth\")[\"ContrabandIndicator\"].mean().reset_index()\n",
    "average_contraband_by_month.columns = [\"InterventionDateMonth\", \"ContrabandIndicator\"]\n",
    "average_contraband_by_month = average_contraband_by_month.set_index('InterventionDateMonth', drop=False)\n",
    "average_contraband_by_month.ContrabandIndicator.plot(label=\"ContrabandIndicator\", kind='barh')\n",
    "plt.xlabel('ContrabandIndicator')\n",
    "axis = plt.gca();"
   ]
  },
  {
   "cell_type": "markdown",
   "metadata": {},
   "source": [
    "Section Business Question Analysis and Business questions technical support and Conclusions and Recommendations"
   ]
  },
  {
   "cell_type": "code",
   "execution_count": 107,
   "metadata": {},
   "outputs": [
    {
     "name": "stdout",
     "output_type": "stream",
     "text": [
      "0.36895000478575757 0.3708472647079747\n",
      "0.3199041314768318 0.2945205479452055 0.3852561575510344\n",
      "0.38422016291756966 0.3344740233767388 0.357429718875502 0.32727272727272727\n"
     ]
    }
   ],
   "source": [
    "precision_male = train_df.ContrabandIndicator[np.equal(train_df.SubjectSexCode, \"M\")].sum()/train_df.VehicleSearchedIndicator[np.equal(train_df.SubjectSexCode, \"M\")].sum()\n",
    "precision_female = train_df.ContrabandIndicator[np.equal(train_df.SubjectSexCode, \"F\")].sum()/train_df.VehicleSearchedIndicator[np.equal(train_df.SubjectSexCode, \"F\")].sum()\n",
    "precision_hispanic = train_df.ContrabandIndicator[np.equal(train_df.SubjectEthnicityCode, \"H\")].sum()/train_df.VehicleSearchedIndicator[np.equal(train_df.SubjectEthnicityCode, \"H\")].sum()\n",
    "precision_middle_east = train_df.ContrabandIndicator[np.equal(train_df.SubjectEthnicityCode, \"M\")].sum()/train_df.VehicleSearchedIndicator[np.equal(train_df.SubjectEthnicityCode, \"M\")].sum()\n",
    "precision_not_applicable_ethnicity = train_df.ContrabandIndicator[np.equal(train_df.SubjectEthnicityCode, \"N\")].sum()/train_df.VehicleSearchedIndicator[np.equal(train_df.SubjectEthnicityCode, \"N\")].sum()\n",
    "precision_white = train_df.ContrabandIndicator[np.equal(train_df.SubjectRaceCode, \"W\")].sum()/train_df.VehicleSearchedIndicator[np.equal(train_df.SubjectRaceCode, \"W\")].sum()\n",
    "precision_black = train_df.ContrabandIndicator[np.equal(train_df.SubjectRaceCode, \"B\")].sum()/train_df.VehicleSearchedIndicator[np.equal(train_df.SubjectRaceCode, \"B\")].sum()\n",
    "precision_asian = train_df.ContrabandIndicator[np.equal(train_df.SubjectRaceCode, \"A\")].sum()/train_df.VehicleSearchedIndicator[np.equal(train_df.SubjectRaceCode, \"A\")].sum()\n",
    "precision_indian = train_df.ContrabandIndicator[np.equal(train_df.SubjectRaceCode, \"I\")].sum()/train_df.VehicleSearchedIndicator[np.equal(train_df.SubjectRaceCode, \"I\")].sum()\n",
    "print(precision_male, precision_female)\n",
    "print(precision_hispanic, precision_middle_east, precision_not_applicable_ethnicity)\n",
    "print(precision_white, precision_black, precision_asian, precision_indian)"
   ]
  },
  {
   "cell_type": "code",
   "execution_count": 109,
   "metadata": {},
   "outputs": [
    {
     "name": "stderr",
     "output_type": "stream",
     "text": [
      "C:\\Anaconda3\\envs\\capstone_env\\lib\\site-packages\\ipykernel_launcher.py:6: RuntimeWarning: invalid value encountered in longlong_scalars\n",
      "  \n",
      "C:\\Anaconda3\\envs\\capstone_env\\lib\\site-packages\\ipykernel_launcher.py:10: RuntimeWarning: invalid value encountered in longlong_scalars\n",
      "  # Remove the CWD from sys.path while we load stuff.\n",
      "C:\\Anaconda3\\envs\\capstone_env\\lib\\site-packages\\ipykernel_launcher.py:11: RuntimeWarning: invalid value encountered in longlong_scalars\n",
      "  # This is added back by InteractiveShellApp.init_path()\n",
      "C:\\Anaconda3\\envs\\capstone_env\\lib\\site-packages\\ipykernel_launcher.py:4: RuntimeWarning: divide by zero encountered in longlong_scalars\n",
      "  after removing the cwd from sys.path.\n",
      "C:\\Anaconda3\\envs\\capstone_env\\lib\\site-packages\\ipykernel_launcher.py:5: RuntimeWarning: invalid value encountered in longlong_scalars\n",
      "  \"\"\"\n",
      "C:\\Anaconda3\\envs\\capstone_env\\lib\\site-packages\\ipykernel_launcher.py:8: RuntimeWarning: divide by zero encountered in longlong_scalars\n",
      "  \n",
      "C:\\Anaconda3\\envs\\capstone_env\\lib\\site-packages\\ipykernel_launcher.py:9: RuntimeWarning: divide by zero encountered in longlong_scalars\n",
      "  if __name__ == '__main__':\n",
      "C:\\Anaconda3\\envs\\capstone_env\\lib\\site-packages\\ipykernel_launcher.py:17: RuntimeWarning: invalid value encountered in double_scalars\n",
      "C:\\Anaconda3\\envs\\capstone_env\\lib\\site-packages\\ipykernel_launcher.py:18: RuntimeWarning: invalid value encountered in double_scalars\n",
      "C:\\Anaconda3\\envs\\capstone_env\\lib\\site-packages\\ipykernel_launcher.py:3: RuntimeWarning: invalid value encountered in longlong_scalars\n",
      "  This is separate from the ipykernel package so we can avoid doing imports until\n",
      "C:\\Anaconda3\\envs\\capstone_env\\lib\\site-packages\\ipykernel_launcher.py:4: RuntimeWarning: invalid value encountered in longlong_scalars\n",
      "  after removing the cwd from sys.path.\n",
      "C:\\Anaconda3\\envs\\capstone_env\\lib\\site-packages\\ipykernel_launcher.py:7: RuntimeWarning: invalid value encountered in longlong_scalars\n",
      "  import sys\n",
      "C:\\Anaconda3\\envs\\capstone_env\\lib\\site-packages\\ipykernel_launcher.py:8: RuntimeWarning: invalid value encountered in longlong_scalars\n",
      "  \n",
      "C:\\Anaconda3\\envs\\capstone_env\\lib\\site-packages\\ipykernel_launcher.py:9: RuntimeWarning: invalid value encountered in longlong_scalars\n",
      "  if __name__ == '__main__':\n",
      "C:\\Anaconda3\\envs\\capstone_env\\lib\\site-packages\\ipykernel_launcher.py:10: RuntimeWarning: divide by zero encountered in longlong_scalars\n",
      "  # Remove the CWD from sys.path while we load stuff.\n",
      "C:\\Anaconda3\\envs\\capstone_env\\lib\\site-packages\\ipykernel_launcher.py:11: RuntimeWarning: divide by zero encountered in longlong_scalars\n",
      "  # This is added back by InteractiveShellApp.init_path()\n",
      "C:\\Anaconda3\\envs\\capstone_env\\lib\\site-packages\\ipykernel_launcher.py:6: RuntimeWarning: divide by zero encountered in longlong_scalars\n",
      "  \n",
      "C:\\Anaconda3\\envs\\capstone_env\\lib\\site-packages\\ipykernel_launcher.py:5: RuntimeWarning: divide by zero encountered in longlong_scalars\n",
      "  \"\"\"\n"
     ]
    }
   ],
   "source": [
    "from itertools import combinations \n",
    "for i in np.unique(train_df['Department Name'].values):\n",
    "    precision_male = train_df.ContrabandIndicator[np.equal(train_df.SubjectSexCode, \"M\") & np.equal(train_df['Department Name'], i)].sum()/train_df.VehicleSearchedIndicator[np.equal(train_df.SubjectSexCode, \"M\") & np.equal(train_df['Department Name'], i)].sum()\n",
    "    precision_female = train_df.ContrabandIndicator[np.equal(train_df.SubjectSexCode, \"F\") & np.equal(train_df['Department Name'], i)].sum()/train_df.VehicleSearchedIndicator[np.equal(train_df.SubjectSexCode, \"F\") & np.equal(train_df['Department Name'], i)].sum()\n",
    "    precision_hispanic = train_df.ContrabandIndicator[np.equal(train_df.SubjectEthnicityCode, \"H\") & np.equal(train_df['Department Name'], i)].sum()/train_df.VehicleSearchedIndicator[np.equal(train_df.SubjectEthnicityCode, \"H\") & np.equal(train_df['Department Name'], i)].sum()\n",
    "    precision_middle_east = train_df.ContrabandIndicator[np.equal(train_df.SubjectEthnicityCode, \"M\") & np.equal(train_df['Department Name'], i)].sum()/train_df.VehicleSearchedIndicator[np.equal(train_df.SubjectEthnicityCode, \"M\") & np.equal(train_df['Department Name'], i)].sum()\n",
    "    precision_not_applicable_ethnicity = train_df.ContrabandIndicator[np.equal(train_df.SubjectEthnicityCode, \"N\") & np.equal(train_df['Department Name'], i)].sum()/train_df.VehicleSearchedIndicator[np.equal(train_df.SubjectEthnicityCode, \"N\") & np.equal(train_df['Department Name'], i)].sum()\n",
    "    precision_white = train_df.ContrabandIndicator[np.equal(train_df.SubjectRaceCode, \"W\") & np.equal(train_df['Department Name'], i)].sum()/train_df.VehicleSearchedIndicator[np.equal(train_df.SubjectRaceCode, \"W\") & np.equal(train_df['Department Name'], i)].sum()\n",
    "    precision_black = train_df.ContrabandIndicator[np.equal(train_df.SubjectRaceCode, \"B\") & np.equal(train_df['Department Name'], i)].sum()/train_df.VehicleSearchedIndicator[np.equal(train_df.SubjectRaceCode, \"B\") & np.equal(train_df['Department Name'], i)].sum()\n",
    "    precision_indian = train_df.ContrabandIndicator[np.equal(train_df.SubjectRaceCode, \"I\") & np.equal(train_df['Department Name'], i)].sum()/train_df.VehicleSearchedIndicator[np.equal(train_df.SubjectRaceCode, \"I\") & np.equal(train_df['Department Name'], i)].sum()\n",
    "    precision_asian = train_df.ContrabandIndicator[np.equal(train_df.SubjectRaceCode, \"A\") & np.equal(train_df['Department Name'], i)].sum()/train_df.VehicleSearchedIndicator[np.equal(train_df.SubjectRaceCode, \"A\") & np.equal(train_df['Department Name'], i)].sum()\n",
    "    test_list = [precision_male, precision_female]\n",
    "    test_list_2 = [precision_hispanic, precision_middle_east, precision_not_applicable_ethnicity]\n",
    "    test_list_3 = [precision_white, precision_black, precision_indian, precision_asian]\n",
    "    res = max(combinations(test_list, 2), key = lambda sub: abs(sub[0]-sub[1]))\n",
    "    res_2 = max(combinations(test_list_2, 2), key = lambda sub: abs(sub[0]-sub[1]))\n",
    "    res_3 = max(combinations(test_list_3, 2), key = lambda sub: abs(sub[0]-sub[1]))\n",
    "    if((abs(res[0]-res[1]) <= 0.05) & (abs(res_2[0]-res_2[1]) <= 0.05) & (abs(res_3[0]-res_3[1]) <= 0.05)):\n",
    "        print(i)"
   ]
  },
  {
   "cell_type": "code",
   "execution_count": 110,
   "metadata": {},
   "outputs": [
    {
     "name": "stderr",
     "output_type": "stream",
     "text": [
      "C:\\Anaconda3\\envs\\capstone_env\\lib\\site-packages\\ipykernel_launcher.py:6: RuntimeWarning: invalid value encountered in longlong_scalars\n",
      "  \n",
      "C:\\Anaconda3\\envs\\capstone_env\\lib\\site-packages\\ipykernel_launcher.py:10: RuntimeWarning: invalid value encountered in longlong_scalars\n",
      "  # Remove the CWD from sys.path while we load stuff.\n",
      "C:\\Anaconda3\\envs\\capstone_env\\lib\\site-packages\\ipykernel_launcher.py:11: RuntimeWarning: invalid value encountered in longlong_scalars\n",
      "  # This is added back by InteractiveShellApp.init_path()\n",
      "C:\\Anaconda3\\envs\\capstone_env\\lib\\site-packages\\ipykernel_launcher.py:4: RuntimeWarning: divide by zero encountered in longlong_scalars\n",
      "  after removing the cwd from sys.path.\n",
      "C:\\Anaconda3\\envs\\capstone_env\\lib\\site-packages\\ipykernel_launcher.py:5: RuntimeWarning: invalid value encountered in longlong_scalars\n",
      "  \"\"\"\n",
      "C:\\Anaconda3\\envs\\capstone_env\\lib\\site-packages\\ipykernel_launcher.py:8: RuntimeWarning: divide by zero encountered in longlong_scalars\n",
      "  \n",
      "C:\\Anaconda3\\envs\\capstone_env\\lib\\site-packages\\ipykernel_launcher.py:9: RuntimeWarning: divide by zero encountered in longlong_scalars\n",
      "  if __name__ == '__main__':\n",
      "C:\\Anaconda3\\envs\\capstone_env\\lib\\site-packages\\ipykernel_launcher.py:17: RuntimeWarning: invalid value encountered in double_scalars\n",
      "C:\\Anaconda3\\envs\\capstone_env\\lib\\site-packages\\ipykernel_launcher.py:18: RuntimeWarning: invalid value encountered in double_scalars\n",
      "C:\\Anaconda3\\envs\\capstone_env\\lib\\site-packages\\ipykernel_launcher.py:3: RuntimeWarning: invalid value encountered in longlong_scalars\n",
      "  This is separate from the ipykernel package so we can avoid doing imports until\n",
      "C:\\Anaconda3\\envs\\capstone_env\\lib\\site-packages\\ipykernel_launcher.py:4: RuntimeWarning: invalid value encountered in longlong_scalars\n",
      "  after removing the cwd from sys.path.\n",
      "C:\\Anaconda3\\envs\\capstone_env\\lib\\site-packages\\ipykernel_launcher.py:7: RuntimeWarning: invalid value encountered in longlong_scalars\n",
      "  import sys\n",
      "C:\\Anaconda3\\envs\\capstone_env\\lib\\site-packages\\ipykernel_launcher.py:8: RuntimeWarning: invalid value encountered in longlong_scalars\n",
      "  \n",
      "C:\\Anaconda3\\envs\\capstone_env\\lib\\site-packages\\ipykernel_launcher.py:9: RuntimeWarning: invalid value encountered in longlong_scalars\n",
      "  if __name__ == '__main__':\n",
      "C:\\Anaconda3\\envs\\capstone_env\\lib\\site-packages\\ipykernel_launcher.py:10: RuntimeWarning: divide by zero encountered in longlong_scalars\n",
      "  # Remove the CWD from sys.path while we load stuff.\n",
      "C:\\Anaconda3\\envs\\capstone_env\\lib\\site-packages\\ipykernel_launcher.py:11: RuntimeWarning: divide by zero encountered in longlong_scalars\n",
      "  # This is added back by InteractiveShellApp.init_path()\n",
      "C:\\Anaconda3\\envs\\capstone_env\\lib\\site-packages\\ipykernel_launcher.py:6: RuntimeWarning: divide by zero encountered in longlong_scalars\n",
      "  \n",
      "C:\\Anaconda3\\envs\\capstone_env\\lib\\site-packages\\ipykernel_launcher.py:5: RuntimeWarning: divide by zero encountered in longlong_scalars\n",
      "  \"\"\"\n"
     ]
    },
    {
     "name": "stdout",
     "output_type": "stream",
     "text": [
      "['CSP Troop I', 'Darien', 'ECSU', 'Enfield', 'Guilford', 'MTA Stamford', 'Meriden', 'Middletown', 'Orange', 'Redding', 'Rocky Hill', 'Winsted']\n"
     ]
    }
   ],
   "source": [
    "differences_of_bigger_than_0dot9 = []\n",
    "for i in np.unique(train_df['Department Name'].values):\n",
    "    precision_male = train_df.ContrabandIndicator[np.equal(train_df.SubjectSexCode, \"M\") & np.equal(train_df['Department Name'], i)].sum()/train_df.VehicleSearchedIndicator[np.equal(train_df.SubjectSexCode, \"M\") & np.equal(train_df['Department Name'], i)].sum()\n",
    "    precision_female = train_df.ContrabandIndicator[np.equal(train_df.SubjectSexCode, \"F\") & np.equal(train_df['Department Name'], i)].sum()/train_df.VehicleSearchedIndicator[np.equal(train_df.SubjectSexCode, \"F\") & np.equal(train_df['Department Name'], i)].sum()\n",
    "    precision_hispanic = train_df.ContrabandIndicator[np.equal(train_df.SubjectEthnicityCode, \"H\") & np.equal(train_df['Department Name'], i)].sum()/train_df.VehicleSearchedIndicator[np.equal(train_df.SubjectEthnicityCode, \"H\") & np.equal(train_df['Department Name'], i)].sum()\n",
    "    precision_middle_east = train_df.ContrabandIndicator[np.equal(train_df.SubjectEthnicityCode, \"M\") & np.equal(train_df['Department Name'], i)].sum()/train_df.VehicleSearchedIndicator[np.equal(train_df.SubjectEthnicityCode, \"M\") & np.equal(train_df['Department Name'], i)].sum()\n",
    "    precision_not_applicable_ethnicity = train_df.ContrabandIndicator[np.equal(train_df.SubjectEthnicityCode, \"N\") & np.equal(train_df['Department Name'], i)].sum()/train_df.VehicleSearchedIndicator[np.equal(train_df.SubjectEthnicityCode, \"N\") & np.equal(train_df['Department Name'], i)].sum()\n",
    "    precision_white = train_df.ContrabandIndicator[np.equal(train_df.SubjectRaceCode, \"W\") & np.equal(train_df['Department Name'], i)].sum()/train_df.VehicleSearchedIndicator[np.equal(train_df.SubjectRaceCode, \"W\") & np.equal(train_df['Department Name'], i)].sum()\n",
    "    precision_black = train_df.ContrabandIndicator[np.equal(train_df.SubjectRaceCode, \"B\") & np.equal(train_df['Department Name'], i)].sum()/train_df.VehicleSearchedIndicator[np.equal(train_df.SubjectRaceCode, \"B\") & np.equal(train_df['Department Name'], i)].sum()\n",
    "    precision_indian = train_df.ContrabandIndicator[np.equal(train_df.SubjectRaceCode, \"I\") & np.equal(train_df['Department Name'], i)].sum()/train_df.VehicleSearchedIndicator[np.equal(train_df.SubjectRaceCode, \"I\") & np.equal(train_df['Department Name'], i)].sum()\n",
    "    precision_asian = train_df.ContrabandIndicator[np.equal(train_df.SubjectRaceCode, \"A\") & np.equal(train_df['Department Name'], i)].sum()/train_df.VehicleSearchedIndicator[np.equal(train_df.SubjectRaceCode, \"A\") & np.equal(train_df['Department Name'], i)].sum()\n",
    "    test_list = [precision_male, precision_female]\n",
    "    test_list_2 = [precision_hispanic, precision_middle_east, precision_not_applicable_ethnicity]\n",
    "    test_list_3 = [precision_white, precision_black, precision_indian, precision_asian]\n",
    "    res = max(combinations(test_list, 2), key = lambda sub: abs(sub[0]-sub[1]))\n",
    "    res_2 = max(combinations(test_list_2, 2), key = lambda sub: abs(sub[0]-sub[1]))\n",
    "    res_3 = max(combinations(test_list_3, 2), key = lambda sub: abs(sub[0]-sub[1]))\n",
    "    if(((abs(res[0]-res[1]) > 0.9)) | ((abs(res_2[0]-res_2[1]) > 0.9)) | ((abs(res_3[0]-res_3[1]) > 0.9))):\n",
    "        differences_of_bigger_than_0dot9.append(i)\n",
    "print(differences_of_bigger_than_0dot9)"
   ]
  },
  {
   "cell_type": "code",
   "execution_count": 112,
   "metadata": {},
   "outputs": [
    {
     "name": "stderr",
     "output_type": "stream",
     "text": [
      "C:\\Anaconda3\\envs\\capstone_env\\lib\\site-packages\\ipykernel_launcher.py:12: RuntimeWarning: invalid value encountered in longlong_scalars\n",
      "  if sys.path[0] == '':\n",
      "C:\\Anaconda3\\envs\\capstone_env\\lib\\site-packages\\ipykernel_launcher.py:16: RuntimeWarning: divide by zero encountered in longlong_scalars\n",
      "  app.launch_new_instance()\n",
      "C:\\Anaconda3\\envs\\capstone_env\\lib\\site-packages\\ipykernel_launcher.py:17: RuntimeWarning: divide by zero encountered in longlong_scalars\n",
      "C:\\Anaconda3\\envs\\capstone_env\\lib\\site-packages\\ipykernel_launcher.py:23: RuntimeWarning: invalid value encountered in double_scalars\n",
      "C:\\Anaconda3\\envs\\capstone_env\\lib\\site-packages\\ipykernel_launcher.py:16: RuntimeWarning: invalid value encountered in longlong_scalars\n",
      "  app.launch_new_instance()\n",
      "C:\\Anaconda3\\envs\\capstone_env\\lib\\site-packages\\ipykernel_launcher.py:17: RuntimeWarning: invalid value encountered in longlong_scalars\n"
     ]
    },
    {
     "name": "stdout",
     "output_type": "stream",
     "text": [
      "['1000001949', '1000002608', '179', '199', '256', '30233', '570']\n"
     ]
    }
   ],
   "source": [
    "from itertools import combinations \n",
    "differences_of_bigger_than_0dot9_officer = []\n",
    "ax = train_df['ReportingOfficerIdentificationID'].values\n",
    "ax = [str(i) for i in ax]\n",
    "ax = np.unique(ax)\n",
    "\n",
    "for i in ax:\n",
    "    if train_df.VehicleSearchedIndicator[np.equal(train_df['ReportingOfficerIdentificationID'], i)].sum() > 100:\n",
    "        precision_male = train_df.ContrabandIndicator[np.equal(train_df.SubjectSexCode, \"M\") & np.equal(train_df['ReportingOfficerIdentificationID'], i)].sum()/train_df.VehicleSearchedIndicator[np.equal(train_df.SubjectSexCode, \"M\") & np.equal(train_df['ReportingOfficerIdentificationID'], i)].sum()\n",
    "        precision_female = train_df.ContrabandIndicator[np.equal(train_df.SubjectSexCode, \"F\") & np.equal(train_df['ReportingOfficerIdentificationID'], i)].sum()/train_df.VehicleSearchedIndicator[np.equal(train_df.SubjectSexCode, \"F\") & np.equal(train_df['ReportingOfficerIdentificationID'], i)].sum()\n",
    "        precision_hispanic = train_df.ContrabandIndicator[np.equal(train_df.SubjectEthnicityCode, \"H\") & np.equal(train_df['ReportingOfficerIdentificationID'], i)].sum()/train_df.VehicleSearchedIndicator[np.equal(train_df.SubjectEthnicityCode, \"H\") & np.equal(train_df['ReportingOfficerIdentificationID'], i)].sum()\n",
    "        precision_middle_east = train_df.ContrabandIndicator[np.equal(train_df.SubjectEthnicityCode, \"M\") & np.equal(train_df['ReportingOfficerIdentificationID'], i)].sum()/train_df.VehicleSearchedIndicator[np.equal(train_df.SubjectEthnicityCode, \"M\") & np.equal(train_df['ReportingOfficerIdentificationID'], i)].sum()\n",
    "        precision_not_applicable_ethnicity = train_df.ContrabandIndicator[np.equal(train_df.SubjectEthnicityCode, \"N\") & np.equal(train_df['ReportingOfficerIdentificationID'], i)].sum()/train_df.VehicleSearchedIndicator[np.equal(train_df.SubjectEthnicityCode, \"N\") & np.equal(train_df['ReportingOfficerIdentificationID'], i)].sum()\n",
    "        precision_white = train_df.ContrabandIndicator[np.equal(train_df.SubjectRaceCode, \"W\") & np.equal(train_df['ReportingOfficerIdentificationID'], i)].sum()/train_df.VehicleSearchedIndicator[np.equal(train_df.SubjectRaceCode, \"W\") & np.equal(train_df['ReportingOfficerIdentificationID'], i)].sum()\n",
    "        precision_black = train_df.ContrabandIndicator[np.equal(train_df.SubjectRaceCode, \"B\") & np.equal(train_df['ReportingOfficerIdentificationID'], i)].sum()/train_df.VehicleSearchedIndicator[np.equal(train_df.SubjectRaceCode, \"B\") & np.equal(train_df['ReportingOfficerIdentificationID'], i)].sum()\n",
    "        precision_indian = train_df.ContrabandIndicator[np.equal(train_df.SubjectRaceCode, \"I\") & np.equal(train_df['ReportingOfficerIdentificationID'], i)].sum()/train_df.VehicleSearchedIndicator[np.equal(train_df.SubjectRaceCode, \"I\") & np.equal(train_df['ReportingOfficerIdentificationID'], i)].sum()\n",
    "        precision_asian = train_df.ContrabandIndicator[np.equal(train_df.SubjectRaceCode, \"A\") & np.equal(train_df['ReportingOfficerIdentificationID'], i)].sum()/train_df.VehicleSearchedIndicator[np.equal(train_df.SubjectRaceCode, \"A\") & np.equal(train_df['ReportingOfficerIdentificationID'], i)].sum()\n",
    "        test_list = [precision_male, precision_female]\n",
    "        test_list_2 = [precision_hispanic, precision_middle_east, precision_not_applicable_ethnicity]\n",
    "        test_list_3 = [precision_white, precision_black, precision_indian, precision_asian]\n",
    "        res = max(combinations(test_list, 2), key = lambda sub: abs(sub[0]-sub[1]))\n",
    "        res_2 = max(combinations(test_list_2, 2), key = lambda sub: abs(sub[0]-sub[1]))\n",
    "        res_3 = max(combinations(test_list_3, 2), key = lambda sub: abs(sub[0]-sub[1]))\n",
    "        if(((abs(res[0]-res[1]) > 0.9) & ((abs(res[0]-res[1]) <= 1))) | ((abs(res_2[0]-res_2[1]) > 0.9) & (abs(res_2[0]-res_2[1]) <= 1)) | ((abs(res_3[0]-res_3[1]) > 0.9) & (abs(res_3[0]-res_3[1]) <=1))):\n",
    "            differences_of_bigger_than_0dot9_officer.append(i)\n",
    "print(differences_of_bigger_than_0dot9_officer)"
   ]
  },
  {
   "cell_type": "code",
   "execution_count": 114,
   "metadata": {},
   "outputs": [
    {
     "data": {
      "text/plain": [
       "0.3692975255072124"
      ]
     },
     "execution_count": 114,
     "metadata": {},
     "output_type": "execute_result"
    }
   ],
   "source": [
    "precision_global = train_df.ContrabandIndicator.sum()/train_df.VehicleSearchedIndicator.sum()\n",
    "precision_global"
   ]
  },
  {
   "cell_type": "markdown",
   "metadata": {},
   "source": [
    "Section Model expected outcomes overview"
   ]
  },
  {
   "cell_type": "code",
   "execution_count": 117,
   "metadata": {},
   "outputs": [
    {
     "data": {
      "text/plain": [
       "N    67\n",
       "H    28\n",
       "M     1\n",
       "Name: SubjectEthnicityCode, dtype: int64"
      ]
     },
     "execution_count": 117,
     "metadata": {},
     "output_type": "execute_result"
    }
   ],
   "source": [
    "train_df[train_df['Department Name'] == 'WCSU'].SubjectEthnicityCode.value_counts()"
   ]
  },
  {
   "cell_type": "markdown",
   "metadata": {},
   "source": [
    "Section Model specifications.\n",
    "Regarding this section, the code is in the notebook that contains the pipeline and in transformers.py. Please note that some phrases (e.g. the binary encoder gave a little improvement in roc_auc compared to the ordinal encoder) can't be confirmed in the notebook. You will have to trust me on those claims :) both sources of code contain only the final version "
   ]
  },
  {
   "cell_type": "markdown",
   "metadata": {},
   "source": [
    "Section Analysis of expected outcomes based on training set. The code is in the notebook that contains the pipeline"
   ]
  },
  {
   "cell_type": "markdown",
   "metadata": {},
   "source": [
    "Section Alternatives considered. As described earlier, there is no code to prove this section"
   ]
  },
  {
   "cell_type": "markdown",
   "metadata": {},
   "source": [
    "Section Model Dataset technical analysis"
   ]
  },
  {
   "cell_type": "code",
   "execution_count": 38,
   "metadata": {},
   "outputs": [
    {
     "data": {
      "text/plain": [
       "VehicleSearchedIndicator               bool\n",
       "ContrabandIndicator                    bool\n",
       "Department Name                      object\n",
       "InterventionDateTime                 object\n",
       "InterventionLocationName             object\n",
       "InterventionReasonCode               object\n",
       "ReportingOfficerIdentificationID     object\n",
       "ResidentIndicator                      bool\n",
       "SearchAuthorizationCode              object\n",
       "StatuteReason                        object\n",
       "SubjectAge                          float64\n",
       "SubjectEthnicityCode                 object\n",
       "SubjectRaceCode                      object\n",
       "SubjectSexCode                       object\n",
       "TownResidentIndicator                  bool\n",
       "dtype: object"
      ]
     },
     "execution_count": 38,
     "metadata": {},
     "output_type": "execute_result"
    }
   ],
   "source": [
    "train_df.dtypes"
   ]
  },
  {
   "cell_type": "code",
   "execution_count": 39,
   "metadata": {},
   "outputs": [
    {
     "data": {
      "text/html": [
       "<div>\n",
       "<style scoped>\n",
       "    .dataframe tbody tr th:only-of-type {\n",
       "        vertical-align: middle;\n",
       "    }\n",
       "\n",
       "    .dataframe tbody tr th {\n",
       "        vertical-align: top;\n",
       "    }\n",
       "\n",
       "    .dataframe thead th {\n",
       "        text-align: right;\n",
       "    }\n",
       "</style>\n",
       "<table border=\"1\" class=\"dataframe\">\n",
       "  <thead>\n",
       "    <tr style=\"text-align: right;\">\n",
       "      <th></th>\n",
       "      <th>SubjectAge</th>\n",
       "    </tr>\n",
       "  </thead>\n",
       "  <tbody>\n",
       "    <tr>\n",
       "      <th>count</th>\n",
       "      <td>245299.000000</td>\n",
       "    </tr>\n",
       "    <tr>\n",
       "      <th>mean</th>\n",
       "      <td>38.665355</td>\n",
       "    </tr>\n",
       "    <tr>\n",
       "      <th>std</th>\n",
       "      <td>14.971412</td>\n",
       "    </tr>\n",
       "    <tr>\n",
       "      <th>min</th>\n",
       "      <td>1.000000</td>\n",
       "    </tr>\n",
       "    <tr>\n",
       "      <th>20%</th>\n",
       "      <td>24.000000</td>\n",
       "    </tr>\n",
       "    <tr>\n",
       "      <th>40%</th>\n",
       "      <td>31.000000</td>\n",
       "    </tr>\n",
       "    <tr>\n",
       "      <th>50%</th>\n",
       "      <td>36.000000</td>\n",
       "    </tr>\n",
       "    <tr>\n",
       "      <th>60%</th>\n",
       "      <td>41.000000</td>\n",
       "    </tr>\n",
       "    <tr>\n",
       "      <th>80%</th>\n",
       "      <td>53.000000</td>\n",
       "    </tr>\n",
       "    <tr>\n",
       "      <th>max</th>\n",
       "      <td>99.000000</td>\n",
       "    </tr>\n",
       "  </tbody>\n",
       "</table>\n",
       "</div>"
      ],
      "text/plain": [
       "          SubjectAge\n",
       "count  245299.000000\n",
       "mean       38.665355\n",
       "std        14.971412\n",
       "min         1.000000\n",
       "20%        24.000000\n",
       "40%        31.000000\n",
       "50%        36.000000\n",
       "60%        41.000000\n",
       "80%        53.000000\n",
       "max        99.000000"
      ]
     },
     "execution_count": 39,
     "metadata": {},
     "output_type": "execute_result"
    }
   ],
   "source": [
    "# percentile list \n",
    "perc =[.20, .40, .60, .80] \n",
    "  \n",
    "# list of dtypes to include \n",
    "include =['float64']\n",
    "\n",
    "# calling describe method \n",
    "desc = train_df.describe(percentiles = perc, include = include) \n",
    "desc "
   ]
  },
  {
   "cell_type": "code",
   "execution_count": 40,
   "metadata": {},
   "outputs": [
    {
     "data": {
      "text/plain": [
       "array([ 1.,  2.,  3.,  4.,  5.,  6.,  7.,  8., 10., 11., 12., 13., 14.,\n",
       "       15., 16., 17., 18., 19., 20., 21., 22., 23., 24., 25., 26., 27.,\n",
       "       28., 29., 30., 31., 32., 33., 34., 35., 36., 37., 38., 39., 40.,\n",
       "       41., 42., 43., 44., 45., 46., 47., 48., 49., 50., 51., 52., 53.,\n",
       "       54., 55., 56., 57., 58., 59., 60., 61., 62., 63., 64., 65., 66.,\n",
       "       67., 68., 69., 70., 71., 72., 73., 74., 75., 76., 77., 78., 79.,\n",
       "       80., 81., 82., 83., 84., 85., 86., 87., 88., 89., 90., 91., 92.,\n",
       "       93., 94., 95., 96., 97., 98., 99.])"
      ]
     },
     "execution_count": 40,
     "metadata": {},
     "output_type": "execute_result"
    }
   ],
   "source": [
    "np.unique(train_df.SubjectAge.values)"
   ]
  },
  {
   "cell_type": "code",
   "execution_count": 41,
   "metadata": {},
   "outputs": [
    {
     "data": {
      "text/html": [
       "<div>\n",
       "<style scoped>\n",
       "    .dataframe tbody tr th:only-of-type {\n",
       "        vertical-align: middle;\n",
       "    }\n",
       "\n",
       "    .dataframe tbody tr th {\n",
       "        vertical-align: top;\n",
       "    }\n",
       "\n",
       "    .dataframe thead th {\n",
       "        text-align: right;\n",
       "    }\n",
       "</style>\n",
       "<table border=\"1\" class=\"dataframe\">\n",
       "  <thead>\n",
       "    <tr style=\"text-align: right;\">\n",
       "      <th></th>\n",
       "      <th>Department Name</th>\n",
       "      <th>InterventionDateTime</th>\n",
       "      <th>InterventionLocationName</th>\n",
       "      <th>InterventionReasonCode</th>\n",
       "      <th>ReportingOfficerIdentificationID</th>\n",
       "      <th>SearchAuthorizationCode</th>\n",
       "      <th>StatuteReason</th>\n",
       "      <th>SubjectEthnicityCode</th>\n",
       "      <th>SubjectRaceCode</th>\n",
       "      <th>SubjectSexCode</th>\n",
       "    </tr>\n",
       "  </thead>\n",
       "  <tbody>\n",
       "    <tr>\n",
       "      <th>count</th>\n",
       "      <td>245299</td>\n",
       "      <td>245299</td>\n",
       "      <td>245295</td>\n",
       "      <td>245299</td>\n",
       "      <td>245299</td>\n",
       "      <td>245298</td>\n",
       "      <td>245246</td>\n",
       "      <td>245299</td>\n",
       "      <td>245299</td>\n",
       "      <td>245299</td>\n",
       "    </tr>\n",
       "    <tr>\n",
       "      <th>unique</th>\n",
       "      <td>119</td>\n",
       "      <td>227602</td>\n",
       "      <td>1033</td>\n",
       "      <td>3</td>\n",
       "      <td>6797</td>\n",
       "      <td>4</td>\n",
       "      <td>18</td>\n",
       "      <td>3</td>\n",
       "      <td>4</td>\n",
       "      <td>2</td>\n",
       "    </tr>\n",
       "    <tr>\n",
       "      <th>top</th>\n",
       "      <td>State Police</td>\n",
       "      <td>03/14/2014 12:00:00 AM</td>\n",
       "      <td>NEW HAVEN</td>\n",
       "      <td>V</td>\n",
       "      <td>790642042</td>\n",
       "      <td>N</td>\n",
       "      <td>Speed Related</td>\n",
       "      <td>N</td>\n",
       "      <td>W</td>\n",
       "      <td>M</td>\n",
       "    </tr>\n",
       "    <tr>\n",
       "      <th>freq</th>\n",
       "      <td>32285</td>\n",
       "      <td>30</td>\n",
       "      <td>7965</td>\n",
       "      <td>215867</td>\n",
       "      <td>855</td>\n",
       "      <td>236505</td>\n",
       "      <td>67779</td>\n",
       "      <td>208129</td>\n",
       "      <td>200301</td>\n",
       "      <td>155082</td>\n",
       "    </tr>\n",
       "  </tbody>\n",
       "</table>\n",
       "</div>"
      ],
      "text/plain": [
       "       Department Name    InterventionDateTime InterventionLocationName  \\\n",
       "count           245299                  245299                   245295   \n",
       "unique             119                  227602                     1033   \n",
       "top       State Police  03/14/2014 12:00:00 AM                NEW HAVEN   \n",
       "freq             32285                      30                     7965   \n",
       "\n",
       "       InterventionReasonCode ReportingOfficerIdentificationID  \\\n",
       "count                  245299                           245299   \n",
       "unique                      3                             6797   \n",
       "top                         V                        790642042   \n",
       "freq                   215867                              855   \n",
       "\n",
       "       SearchAuthorizationCode  StatuteReason SubjectEthnicityCode  \\\n",
       "count                   245298         245246               245299   \n",
       "unique                       4             18                    3   \n",
       "top                          N  Speed Related                    N   \n",
       "freq                    236505          67779               208129   \n",
       "\n",
       "       SubjectRaceCode SubjectSexCode  \n",
       "count           245299         245299  \n",
       "unique               4              2  \n",
       "top                  W              M  \n",
       "freq            200301         155082  "
      ]
     },
     "execution_count": 41,
     "metadata": {},
     "output_type": "execute_result"
    }
   ],
   "source": [
    "include =['object']\n",
    "  \n",
    "# calling describe method \n",
    "desc = train_df.describe(percentiles = perc, include = include) \n",
    "desc "
   ]
  },
  {
   "cell_type": "code",
   "execution_count": 42,
   "metadata": {},
   "outputs": [
    {
     "data": {
      "text/html": [
       "<div>\n",
       "<style scoped>\n",
       "    .dataframe tbody tr th:only-of-type {\n",
       "        vertical-align: middle;\n",
       "    }\n",
       "\n",
       "    .dataframe tbody tr th {\n",
       "        vertical-align: top;\n",
       "    }\n",
       "\n",
       "    .dataframe thead th {\n",
       "        text-align: right;\n",
       "    }\n",
       "</style>\n",
       "<table border=\"1\" class=\"dataframe\">\n",
       "  <thead>\n",
       "    <tr style=\"text-align: right;\">\n",
       "      <th></th>\n",
       "      <th>VehicleSearchedIndicator</th>\n",
       "      <th>ContrabandIndicator</th>\n",
       "      <th>ResidentIndicator</th>\n",
       "      <th>TownResidentIndicator</th>\n",
       "    </tr>\n",
       "  </thead>\n",
       "  <tbody>\n",
       "    <tr>\n",
       "      <th>count</th>\n",
       "      <td>245299</td>\n",
       "      <td>245299</td>\n",
       "      <td>245299</td>\n",
       "      <td>245299</td>\n",
       "    </tr>\n",
       "    <tr>\n",
       "      <th>unique</th>\n",
       "      <td>2</td>\n",
       "      <td>2</td>\n",
       "      <td>2</td>\n",
       "      <td>2</td>\n",
       "    </tr>\n",
       "    <tr>\n",
       "      <th>top</th>\n",
       "      <td>False</td>\n",
       "      <td>False</td>\n",
       "      <td>True</td>\n",
       "      <td>False</td>\n",
       "    </tr>\n",
       "    <tr>\n",
       "      <th>freq</th>\n",
       "      <td>237771</td>\n",
       "      <td>242529</td>\n",
       "      <td>211305</td>\n",
       "      <td>168722</td>\n",
       "    </tr>\n",
       "  </tbody>\n",
       "</table>\n",
       "</div>"
      ],
      "text/plain": [
       "       VehicleSearchedIndicator ContrabandIndicator ResidentIndicator  \\\n",
       "count                    245299              245299            245299   \n",
       "unique                        2                   2                 2   \n",
       "top                       False               False              True   \n",
       "freq                     237771              242529            211305   \n",
       "\n",
       "       TownResidentIndicator  \n",
       "count                 245299  \n",
       "unique                     2  \n",
       "top                    False  \n",
       "freq                  168722  "
      ]
     },
     "execution_count": 42,
     "metadata": {},
     "output_type": "execute_result"
    }
   ],
   "source": [
    "include =['bool']\n",
    "  \n",
    "# calling describe method \n",
    "desc = train_df.describe(percentiles = perc, include = include) \n",
    "desc "
   ]
  },
  {
   "cell_type": "code",
   "execution_count": 43,
   "metadata": {},
   "outputs": [
    {
     "data": {
      "text/plain": [
       "False    237771\n",
       "True       7528\n",
       "Name: VehicleSearchedIndicator, dtype: int64"
      ]
     },
     "execution_count": 43,
     "metadata": {},
     "output_type": "execute_result"
    }
   ],
   "source": [
    "train_df.VehicleSearchedIndicator.value_counts()"
   ]
  },
  {
   "cell_type": "code",
   "execution_count": 44,
   "metadata": {},
   "outputs": [
    {
     "data": {
      "text/plain": [
       "0.031089054809546917"
      ]
     },
     "execution_count": 44,
     "metadata": {},
     "output_type": "execute_result"
    }
   ],
   "source": [
    "7624/(237607+7624)"
   ]
  },
  {
   "cell_type": "code",
   "execution_count": 45,
   "metadata": {},
   "outputs": [
    {
     "data": {
      "text/plain": [
       "False    242529\n",
       "True       2770\n",
       "Name: ContrabandIndicator, dtype: int64"
      ]
     },
     "execution_count": 45,
     "metadata": {},
     "output_type": "execute_result"
    }
   ],
   "source": [
    "train_df.ContrabandIndicator.value_counts()"
   ]
  },
  {
   "cell_type": "code",
   "execution_count": 46,
   "metadata": {},
   "outputs": [
    {
     "data": {
      "text/plain": [
       "0.011576839795947494"
      ]
     },
     "execution_count": 46,
     "metadata": {},
     "output_type": "execute_result"
    }
   ],
   "source": [
    "2839/(242392+2839)"
   ]
  },
  {
   "cell_type": "code",
   "execution_count": 47,
   "metadata": {},
   "outputs": [
    {
     "data": {
      "text/plain": [
       "False    5042\n",
       "True     2486\n",
       "Name: ContrabandIndicator, dtype: int64"
      ]
     },
     "execution_count": 47,
     "metadata": {},
     "output_type": "execute_result"
    }
   ],
   "source": [
    "train_df[train_df.VehicleSearchedIndicator == True].ContrabandIndicator.value_counts()"
   ]
  },
  {
   "cell_type": "code",
   "execution_count": 48,
   "metadata": {},
   "outputs": [
    {
     "data": {
      "text/plain": [
       "0.3330272822665268"
      ]
     },
     "execution_count": 48,
     "metadata": {},
     "output_type": "execute_result"
    }
   ],
   "source": [
    "2539/(5085+2539)"
   ]
  },
  {
   "cell_type": "code",
   "execution_count": 58,
   "metadata": {},
   "outputs": [
    {
     "data": {
      "text/plain": [
       "VehicleSearchedIndicator              0\n",
       "ContrabandIndicator                   0\n",
       "Department Name                       0\n",
       "InterventionDateTime                  0\n",
       "InterventionLocationName             36\n",
       "InterventionReasonCode                2\n",
       "ReportingOfficerIdentificationID      2\n",
       "ResidentIndicator                     0\n",
       "SearchAuthorizationCode              10\n",
       "StatuteReason                       507\n",
       "SubjectAge                            0\n",
       "SubjectEthnicityCode                  0\n",
       "SubjectRaceCode                       0\n",
       "SubjectSexCode                        0\n",
       "TownResidentIndicator                 0\n",
       "dtype: int64"
      ]
     },
     "execution_count": 58,
     "metadata": {},
     "output_type": "execute_result"
    }
   ],
   "source": [
    "train_df.isnull().sum()"
   ]
  },
  {
   "cell_type": "code",
   "execution_count": 50,
   "metadata": {},
   "outputs": [
    {
     "data": {
      "text/plain": [
       "(245299, 15)"
      ]
     },
     "execution_count": 50,
     "metadata": {},
     "output_type": "execute_result"
    }
   ],
   "source": [
    "train_df.shape"
   ]
  },
  {
   "cell_type": "code",
   "execution_count": 61,
   "metadata": {},
   "outputs": [
    {
     "data": {
      "text/plain": [
       "(204756, 15)"
      ]
     },
     "execution_count": 61,
     "metadata": {},
     "output_type": "execute_result"
    }
   ],
   "source": [
    "duplicate_rows_df = train_df[train_df.duplicated()]\n",
    "duplicate_rows_df.shape"
   ]
  },
  {
   "cell_type": "code",
   "execution_count": 60,
   "metadata": {},
   "outputs": [
    {
     "data": {
      "text/plain": [
       "(2473643, 15)"
      ]
     },
     "execution_count": 60,
     "metadata": {},
     "output_type": "execute_result"
    }
   ],
   "source": [
    "train_df.shape"
   ]
  },
  {
   "cell_type": "code",
   "execution_count": 62,
   "metadata": {},
   "outputs": [
    {
     "data": {
      "text/plain": [
       "0.08277508112528768"
      ]
     },
     "execution_count": 62,
     "metadata": {},
     "output_type": "execute_result"
    }
   ],
   "source": [
    "204756/2473643"
   ]
  },
  {
   "cell_type": "code",
   "execution_count": 64,
   "metadata": {},
   "outputs": [
    {
     "data": {
      "image/png": "[encoded data removed]",
      "text/plain": [
       "<Figure size 576x576 with 1 Axes>"
      ]
     },
     "metadata": {
      "needs_background": "light"
     },
     "output_type": "display_data"
    }
   ],
   "source": [
    "inches_wide = 8\n",
    "inches_high = 8\n",
    "plt.rcParams[\"figure.figsize\"] = [inches_wide, inches_high]\n",
    "ax = train_df.SubjectAge.plot.hist(xlim=(0,100), bins=100, color='red', xticks = [0, 10, 16, 20, 40, 60, 80, 100], title = \"Age Distribution\");\n",
    "ax.set_xlabel(\"Age\")\n",
    "axis = plt.gca();"
   ]
  },
  {
   "cell_type": "code",
   "execution_count": 66,
   "metadata": {},
   "outputs": [
    {
     "data": {
      "text/html": [
       "<div>\n",
       "<style scoped>\n",
       "    .dataframe tbody tr th:only-of-type {\n",
       "        vertical-align: middle;\n",
       "    }\n",
       "\n",
       "    .dataframe tbody tr th {\n",
       "        vertical-align: top;\n",
       "    }\n",
       "\n",
       "    .dataframe thead th {\n",
       "        text-align: right;\n",
       "    }\n",
       "</style>\n",
       "<table border=\"1\" class=\"dataframe\">\n",
       "  <thead>\n",
       "    <tr style=\"text-align: right;\">\n",
       "      <th></th>\n",
       "      <th>VehicleSearchedIndicator</th>\n",
       "      <th>ContrabandIndicator</th>\n",
       "      <th>ResidentIndicator</th>\n",
       "      <th>SubjectAge</th>\n",
       "      <th>TownResidentIndicator</th>\n",
       "    </tr>\n",
       "  </thead>\n",
       "  <tbody>\n",
       "    <tr>\n",
       "      <th>VehicleSearchedIndicator</th>\n",
       "      <td>1.000000</td>\n",
       "      <td>0.539806</td>\n",
       "      <td>0.026562</td>\n",
       "      <td>-0.097302</td>\n",
       "      <td>0.032913</td>\n",
       "    </tr>\n",
       "    <tr>\n",
       "      <th>ContrabandIndicator</th>\n",
       "      <td>0.539806</td>\n",
       "      <td>1.000000</td>\n",
       "      <td>0.014080</td>\n",
       "      <td>-0.071966</td>\n",
       "      <td>0.015359</td>\n",
       "    </tr>\n",
       "    <tr>\n",
       "      <th>ResidentIndicator</th>\n",
       "      <td>0.026562</td>\n",
       "      <td>0.014080</td>\n",
       "      <td>1.000000</td>\n",
       "      <td>-0.002696</td>\n",
       "      <td>0.156544</td>\n",
       "    </tr>\n",
       "    <tr>\n",
       "      <th>SubjectAge</th>\n",
       "      <td>-0.097302</td>\n",
       "      <td>-0.071966</td>\n",
       "      <td>-0.002696</td>\n",
       "      <td>1.000000</td>\n",
       "      <td>0.023212</td>\n",
       "    </tr>\n",
       "    <tr>\n",
       "      <th>TownResidentIndicator</th>\n",
       "      <td>0.032913</td>\n",
       "      <td>0.015359</td>\n",
       "      <td>0.156544</td>\n",
       "      <td>0.023212</td>\n",
       "      <td>1.000000</td>\n",
       "    </tr>\n",
       "  </tbody>\n",
       "</table>\n",
       "</div>"
      ],
      "text/plain": [
       "                          VehicleSearchedIndicator  ContrabandIndicator  \\\n",
       "VehicleSearchedIndicator                  1.000000             0.539806   \n",
       "ContrabandIndicator                       0.539806             1.000000   \n",
       "ResidentIndicator                         0.026562             0.014080   \n",
       "SubjectAge                               -0.097302            -0.071966   \n",
       "TownResidentIndicator                     0.032913             0.015359   \n",
       "\n",
       "                          ResidentIndicator  SubjectAge  TownResidentIndicator  \n",
       "VehicleSearchedIndicator           0.026562   -0.097302               0.032913  \n",
       "ContrabandIndicator                0.014080   -0.071966               0.015359  \n",
       "ResidentIndicator                  1.000000   -0.002696               0.156544  \n",
       "SubjectAge                        -0.002696    1.000000               0.023212  \n",
       "TownResidentIndicator              0.156544    0.023212               1.000000  "
      ]
     },
     "execution_count": 66,
     "metadata": {},
     "output_type": "execute_result"
    }
   ],
   "source": [
    "corr = train_df.corr()\n",
    "corr"
   ]
  },
  {
   "cell_type": "code",
   "execution_count": 67,
   "metadata": {},
   "outputs": [
    {
     "data": {
      "text/plain": [
       "False    2394077\n",
       "True        2823\n",
       "Name: ContrabandIndicator, dtype: int64"
      ]
     },
     "execution_count": 67,
     "metadata": {},
     "output_type": "execute_result"
    }
   ],
   "source": [
    "train_df[train_df.VehicleSearchedIndicator == False].ContrabandIndicator.value_counts()"
   ]
  },
  {
   "cell_type": "code",
   "execution_count": 69,
   "metadata": {},
   "outputs": [
    {
     "data": {
      "text/html": [
       "<div>\n",
       "<style scoped>\n",
       "    .dataframe tbody tr th:only-of-type {\n",
       "        vertical-align: middle;\n",
       "    }\n",
       "\n",
       "    .dataframe tbody tr th {\n",
       "        vertical-align: top;\n",
       "    }\n",
       "\n",
       "    .dataframe thead th {\n",
       "        text-align: right;\n",
       "    }\n",
       "</style>\n",
       "<table border=\"1\" class=\"dataframe\">\n",
       "  <thead>\n",
       "    <tr style=\"text-align: right;\">\n",
       "      <th></th>\n",
       "      <th>count</th>\n",
       "      <th>unique</th>\n",
       "      <th>top</th>\n",
       "      <th>freq</th>\n",
       "    </tr>\n",
       "  </thead>\n",
       "  <tbody>\n",
       "    <tr>\n",
       "      <th>VehicleSearchedIndicator</th>\n",
       "      <td>2473643</td>\n",
       "      <td>2</td>\n",
       "      <td>False</td>\n",
       "      <td>2396900</td>\n",
       "    </tr>\n",
       "    <tr>\n",
       "      <th>ContrabandIndicator</th>\n",
       "      <td>2473643</td>\n",
       "      <td>2</td>\n",
       "      <td>False</td>\n",
       "      <td>2445302</td>\n",
       "    </tr>\n",
       "    <tr>\n",
       "      <th>Department Name</th>\n",
       "      <td>2473643</td>\n",
       "      <td>122</td>\n",
       "      <td>State Police</td>\n",
       "      <td>322003</td>\n",
       "    </tr>\n",
       "    <tr>\n",
       "      <th>InterventionDateTime</th>\n",
       "      <td>2473643</td>\n",
       "      <td>1450465</td>\n",
       "      <td>03/07/2014 12:00:00 AM</td>\n",
       "      <td>270</td>\n",
       "    </tr>\n",
       "    <tr>\n",
       "      <th>InterventionLocationName</th>\n",
       "      <td>2473607</td>\n",
       "      <td>2504</td>\n",
       "      <td>NEW HAVEN</td>\n",
       "      <td>81216</td>\n",
       "    </tr>\n",
       "    <tr>\n",
       "      <th>InterventionReasonCode</th>\n",
       "      <td>2473641</td>\n",
       "      <td>4</td>\n",
       "      <td>V</td>\n",
       "      <td>2179595</td>\n",
       "    </tr>\n",
       "    <tr>\n",
       "      <th>ReportingOfficerIdentificationID</th>\n",
       "      <td>2473641</td>\n",
       "      <td>8593</td>\n",
       "      <td>790642042</td>\n",
       "      <td>8524</td>\n",
       "    </tr>\n",
       "    <tr>\n",
       "      <th>ResidentIndicator</th>\n",
       "      <td>2473643</td>\n",
       "      <td>2</td>\n",
       "      <td>True</td>\n",
       "      <td>2131034</td>\n",
       "    </tr>\n",
       "    <tr>\n",
       "      <th>SearchAuthorizationCode</th>\n",
       "      <td>2473633</td>\n",
       "      <td>4</td>\n",
       "      <td>N</td>\n",
       "      <td>2384830</td>\n",
       "    </tr>\n",
       "    <tr>\n",
       "      <th>StatuteReason</th>\n",
       "      <td>2473136</td>\n",
       "      <td>18</td>\n",
       "      <td>Speed Related</td>\n",
       "      <td>681119</td>\n",
       "    </tr>\n",
       "    <tr>\n",
       "      <th>SubjectEthnicityCode</th>\n",
       "      <td>2473643</td>\n",
       "      <td>3</td>\n",
       "      <td>N</td>\n",
       "      <td>2099632</td>\n",
       "    </tr>\n",
       "    <tr>\n",
       "      <th>SubjectRaceCode</th>\n",
       "      <td>2473643</td>\n",
       "      <td>4</td>\n",
       "      <td>W</td>\n",
       "      <td>2018931</td>\n",
       "    </tr>\n",
       "    <tr>\n",
       "      <th>SubjectSexCode</th>\n",
       "      <td>2473643</td>\n",
       "      <td>2</td>\n",
       "      <td>M</td>\n",
       "      <td>1563180</td>\n",
       "    </tr>\n",
       "    <tr>\n",
       "      <th>TownResidentIndicator</th>\n",
       "      <td>2473643</td>\n",
       "      <td>2</td>\n",
       "      <td>False</td>\n",
       "      <td>1702011</td>\n",
       "    </tr>\n",
       "  </tbody>\n",
       "</table>\n",
       "</div>"
      ],
      "text/plain": [
       "                                    count   unique                     top  \\\n",
       "VehicleSearchedIndicator          2473643        2                   False   \n",
       "ContrabandIndicator               2473643        2                   False   \n",
       "Department Name                   2473643      122            State Police   \n",
       "InterventionDateTime              2473643  1450465  03/07/2014 12:00:00 AM   \n",
       "InterventionLocationName          2473607     2504               NEW HAVEN   \n",
       "InterventionReasonCode            2473641        4                       V   \n",
       "ReportingOfficerIdentificationID  2473641     8593               790642042   \n",
       "ResidentIndicator                 2473643        2                    True   \n",
       "SearchAuthorizationCode           2473633        4                       N   \n",
       "StatuteReason                     2473136       18           Speed Related   \n",
       "SubjectEthnicityCode              2473643        3                       N   \n",
       "SubjectRaceCode                   2473643        4                       W   \n",
       "SubjectSexCode                    2473643        2                       M   \n",
       "TownResidentIndicator             2473643        2                   False   \n",
       "\n",
       "                                     freq  \n",
       "VehicleSearchedIndicator          2396900  \n",
       "ContrabandIndicator               2445302  \n",
       "Department Name                    322003  \n",
       "InterventionDateTime                  270  \n",
       "InterventionLocationName            81216  \n",
       "InterventionReasonCode            2179595  \n",
       "ReportingOfficerIdentificationID     8524  \n",
       "ResidentIndicator                 2131034  \n",
       "SearchAuthorizationCode           2384830  \n",
       "StatuteReason                      681119  \n",
       "SubjectEthnicityCode              2099632  \n",
       "SubjectRaceCode                   2018931  \n",
       "SubjectSexCode                    1563180  \n",
       "TownResidentIndicator             1702011  "
      ]
     },
     "execution_count": 69,
     "metadata": {},
     "output_type": "execute_result"
    }
   ],
   "source": [
    "cardinality = train_df.describe(exclude=np.number).T\n",
    "cardinality"
   ]
  },
  {
   "cell_type": "code",
   "execution_count": null,
   "metadata": {},
   "outputs": [],
   "source": [
    "train_df[train_df.SubjectEthnicityCode == 'M'].tail()"
   ]
  },
  {
   "cell_type": "markdown",
   "metadata": {},
   "source": [
    "Section Model technical analysis. Code is in the notebook that contains the pipeline"
   ]
  },
  {
   "cell_type": "code",
   "execution_count": null,
   "metadata": {},
   "outputs": [],
   "source": []
  }
 ],
 "metadata": {
  "kernelspec": {
   "display_name": "Python 3",
   "language": "python",
   "name": "python3"
  },
  "language_info": {
   "codemirror_mode": {
    "name": "ipython",
    "version": 3
   },
   "file_extension": ".py",
   "mimetype": "text/x-python",
   "name": "python",
   "nbconvert_exporter": "python",
   "pygments_lexer": "ipython3",
   "version": "3.7.3"
  }
 },
 "nbformat": 4,
 "nbformat_minor": 2
}

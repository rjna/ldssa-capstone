{
 "cells": [
  {
   "cell_type": "code",
   "execution_count": 1,
   "metadata": {},
   "outputs": [],
   "source": [
    "import pandas as pd\n",
    "import os\n",
    "import matplotlib.pyplot as plt\n",
    "from sklearn.metrics import confusion_matrix\n",
    "import numpy as np\n",
    "import category_encoders as ce\n",
    "from sklearn.model_selection import cross_val_predict\n",
    "from sklearn.ensemble import RandomForestClassifier\n",
    "from sklearn.metrics import recall_score, precision_score, accuracy_score,precision_recall_curve\n",
    "from sklearn.base import TransformerMixin, ClassifierMixin\n",
    "from sklearn.pipeline import Pipeline\n",
    "from category_encoders.target_encoder import TargetEncoder\n",
    "from category_encoders.binary import BinaryEncoder\n",
    "import category_encoders as ce\n",
    "import pickle\n",
    "import json\n",
    "from sklearn.model_selection import cross_val_score\n",
    "from sklearn.metrics import roc_auc_score\n",
    "from sklearn.model_selection import train_test_split\n",
    "import os\n",
    "from sklearn.pipeline import make_pipeline\n",
    "from sklearn.impute import SimpleImputer\n",
    "from sklearn.utils import resample\n",
    "from sklearn.metrics import roc_curve, auc\n",
    "from itertools import combinations \n",
    "from sklearn.model_selection import TimeSeriesSplit\n",
    "from sklearn.model_selection import cross_val_score, cross_validate\n",
    "\n",
    "from transformers import (\n",
    "    Test, \n",
    "    CreateCyclicalFeatures, \n",
    "    CategoricalDataCleaning, \n",
    "    NumericalDataCleaning\n",
    ")\n",
    "\n",
    "RANDOM_STATE = 1"
   ]
  },
  {
   "cell_type": "code",
   "execution_count": 2,
   "metadata": {
    "scrolled": true
   },
   "outputs": [
    {
     "data": {
      "text/html": [
       "<div>\n",
       "<style scoped>\n",
       "    .dataframe tbody tr th:only-of-type {\n",
       "        vertical-align: middle;\n",
       "    }\n",
       "\n",
       "    .dataframe tbody tr th {\n",
       "        vertical-align: top;\n",
       "    }\n",
       "\n",
       "    .dataframe thead th {\n",
       "        text-align: right;\n",
       "    }\n",
       "</style>\n",
       "<table border=\"1\" class=\"dataframe\">\n",
       "  <thead>\n",
       "    <tr style=\"text-align: right;\">\n",
       "      <th></th>\n",
       "      <th>VehicleSearchedIndicator</th>\n",
       "      <th>ContrabandIndicator</th>\n",
       "      <th>Department Name</th>\n",
       "      <th>InterventionDateTime</th>\n",
       "      <th>InterventionLocationName</th>\n",
       "      <th>InterventionReasonCode</th>\n",
       "      <th>ReportingOfficerIdentificationID</th>\n",
       "      <th>ResidentIndicator</th>\n",
       "      <th>SearchAuthorizationCode</th>\n",
       "      <th>StatuteReason</th>\n",
       "      <th>SubjectAge</th>\n",
       "      <th>SubjectEthnicityCode</th>\n",
       "      <th>SubjectRaceCode</th>\n",
       "      <th>SubjectSexCode</th>\n",
       "      <th>TownResidentIndicator</th>\n",
       "    </tr>\n",
       "  </thead>\n",
       "  <tbody>\n",
       "    <tr>\n",
       "      <th>0</th>\n",
       "      <td>False</td>\n",
       "      <td>False</td>\n",
       "      <td>New Haven</td>\n",
       "      <td>10/01/2013 12:00:00 AM</td>\n",
       "      <td>NEW HAVEN</td>\n",
       "      <td>V</td>\n",
       "      <td>262</td>\n",
       "      <td>True</td>\n",
       "      <td>N</td>\n",
       "      <td>Stop Sign</td>\n",
       "      <td>31.0</td>\n",
       "      <td>H</td>\n",
       "      <td>W</td>\n",
       "      <td>M</td>\n",
       "      <td>True</td>\n",
       "    </tr>\n",
       "    <tr>\n",
       "      <th>1</th>\n",
       "      <td>False</td>\n",
       "      <td>False</td>\n",
       "      <td>State Police</td>\n",
       "      <td>10/01/2013 12:00:00 AM</td>\n",
       "      <td>WILLINGTON</td>\n",
       "      <td>V</td>\n",
       "      <td>1000002715</td>\n",
       "      <td>False</td>\n",
       "      <td>N</td>\n",
       "      <td>Other</td>\n",
       "      <td>29.0</td>\n",
       "      <td>M</td>\n",
       "      <td>W</td>\n",
       "      <td>M</td>\n",
       "      <td>False</td>\n",
       "    </tr>\n",
       "    <tr>\n",
       "      <th>2</th>\n",
       "      <td>False</td>\n",
       "      <td>False</td>\n",
       "      <td>Plymouth</td>\n",
       "      <td>10/01/2013 12:00:00 AM</td>\n",
       "      <td>Terryville</td>\n",
       "      <td>V</td>\n",
       "      <td>21</td>\n",
       "      <td>True</td>\n",
       "      <td>N</td>\n",
       "      <td>Speed Related</td>\n",
       "      <td>18.0</td>\n",
       "      <td>N</td>\n",
       "      <td>W</td>\n",
       "      <td>M</td>\n",
       "      <td>True</td>\n",
       "    </tr>\n",
       "    <tr>\n",
       "      <th>3</th>\n",
       "      <td>False</td>\n",
       "      <td>False</td>\n",
       "      <td>Plymouth</td>\n",
       "      <td>10/01/2013 12:00:00 AM</td>\n",
       "      <td>Plymouth</td>\n",
       "      <td>V</td>\n",
       "      <td>D1</td>\n",
       "      <td>True</td>\n",
       "      <td>N</td>\n",
       "      <td>Speed Related</td>\n",
       "      <td>52.0</td>\n",
       "      <td>N</td>\n",
       "      <td>W</td>\n",
       "      <td>F</td>\n",
       "      <td>False</td>\n",
       "    </tr>\n",
       "    <tr>\n",
       "      <th>4</th>\n",
       "      <td>False</td>\n",
       "      <td>False</td>\n",
       "      <td>Bethel</td>\n",
       "      <td>10/01/2013 12:00:00 AM</td>\n",
       "      <td>BETHEL</td>\n",
       "      <td>V</td>\n",
       "      <td>08M</td>\n",
       "      <td>True</td>\n",
       "      <td>N</td>\n",
       "      <td>Cell Phone</td>\n",
       "      <td>34.0</td>\n",
       "      <td>N</td>\n",
       "      <td>W</td>\n",
       "      <td>M</td>\n",
       "      <td>False</td>\n",
       "    </tr>\n",
       "  </tbody>\n",
       "</table>\n",
       "</div>"
      ],
      "text/plain": [
       "   VehicleSearchedIndicator  ContrabandIndicator Department Name  \\\n",
       "0                     False                False       New Haven   \n",
       "1                     False                False    State Police   \n",
       "2                     False                False        Plymouth   \n",
       "3                     False                False        Plymouth   \n",
       "4                     False                False          Bethel   \n",
       "\n",
       "     InterventionDateTime InterventionLocationName InterventionReasonCode  \\\n",
       "0  10/01/2013 12:00:00 AM                NEW HAVEN                      V   \n",
       "1  10/01/2013 12:00:00 AM               WILLINGTON                      V   \n",
       "2  10/01/2013 12:00:00 AM               Terryville                      V   \n",
       "3  10/01/2013 12:00:00 AM                 Plymouth                      V   \n",
       "4  10/01/2013 12:00:00 AM                   BETHEL                      V   \n",
       "\n",
       "  ReportingOfficerIdentificationID  ResidentIndicator SearchAuthorizationCode  \\\n",
       "0                              262               True                       N   \n",
       "1                       1000002715              False                       N   \n",
       "2                               21               True                       N   \n",
       "3                               D1               True                       N   \n",
       "4                              08M               True                       N   \n",
       "\n",
       "   StatuteReason  SubjectAge SubjectEthnicityCode SubjectRaceCode  \\\n",
       "0      Stop Sign        31.0                    H               W   \n",
       "1          Other        29.0                    M               W   \n",
       "2  Speed Related        18.0                    N               W   \n",
       "3  Speed Related        52.0                    N               W   \n",
       "4     Cell Phone        34.0                    N               W   \n",
       "\n",
       "  SubjectSexCode  TownResidentIndicator  \n",
       "0              M                   True  \n",
       "1              M                  False  \n",
       "2              M                   True  \n",
       "3              F                  False  \n",
       "4              M                  False  "
      ]
     },
     "execution_count": 2,
     "metadata": {},
     "output_type": "execute_result"
    }
   ],
   "source": [
    "path = os.path.join('data', 'train.csv')\n",
    "train_df = pd.read_csv(path)\n",
    "train_df = train_df.drop_duplicates()\n",
    "train_df.head()"
   ]
  },
  {
   "cell_type": "code",
   "execution_count": 3,
   "metadata": {},
   "outputs": [
    {
     "name": "stdout",
     "output_type": "stream",
     "text": [
      "51\n",
      "51\n",
      "51\n",
      "51\n",
      "52\n",
      "52\n",
      "52\n",
      "53\n",
      "53\n",
      "53\n",
      "[0.7132491870459714, 0.7019904862454606, 0.6961178950896635]\n",
      "[0.6431914276029075, 0.6762187479702569, 0.6686242571070677]\n"
     ]
    }
   ],
   "source": [
    "train_df['InterventionDateTime'] = pd.to_datetime(train_df['InterventionDateTime'], format='%m/%d/%Y %I:%M:%S %p')\n",
    "train_df = train_df.sort_values(by=['InterventionDateTime'])\n",
    "# Removing the observations of cars that were not searched\n",
    "train_df = train_df[train_df.VehicleSearchedIndicator == True]\n",
    "X_all, y_all = train_df.drop(columns = ['VehicleSearchedIndicator', 'ContrabandIndicator']), train_df.ContrabandIndicator.copy()\n",
    "#Categorical columns to perform the encoding\n",
    "cat_columns = ['Department Name', 'InterventionLocationName', 'InterventionReasonCode', \n",
    "                          'SearchAuthorizationCode', 'StatuteReason', \n",
    "                          'ReportingOfficerIdentificationID']\n",
    "pipeline = make_pipeline(\n",
    "    CreateCyclicalFeatures(),\n",
    "    CategoricalDataCleaning(),\n",
    "    NumericalDataCleaning(),\n",
    "    BinaryEncoder(cols=cat_columns),\n",
    "    # Test is just a debugging class\n",
    "    Test(),\n",
    "    RandomForestClassifier(n_estimators = 150 ,max_depth = 9, min_samples_split = 5, \n",
    "                           random_state=RANDOM_STATE)\n",
    "    )\n",
    "\n",
    "train_results = []\n",
    "test_results = []\n",
    "cv = TimeSeriesSplit(n_splits=3)\n",
    "for ii, (train, test) in enumerate(cv.split(X_all, y_all)):\n",
    "    pipeline.fit(X_all[min(train):max(train)], y_all[min(train):max(train)])\n",
    "    X_train_pred = pipeline.predict(X_all[min(train):max(train)])\n",
    "    X_test_pred = pipeline.predict(X_all[min(test):max(test)])\n",
    "    false_positive_rate, true_positive_rate, thresholds = roc_curve(y_all[min(train):max(train)], X_train_pred)\n",
    "    roc_auc = auc(false_positive_rate, true_positive_rate)\n",
    "    train_results.append(roc_auc)\n",
    "    false_positive_rate, true_positive_rate, thresholds = roc_curve(y_all[min(test):max(test)], X_test_pred)\n",
    "    roc_auc = auc(false_positive_rate, true_positive_rate)\n",
    "    test_results.append(roc_auc)\n",
    "    if max(train) == 17471: #This means that we are in the first folder, the only one that has middle east values\n",
    "        probas = pipeline.predict_proba(X_all[min(test):max(test)])\n",
    "        a = y_all[min(test):max(test)]\n",
    "        b = X_all[min(test):max(test)]\n",
    "        precision_middle_east, recall_middle_east, thresholds_middle_east = \\\n",
    "        precision_recall_curve(a[np.equal(b.SubjectEthnicityCode, 'M')], \n",
    "                               probas[:, 1][np.equal(b.SubjectEthnicityCode, 'M')])\n",
    "\n",
    "print(train_results)\n",
    "print(test_results)"
   ]
  },
  {
   "cell_type": "code",
   "execution_count": 5,
   "metadata": {},
   "outputs": [],
   "source": [
    "with open('columns.json', 'w') as fh:\n",
    "    json.dump(X_all.columns.tolist(), fh)"
   ]
  },
  {
   "cell_type": "code",
   "execution_count": 6,
   "metadata": {},
   "outputs": [],
   "source": [
    "with open('dtypes.pickle', 'wb') as fh:\n",
    "    pickle.dump(X_all.dtypes, fh)"
   ]
  },
  {
   "cell_type": "code",
   "execution_count": 7,
   "metadata": {},
   "outputs": [
    {
     "name": "stdout",
     "output_type": "stream",
     "text": [
      "53\n"
     ]
    },
    {
     "name": "stderr",
     "output_type": "stream",
     "text": [
      "C:\\Anaconda3\\envs\\final_test\\lib\\site-packages\\sklearn\\externals\\joblib\\__init__.py:15: DeprecationWarning: sklearn.externals.joblib is deprecated in 0.21 and will be removed in 0.23. Please import this functionality directly from joblib, which can be installed with: pip install joblib. If this warning is raised when loading pickled models, you may need to re-serialize those models with scikit-learn 0.21+.\n",
      "  warnings.warn(msg, category=DeprecationWarning)\n"
     ]
    },
    {
     "data": {
      "text/plain": [
       "['pipeline.pickle']"
      ]
     },
     "execution_count": 7,
     "metadata": {},
     "output_type": "execute_result"
    }
   ],
   "source": [
    "pipeline.fit(X_all, y_all)\n",
    "from sklearn.externals import joblib\n",
    "joblib.dump(pipeline, 'pipeline.pickle')"
   ]
  },
  {
   "cell_type": "markdown",
   "metadata": {},
   "source": [
    "old code used for features importances analysis"
   ]
  },
  {
   "cell_type": "code",
   "execution_count": 8,
   "metadata": {},
   "outputs": [
    {
     "data": {
      "text/plain": [
       "\"pd.Series(pipeline[5].feature_importances_, index=['Department Name', 'InterventionLocationName', 'InterventionReasonCode',\\n       'ReportingOfficerIdentificationID',\\n       'SearchAuthorizationCode', 'StatuteReason', 'SubjectAge',\\n       'SubjectRaceCode',\\n       'TownResidentIndicator', 'InterventionDateYear',\\n       'InterventionDateMonth_sin', 'InterventionDateMonth_cos',\\n       'InterventionDateDay_sin', 'InterventionDateDay_cos',\\n       'InterventionDateHour_sin', 'InterventionDateHour_cos']).nlargest(20).plot.barh();\""
      ]
     },
     "execution_count": 8,
     "metadata": {},
     "output_type": "execute_result"
    }
   ],
   "source": [
    "'''pd.Series(pipeline[5].feature_importances_, index=['Department Name', 'InterventionLocationName', 'InterventionReasonCode',\n",
    "       'ReportingOfficerIdentificationID',\n",
    "       'SearchAuthorizationCode', 'StatuteReason', 'SubjectAge',\n",
    "       'SubjectRaceCode',\n",
    "       'TownResidentIndicator', 'InterventionDateYear',\n",
    "       'InterventionDateMonth_sin', 'InterventionDateMonth_cos',\n",
    "       'InterventionDateDay_sin', 'InterventionDateDay_cos',\n",
    "       'InterventionDateHour_sin', 'InterventionDateHour_cos']).nlargest(20).plot.barh();'''"
   ]
  },
  {
   "cell_type": "code",
   "execution_count": 9,
   "metadata": {},
   "outputs": [],
   "source": [
    "#Equivalent to the last folder of the CV\n",
    "X_train, y_train, X_test, y_test = X_all[0:52409], y_all[0:52409], X_all[52409:], y_all[52409:]"
   ]
  },
  {
   "cell_type": "code",
   "execution_count": 10,
   "metadata": {},
   "outputs": [
    {
     "name": "stdout",
     "output_type": "stream",
     "text": [
      "53\n"
     ]
    }
   ],
   "source": [
    "probas = pipeline.predict_proba(X_test)"
   ]
  },
  {
   "cell_type": "code",
   "execution_count": 11,
   "metadata": {},
   "outputs": [],
   "source": [
    "precision, recall, thresholds = precision_recall_curve(y_test, probas[:, 1])"
   ]
  },
  {
   "cell_type": "code",
   "execution_count": 12,
   "metadata": {},
   "outputs": [
    {
     "data": {
      "image/png": "[encoded data removed]",
      "text/plain": [
       "<Figure size 576x360 with 1 Axes>"
      ]
     },
     "metadata": {
      "needs_background": "light"
     },
     "output_type": "display_data"
    }
   ],
   "source": [
    "def plot_precision_recall_vs_threshold(precisions, recall, thresholds): \n",
    "    fig = plt.figure(figsize= (8,5))\n",
    "    plt.plot(thresholds, precisions[:-1], \"b--\", label=\"Precision\")\n",
    "    plt.plot(thresholds, recall[:-1], \"g-\", label=\"Recall\")\n",
    "    plt.legend()\n",
    "\n",
    "plot_precision_recall_vs_threshold(precision, recall, thresholds)"
   ]
  },
  {
   "cell_type": "code",
   "execution_count": 13,
   "metadata": {},
   "outputs": [
    {
     "data": {
      "text/plain": [
       "array([0.06553742, 0.06555829, 0.06560901, ..., 0.74174974, 0.74504174,\n",
       "       0.74606874])"
      ]
     },
     "execution_count": 13,
     "metadata": {},
     "output_type": "execute_result"
    }
   ],
   "source": [
    "thresholds"
   ]
  },
  {
   "cell_type": "code",
   "execution_count": 14,
   "metadata": {},
   "outputs": [
    {
     "data": {
      "text/plain": [
       "0.242740481467374"
      ]
     },
     "execution_count": 14,
     "metadata": {},
     "output_type": "execute_result"
    }
   ],
   "source": [
    "thresholds[np.greater_equal(precision, [0.5])[:-1]][0]"
   ]
  },
  {
   "cell_type": "markdown",
   "metadata": {},
   "source": [
    "So, with 0.24 we get 0.5 precision!"
   ]
  },
  {
   "cell_type": "code",
   "execution_count": 16,
   "metadata": {},
   "outputs": [],
   "source": [
    "precision_female, recall_female, thresholds_female = precision_recall_curve(y_test[np.equal(X_test.SubjectSexCode, 'F')], probas[:, 1][np.equal(X_test.SubjectSexCode, 'F')])\n",
    "precision_male, recall_male, thresholds_male = precision_recall_curve(y_test[np.equal(X_test.SubjectSexCode, 'M')], probas[:, 1][np.equal(X_test.SubjectSexCode, 'M')])\n",
    "precision_hispanic, recall_hispanic, thresholds_hispanic = precision_recall_curve(y_test[np.equal(X_test.SubjectEthnicityCode, 'H')], probas[:, 1][np.equal(X_test.SubjectEthnicityCode, 'H')])\n",
    "precision_not_applicable_ethnicity, recall_not_applicable_ethnicity, thresholds_not_applicable_ethnicity = precision_recall_curve(y_test[np.equal(X_test.SubjectEthnicityCode, 'N')], probas[:, 1][np.equal(X_test.SubjectEthnicityCode, 'N')])\n",
    "precision_white, recall_white, thresholds_white= precision_recall_curve(y_test[np.equal(X_test.SubjectRaceCode, 'W')], probas[:, 1][np.equal(X_test.SubjectRaceCode, 'W')])\n",
    "precision_black, recall_black, thresholds_black= precision_recall_curve(y_test[np.equal(X_test.SubjectRaceCode, 'B')], probas[:, 1][np.equal(X_test.SubjectRaceCode, 'B')])\n",
    "precision_indian, recall_indian, thresholds_indian= precision_recall_curve(y_test[np.equal(X_test.SubjectRaceCode, 'I')], probas[:, 1][np.equal(X_test.SubjectRaceCode, 'I')])\n",
    "precision_asian, recall_asian, thresholds_asian= precision_recall_curve(y_test[np.equal(X_test.SubjectRaceCode, 'A')], probas[:, 1][np.equal(X_test.SubjectRaceCode, 'A')])"
   ]
  },
  {
   "cell_type": "code",
   "execution_count": 17,
   "metadata": {},
   "outputs": [
    {
     "data": {
      "text/plain": [
       "array([0.22657764, 0.23267617, 0.24756288, 0.25085816, 0.25086909,\n",
       "       0.25154629, 0.25342739, 0.26675592, 0.27241176, 0.27370582,\n",
       "       0.28083783, 0.28207488, 0.28446325, 0.28814097, 0.30375721,\n",
       "       0.30393912, 0.31326029, 0.31721089, 0.32274018, 0.33251438,\n",
       "       0.33539683, 0.34711473, 0.39053937, 0.39638796, 0.41996876,\n",
       "       0.42221221, 0.46963888, 0.48369725, 0.50690828, 0.50715849,\n",
       "       0.51380715, 0.51440542, 0.51869121, 0.52017276, 0.52624093,\n",
       "       0.55023112, 0.55829765, 0.5645937 , 0.56762403, 0.56925506,\n",
       "       0.56994525, 0.57595202, 0.59413466, 0.59803621, 0.60047224,\n",
       "       0.61279115, 0.63612523, 0.63755862, 0.63983411, 0.64371323,\n",
       "       0.68765107])"
      ]
     },
     "execution_count": 17,
     "metadata": {},
     "output_type": "execute_result"
    }
   ],
   "source": [
    "thresholds_indian"
   ]
  },
  {
   "cell_type": "markdown",
   "metadata": {},
   "source": [
    "Thresholds for the indian class end at 0.68!"
   ]
  },
  {
   "cell_type": "code",
   "execution_count": 29,
   "metadata": {},
   "outputs": [
    {
     "name": "stdout",
     "output_type": "stream",
     "text": [
      "0.06812983425203534\n",
      "0.3873617971247522\n"
     ]
    }
   ],
   "source": [
    "min_descrepancy = 1\n",
    "for i in thresholds[np.greater_equal(precision, [0.5])[:-1]]: \n",
    "    if i <= 0.68765107: \n",
    "#the <= part is because the threholds of the indian class only go until 0.8. At 0.8, recall of the indian class is 0\n",
    "        test_list = [precision_male[:-1][np.greater_equal(thresholds_male, [i])][0], \n",
    "                     precision_female[:-1][np.greater_equal(thresholds_female, [i])][0]]\n",
    "        test_list_2 = [precision_hispanic[:-1][np.greater_equal(thresholds_hispanic, [i])][0],\n",
    "                       precision_middle_east[:-1][np.greater_equal(thresholds_middle_east, [i])][0],\n",
    "                      precision_not_applicable_ethnicity[:-1][np.greater_equal(thresholds_not_applicable_ethnicity, [i])][0]]\n",
    "        test_list_3 = [precision_white[:-1][np.greater_equal(thresholds_white, [i])][0],\n",
    "                      precision_black[:-1][np.greater_equal(thresholds_black, [i])][0],\n",
    "                      precision_indian[:-1][np.greater_equal(thresholds_indian, [i])][0],\n",
    "                      precision_asian[:-1][np.greater_equal(thresholds_asian, [i])][0]]\n",
    "\n",
    "        res = max(combinations(test_list, 2), key = lambda sub: abs(sub[0]-sub[1]))\n",
    "        res_2 = max(combinations(test_list_2, 2), key = lambda sub: abs(sub[0]-sub[1]))\n",
    "        res_3 = max(combinations(test_list_3, 2), key = lambda sub: abs(sub[0]-sub[1]))\n",
    "        descrepancy_sex = abs(res[0]-res[1])\n",
    "        descrepancy_ethnicity = abs(res_2[0]-res_2[1])\n",
    "        descrepancy_race = abs(res_3[0]-res_3[1])\n",
    "        if max(descrepancy_sex, descrepancy_ethnicity, descrepancy_race) < min_descrepancy:\n",
    "            min_descrepancy = max(descrepancy_sex, descrepancy_ethnicity, descrepancy_race)\n",
    "            thresh = i\n",
    "print(min_descrepancy)\n",
    "print(thresh)"
   ]
  },
  {
   "cell_type": "markdown",
   "metadata": {},
   "source": [
    "So the threshold that minimizes the descrepancy between classes is 0.39!"
   ]
  },
  {
   "cell_type": "code",
   "execution_count": 24,
   "metadata": {},
   "outputs": [
    {
     "data": {
      "text/plain": [
       "0.5920553145336226"
      ]
     },
     "execution_count": 24,
     "metadata": {},
     "output_type": "execute_result"
    }
   ],
   "source": [
    "precision[:-1][np.greater_equal(thresholds, [0.3873617971247522])][0]"
   ]
  },
  {
   "cell_type": "code",
   "execution_count": 25,
   "metadata": {},
   "outputs": [
    {
     "data": {
      "text/plain": [
       "0.7122818463545915"
      ]
     },
     "execution_count": 25,
     "metadata": {},
     "output_type": "execute_result"
    }
   ],
   "source": [
    "recall[:-1][np.greater_equal(thresholds, [0.3873617971247522])][0]"
   ]
  },
  {
   "cell_type": "markdown",
   "metadata": {},
   "source": [
    "Sweet precision and recall values eheh"
   ]
  },
  {
   "cell_type": "code",
   "execution_count": 26,
   "metadata": {},
   "outputs": [
    {
     "name": "stdout",
     "output_type": "stream",
     "text": [
      "[0.5940860215053764, 0.5835674157303371]\n",
      "[0.5664993726474279, 0.5945945945945946, 0.5991006572120373]\n",
      "[0.6146751383480221, 0.5465453040959868, 0.5517241379310345, 0.6078431372549019]\n",
      "0.01051860577503927\n",
      "0.03260128456460942\n",
      "0.06812983425203534\n"
     ]
    }
   ],
   "source": [
    "i = 0.3873617971247522\n",
    "test_list = [precision_male[:-1][np.greater_equal(thresholds_male, [i])][0], \n",
    "                     precision_female[:-1][np.greater_equal(thresholds_female, [i])][0]]\n",
    "test_list_2 = [precision_hispanic[:-1][np.greater_equal(thresholds_hispanic, [i])][0],\n",
    "               precision_middle_east[:-1][np.greater_equal(thresholds_middle_east, [i])][0],\n",
    "                      precision_not_applicable_ethnicity[:-1][np.greater_equal(thresholds_not_applicable_ethnicity, [i])][0]]\n",
    "test_list_3 = [precision_white[:-1][np.greater_equal(thresholds_white, [i])][0],\n",
    "                      precision_black[:-1][np.greater_equal(thresholds_black, [i])][0],\n",
    "                      precision_indian[:-1][np.greater_equal(thresholds_indian, [i])][0],\n",
    "                      precision_asian[:-1][np.greater_equal(thresholds_asian, [i])][0]]\n",
    "print(test_list)\n",
    "print(test_list_2)\n",
    "print(test_list_3)\n",
    "res = max(combinations(test_list, 2), key = lambda sub: abs(sub[0]-sub[1]))\n",
    "res_2 = max(combinations(test_list_2, 2), key = lambda sub: abs(sub[0]-sub[1]))\n",
    "res_3 = max(combinations(test_list_3, 2), key = lambda sub: abs(sub[0]-sub[1]))\n",
    "descrepancy_sex = abs(res[0]-res[1])\n",
    "descrepancy_ethnicity = abs(res_2[0]-res_2[1])\n",
    "descrepancy_race = abs(res_3[0]-res_3[1])\n",
    "print(descrepancy_sex)\n",
    "print(descrepancy_ethnicity)\n",
    "print(descrepancy_race)"
   ]
  },
  {
   "cell_type": "markdown",
   "metadata": {},
   "source": [
    "So above we can see the descrepancy values and the precision individual values for all the classes and categories"
   ]
  },
  {
   "cell_type": "code",
   "execution_count": null,
   "metadata": {},
   "outputs": [],
   "source": []
  },
  {
   "cell_type": "code",
   "execution_count": null,
   "metadata": {},
   "outputs": [],
   "source": []
  },
  {
   "cell_type": "code",
   "execution_count": null,
   "metadata": {},
   "outputs": [],
   "source": []
  },
  {
   "cell_type": "code",
   "execution_count": null,
   "metadata": {},
   "outputs": [],
   "source": []
  }
 ],
 "metadata": {
  "kernelspec": {
   "display_name": "Python 3",
   "language": "python",
   "name": "python3"
  },
  "language_info": {
   "codemirror_mode": {
    "name": "ipython",
    "version": 3
   },
   "file_extension": ".py",
   "mimetype": "text/x-python",
   "name": "python",
   "nbconvert_exporter": "python",
   "pygments_lexer": "ipython3",
   "version": "3.7.3"
  }
 },
 "nbformat": 4,
 "nbformat_minor": 2
}

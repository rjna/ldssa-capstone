{
 "cells": [
  {
   "cell_type": "markdown",
   "metadata": {},
   "source": [
    "Tips to navigate the notebook: Everytime that you need to verify a claim made in the report, search for the corresponding section name. The code for the section Redeployment is in the other notebooks."
   ]
  },
  {
   "cell_type": "code",
   "execution_count": 1,
   "metadata": {},
   "outputs": [],
   "source": [
    "import os\n",
    "import pandas as pd\n",
    "from sklearn.metrics import precision_score, recall_score, accuracy_score, precision_recall_curve, roc_curve, auc, roc_auc_score\n",
    "import json\n",
    "import numpy as np\n",
    "import matplotlib.pyplot as plt"
   ]
  },
  {
   "cell_type": "code",
   "execution_count": 2,
   "metadata": {},
   "outputs": [],
   "source": [
    "with open('25_January_Final.json') as json_file:\n",
    "    data = json.load(json_file)"
   ]
  },
  {
   "cell_type": "code",
   "execution_count": 3,
   "metadata": {},
   "outputs": [
    {
     "data": {
      "text/html": [
       "<div>\n",
       "<style scoped>\n",
       "    .dataframe tbody tr th:only-of-type {\n",
       "        vertical-align: middle;\n",
       "    }\n",
       "\n",
       "    .dataframe tbody tr th {\n",
       "        vertical-align: top;\n",
       "    }\n",
       "\n",
       "    .dataframe thead th {\n",
       "        text-align: right;\n",
       "    }\n",
       "</style>\n",
       "<table border=\"1\" class=\"dataframe\">\n",
       "  <thead>\n",
       "    <tr style=\"text-align: right;\">\n",
       "      <th></th>\n",
       "      <th>VehicleSearchedIndicator</th>\n",
       "      <th>ContrabandIndicator</th>\n",
       "      <th>Department Name</th>\n",
       "      <th>InterventionDateTime</th>\n",
       "      <th>InterventionLocationName</th>\n",
       "      <th>InterventionReasonCode</th>\n",
       "      <th>ReportingOfficerIdentificationID</th>\n",
       "      <th>ResidentIndicator</th>\n",
       "      <th>SearchAuthorizationCode</th>\n",
       "      <th>StatuteReason</th>\n",
       "      <th>SubjectAge</th>\n",
       "      <th>SubjectEthnicityCode</th>\n",
       "      <th>SubjectRaceCode</th>\n",
       "      <th>SubjectSexCode</th>\n",
       "      <th>TownResidentIndicator</th>\n",
       "    </tr>\n",
       "  </thead>\n",
       "  <tbody>\n",
       "    <tr>\n",
       "      <th>71</th>\n",
       "      <td>True</td>\n",
       "      <td>False</td>\n",
       "      <td>Bridgeport</td>\n",
       "      <td>10/01/2013 12:46:00 AM</td>\n",
       "      <td>Bridgeport</td>\n",
       "      <td>V</td>\n",
       "      <td>1207</td>\n",
       "      <td>True</td>\n",
       "      <td>I</td>\n",
       "      <td>Speed Related</td>\n",
       "      <td>37.0</td>\n",
       "      <td>H</td>\n",
       "      <td>W</td>\n",
       "      <td>M</td>\n",
       "      <td>True</td>\n",
       "    </tr>\n",
       "    <tr>\n",
       "      <th>143</th>\n",
       "      <td>True</td>\n",
       "      <td>True</td>\n",
       "      <td>Milford</td>\n",
       "      <td>10/01/2013 01:50:00 AM</td>\n",
       "      <td>MILFORD</td>\n",
       "      <td>E</td>\n",
       "      <td>2325</td>\n",
       "      <td>True</td>\n",
       "      <td>I</td>\n",
       "      <td>Defective Lights</td>\n",
       "      <td>30.0</td>\n",
       "      <td>N</td>\n",
       "      <td>W</td>\n",
       "      <td>M</td>\n",
       "      <td>True</td>\n",
       "    </tr>\n",
       "    <tr>\n",
       "      <th>184</th>\n",
       "      <td>True</td>\n",
       "      <td>False</td>\n",
       "      <td>Torrington</td>\n",
       "      <td>10/01/2013 03:49:00 AM</td>\n",
       "      <td>Torrington</td>\n",
       "      <td>V</td>\n",
       "      <td>DACYR048</td>\n",
       "      <td>True</td>\n",
       "      <td>C</td>\n",
       "      <td>Registration</td>\n",
       "      <td>43.0</td>\n",
       "      <td>N</td>\n",
       "      <td>W</td>\n",
       "      <td>M</td>\n",
       "      <td>True</td>\n",
       "    </tr>\n",
       "    <tr>\n",
       "      <th>203</th>\n",
       "      <td>True</td>\n",
       "      <td>False</td>\n",
       "      <td>State Police</td>\n",
       "      <td>10/01/2013 05:30:00 AM</td>\n",
       "      <td>TOLLAND</td>\n",
       "      <td>V</td>\n",
       "      <td>1000002715</td>\n",
       "      <td>False</td>\n",
       "      <td>C</td>\n",
       "      <td>Other</td>\n",
       "      <td>19.0</td>\n",
       "      <td>N</td>\n",
       "      <td>B</td>\n",
       "      <td>M</td>\n",
       "      <td>False</td>\n",
       "    </tr>\n",
       "    <tr>\n",
       "      <th>212</th>\n",
       "      <td>True</td>\n",
       "      <td>False</td>\n",
       "      <td>Greenwich</td>\n",
       "      <td>10/01/2013 05:47:00 AM</td>\n",
       "      <td>RIVERSIDE</td>\n",
       "      <td>V</td>\n",
       "      <td>110993</td>\n",
       "      <td>False</td>\n",
       "      <td>N</td>\n",
       "      <td>Speed Related</td>\n",
       "      <td>34.0</td>\n",
       "      <td>M</td>\n",
       "      <td>B</td>\n",
       "      <td>M</td>\n",
       "      <td>False</td>\n",
       "    </tr>\n",
       "  </tbody>\n",
       "</table>\n",
       "</div>"
      ],
      "text/plain": [
       "     VehicleSearchedIndicator  ContrabandIndicator Department Name  \\\n",
       "71                       True                False      Bridgeport   \n",
       "143                      True                 True         Milford   \n",
       "184                      True                False      Torrington   \n",
       "203                      True                False    State Police   \n",
       "212                      True                False       Greenwich   \n",
       "\n",
       "       InterventionDateTime InterventionLocationName InterventionReasonCode  \\\n",
       "71   10/01/2013 12:46:00 AM               Bridgeport                      V   \n",
       "143  10/01/2013 01:50:00 AM                  MILFORD                      E   \n",
       "184  10/01/2013 03:49:00 AM               Torrington                      V   \n",
       "203  10/01/2013 05:30:00 AM                  TOLLAND                      V   \n",
       "212  10/01/2013 05:47:00 AM                RIVERSIDE                      V   \n",
       "\n",
       "    ReportingOfficerIdentificationID  ResidentIndicator  \\\n",
       "71                              1207               True   \n",
       "143                             2325               True   \n",
       "184                         DACYR048               True   \n",
       "203                       1000002715              False   \n",
       "212                           110993              False   \n",
       "\n",
       "    SearchAuthorizationCode     StatuteReason  SubjectAge  \\\n",
       "71                        I     Speed Related        37.0   \n",
       "143                       I  Defective Lights        30.0   \n",
       "184                       C      Registration        43.0   \n",
       "203                       C             Other        19.0   \n",
       "212                       N     Speed Related        34.0   \n",
       "\n",
       "    SubjectEthnicityCode SubjectRaceCode SubjectSexCode  TownResidentIndicator  \n",
       "71                     H               W              M                   True  \n",
       "143                    N               W              M                   True  \n",
       "184                    N               W              M                   True  \n",
       "203                    N               B              M                  False  \n",
       "212                    M               B              M                  False  "
      ]
     },
     "execution_count": 3,
     "metadata": {},
     "output_type": "execute_result"
    }
   ],
   "source": [
    "path = os.path.join('data', 'train.csv')\n",
    "train_df = pd.read_csv(path)\n",
    "train_df = train_df.drop_duplicates()\n",
    "train_df = train_df[train_df.VehicleSearchedIndicator == True]\n",
    "train_df.head()"
   ]
  },
  {
   "cell_type": "code",
   "execution_count": 4,
   "metadata": {},
   "outputs": [
    {
     "data": {
      "text/html": [
       "<div>\n",
       "<style scoped>\n",
       "    .dataframe tbody tr th:only-of-type {\n",
       "        vertical-align: middle;\n",
       "    }\n",
       "\n",
       "    .dataframe tbody tr th {\n",
       "        vertical-align: top;\n",
       "    }\n",
       "\n",
       "    .dataframe thead th {\n",
       "        text-align: right;\n",
       "    }\n",
       "</style>\n",
       "<table border=\"1\" class=\"dataframe\">\n",
       "  <thead>\n",
       "    <tr style=\"text-align: right;\">\n",
       "      <th></th>\n",
       "      <th>id</th>\n",
       "      <th>observation_id</th>\n",
       "      <th>observation</th>\n",
       "      <th>proba</th>\n",
       "      <th>true_class</th>\n",
       "      <th>predicted_class</th>\n",
       "    </tr>\n",
       "  </thead>\n",
       "  <tbody>\n",
       "    <tr>\n",
       "      <th>0</th>\n",
       "      <td>7733</td>\n",
       "      <td>7169</td>\n",
       "      <td>{\"id\": 7169, \"observation\": {\"Department Name\"...</td>\n",
       "      <td>0.473302</td>\n",
       "      <td>NaN</td>\n",
       "      <td>1</td>\n",
       "    </tr>\n",
       "    <tr>\n",
       "      <th>1</th>\n",
       "      <td>7734</td>\n",
       "      <td>7170</td>\n",
       "      <td>{\"id\": 7170, \"observation\": {\"Department Name\"...</td>\n",
       "      <td>0.277561</td>\n",
       "      <td>NaN</td>\n",
       "      <td>0</td>\n",
       "    </tr>\n",
       "    <tr>\n",
       "      <th>2</th>\n",
       "      <td>7735</td>\n",
       "      <td>7171</td>\n",
       "      <td>{\"id\": 7171, \"observation\": {\"Department Name\"...</td>\n",
       "      <td>0.277561</td>\n",
       "      <td>NaN</td>\n",
       "      <td>0</td>\n",
       "    </tr>\n",
       "    <tr>\n",
       "      <th>3</th>\n",
       "      <td>7736</td>\n",
       "      <td>7172</td>\n",
       "      <td>{\"id\": 7172, \"observation\": {\"Department Name\"...</td>\n",
       "      <td>0.233582</td>\n",
       "      <td>NaN</td>\n",
       "      <td>0</td>\n",
       "    </tr>\n",
       "    <tr>\n",
       "      <th>4</th>\n",
       "      <td>4</td>\n",
       "      <td>3</td>\n",
       "      <td>{\"id\": 3, \"observation\": {\"Department Name\": \"...</td>\n",
       "      <td>0.324282</td>\n",
       "      <td>1.0</td>\n",
       "      <td>0</td>\n",
       "    </tr>\n",
       "  </tbody>\n",
       "</table>\n",
       "</div>"
      ],
      "text/plain": [
       "     id  observation_id                                        observation  \\\n",
       "0  7733            7169  {\"id\": 7169, \"observation\": {\"Department Name\"...   \n",
       "1  7734            7170  {\"id\": 7170, \"observation\": {\"Department Name\"...   \n",
       "2  7735            7171  {\"id\": 7171, \"observation\": {\"Department Name\"...   \n",
       "3  7736            7172  {\"id\": 7172, \"observation\": {\"Department Name\"...   \n",
       "4     4               3  {\"id\": 3, \"observation\": {\"Department Name\": \"...   \n",
       "\n",
       "      proba  true_class  predicted_class  \n",
       "0  0.473302         NaN                1  \n",
       "1  0.277561         NaN                0  \n",
       "2  0.277561         NaN                0  \n",
       "3  0.233582         NaN                0  \n",
       "4  0.324282         1.0                0  "
      ]
     },
     "execution_count": 4,
     "metadata": {},
     "output_type": "execute_result"
    }
   ],
   "source": [
    "trial_df = pd.DataFrame(data[\"values\"], columns = ['id', 'observation_id', 'observation', 'proba', 'true_class', 'predicted_class']) \n",
    "trial_df.head()"
   ]
  },
  {
   "cell_type": "markdown",
   "metadata": {},
   "source": [
    "Sections Summary, Model Performance and Fairness"
   ]
  },
  {
   "cell_type": "code",
   "execution_count": 5,
   "metadata": {},
   "outputs": [],
   "source": [
    "# Get only observations that received the true_class to calculate the performance metrics\n",
    "trial_df = trial_df[(trial_df.true_class == 1) | (trial_df.true_class == 0)]"
   ]
  },
  {
   "cell_type": "code",
   "execution_count": 6,
   "metadata": {},
   "outputs": [
    {
     "data": {
      "text/plain": [
       "0.5825575698187163"
      ]
     },
     "execution_count": 6,
     "metadata": {},
     "output_type": "execute_result"
    }
   ],
   "source": [
    "precision_score(trial_df.true_class, trial_df.predicted_class)"
   ]
  },
  {
   "cell_type": "code",
   "execution_count": 7,
   "metadata": {},
   "outputs": [
    {
     "data": {
      "text/plain": [
       "0.6623955431754874"
      ]
     },
     "execution_count": 7,
     "metadata": {},
     "output_type": "execute_result"
    }
   ],
   "source": [
    "recall_score(trial_df.true_class, trial_df.predicted_class)"
   ]
  },
  {
   "cell_type": "code",
   "execution_count": 8,
   "metadata": {},
   "outputs": [
    {
     "data": {
      "text/html": [
       "<div>\n",
       "<style scoped>\n",
       "    .dataframe tbody tr th:only-of-type {\n",
       "        vertical-align: middle;\n",
       "    }\n",
       "\n",
       "    .dataframe tbody tr th {\n",
       "        vertical-align: top;\n",
       "    }\n",
       "\n",
       "    .dataframe thead th {\n",
       "        text-align: right;\n",
       "    }\n",
       "</style>\n",
       "<table border=\"1\" class=\"dataframe\">\n",
       "  <thead>\n",
       "    <tr style=\"text-align: right;\">\n",
       "      <th></th>\n",
       "      <th>observation_id</th>\n",
       "      <th>Department Name</th>\n",
       "      <th>InterventionDateTime</th>\n",
       "      <th>InterventionLocationName</th>\n",
       "      <th>InterventionReasonCode</th>\n",
       "      <th>ReportingOfficerIdentificationID</th>\n",
       "      <th>ResidentIndicator</th>\n",
       "      <th>SearchAuthorizationCode</th>\n",
       "      <th>StatuteReason</th>\n",
       "      <th>SubjectAge</th>\n",
       "      <th>SubjectEthnicityCode</th>\n",
       "      <th>SubjectRaceCode</th>\n",
       "      <th>SubjectSexCode</th>\n",
       "      <th>TownResidentIndicator</th>\n",
       "    </tr>\n",
       "  </thead>\n",
       "  <tbody>\n",
       "    <tr>\n",
       "      <th>0</th>\n",
       "      <td>3</td>\n",
       "      <td>Milford</td>\n",
       "      <td>05/16/2018 04:08:00 AM</td>\n",
       "      <td>MILFORD</td>\n",
       "      <td>E</td>\n",
       "      <td>473</td>\n",
       "      <td>True</td>\n",
       "      <td>I</td>\n",
       "      <td>Other</td>\n",
       "      <td>49.0</td>\n",
       "      <td>N</td>\n",
       "      <td>B</td>\n",
       "      <td>F</td>\n",
       "      <td>False</td>\n",
       "    </tr>\n",
       "    <tr>\n",
       "      <th>1</th>\n",
       "      <td>6</td>\n",
       "      <td>Naugatuck</td>\n",
       "      <td>05/16/2018 11:43:00 AM</td>\n",
       "      <td>NAUGATUCK</td>\n",
       "      <td>I</td>\n",
       "      <td>100296</td>\n",
       "      <td>True</td>\n",
       "      <td>I</td>\n",
       "      <td>Administrative Offense</td>\n",
       "      <td>23.0</td>\n",
       "      <td>H</td>\n",
       "      <td>W</td>\n",
       "      <td>M</td>\n",
       "      <td>False</td>\n",
       "    </tr>\n",
       "    <tr>\n",
       "      <th>2</th>\n",
       "      <td>7</td>\n",
       "      <td>Naugatuck</td>\n",
       "      <td>05/16/2018 11:43:00 AM</td>\n",
       "      <td>NAUGATUCK</td>\n",
       "      <td>I</td>\n",
       "      <td>100296</td>\n",
       "      <td>True</td>\n",
       "      <td>I</td>\n",
       "      <td>Administrative Offense</td>\n",
       "      <td>23.0</td>\n",
       "      <td>H</td>\n",
       "      <td>W</td>\n",
       "      <td>M</td>\n",
       "      <td>False</td>\n",
       "    </tr>\n",
       "    <tr>\n",
       "      <th>3</th>\n",
       "      <td>8</td>\n",
       "      <td>Glastonbury</td>\n",
       "      <td>05/16/2018 12:17:00 PM</td>\n",
       "      <td>Glastonbury</td>\n",
       "      <td>V</td>\n",
       "      <td>BWC0441</td>\n",
       "      <td>True</td>\n",
       "      <td>O</td>\n",
       "      <td>Moving Violation</td>\n",
       "      <td>24.0</td>\n",
       "      <td>N</td>\n",
       "      <td>B</td>\n",
       "      <td>F</td>\n",
       "      <td>False</td>\n",
       "    </tr>\n",
       "    <tr>\n",
       "      <th>4</th>\n",
       "      <td>9</td>\n",
       "      <td>Glastonbury</td>\n",
       "      <td>05/16/2018 12:17:00 PM</td>\n",
       "      <td>Glastonbury</td>\n",
       "      <td>V</td>\n",
       "      <td>BWC0441</td>\n",
       "      <td>True</td>\n",
       "      <td>O</td>\n",
       "      <td>Moving Violation</td>\n",
       "      <td>24.0</td>\n",
       "      <td>N</td>\n",
       "      <td>B</td>\n",
       "      <td>F</td>\n",
       "      <td>False</td>\n",
       "    </tr>\n",
       "  </tbody>\n",
       "</table>\n",
       "</div>"
      ],
      "text/plain": [
       "   observation_id Department Name    InterventionDateTime  \\\n",
       "0               3         Milford  05/16/2018 04:08:00 AM   \n",
       "1               6       Naugatuck  05/16/2018 11:43:00 AM   \n",
       "2               7       Naugatuck  05/16/2018 11:43:00 AM   \n",
       "3               8     Glastonbury  05/16/2018 12:17:00 PM   \n",
       "4               9     Glastonbury  05/16/2018 12:17:00 PM   \n",
       "\n",
       "  InterventionLocationName InterventionReasonCode  \\\n",
       "0                  MILFORD                      E   \n",
       "1                NAUGATUCK                      I   \n",
       "2                NAUGATUCK                      I   \n",
       "3              Glastonbury                      V   \n",
       "4              Glastonbury                      V   \n",
       "\n",
       "  ReportingOfficerIdentificationID  ResidentIndicator SearchAuthorizationCode  \\\n",
       "0                              473               True                       I   \n",
       "1                           100296               True                       I   \n",
       "2                           100296               True                       I   \n",
       "3                          BWC0441               True                       O   \n",
       "4                          BWC0441               True                       O   \n",
       "\n",
       "            StatuteReason  SubjectAge SubjectEthnicityCode SubjectRaceCode  \\\n",
       "0                   Other        49.0                    N               B   \n",
       "1  Administrative Offense        23.0                    H               W   \n",
       "2  Administrative Offense        23.0                    H               W   \n",
       "3        Moving Violation        24.0                    N               B   \n",
       "4        Moving Violation        24.0                    N               B   \n",
       "\n",
       "  SubjectSexCode  TownResidentIndicator  \n",
       "0              F                  False  \n",
       "1              M                  False  \n",
       "2              M                  False  \n",
       "3              F                  False  \n",
       "4              F                  False  "
      ]
     },
     "execution_count": 8,
     "metadata": {},
     "output_type": "execute_result"
    }
   ],
   "source": [
    "obs_id = trial_df.observation.apply(lambda x: json.loads(x)['id'])\n",
    "obs = trial_df.observation.apply(lambda x: json.loads(x)['observation']).apply(pd.Series).set_index(obs_id)\n",
    "obs = obs.reset_index().rename(columns={\"observation\": \"observation_id\"})\n",
    "obs.head()"
   ]
  },
  {
   "cell_type": "code",
   "execution_count": 9,
   "metadata": {},
   "outputs": [
    {
     "data": {
      "text/html": [
       "<div>\n",
       "<style scoped>\n",
       "    .dataframe tbody tr th:only-of-type {\n",
       "        vertical-align: middle;\n",
       "    }\n",
       "\n",
       "    .dataframe tbody tr th {\n",
       "        vertical-align: top;\n",
       "    }\n",
       "\n",
       "    .dataframe thead th {\n",
       "        text-align: right;\n",
       "    }\n",
       "</style>\n",
       "<table border=\"1\" class=\"dataframe\">\n",
       "  <thead>\n",
       "    <tr style=\"text-align: right;\">\n",
       "      <th></th>\n",
       "      <th>id</th>\n",
       "      <th>observation_id</th>\n",
       "      <th>proba</th>\n",
       "      <th>true_class</th>\n",
       "      <th>predicted_class</th>\n",
       "      <th>Department Name</th>\n",
       "      <th>InterventionDateTime</th>\n",
       "      <th>InterventionLocationName</th>\n",
       "      <th>InterventionReasonCode</th>\n",
       "      <th>ReportingOfficerIdentificationID</th>\n",
       "      <th>ResidentIndicator</th>\n",
       "      <th>SearchAuthorizationCode</th>\n",
       "      <th>StatuteReason</th>\n",
       "      <th>SubjectAge</th>\n",
       "      <th>SubjectEthnicityCode</th>\n",
       "      <th>SubjectRaceCode</th>\n",
       "      <th>SubjectSexCode</th>\n",
       "      <th>TownResidentIndicator</th>\n",
       "    </tr>\n",
       "  </thead>\n",
       "  <tbody>\n",
       "    <tr>\n",
       "      <th>0</th>\n",
       "      <td>4</td>\n",
       "      <td>3</td>\n",
       "      <td>0.324282</td>\n",
       "      <td>1.0</td>\n",
       "      <td>0</td>\n",
       "      <td>Milford</td>\n",
       "      <td>05/16/2018 04:08:00 AM</td>\n",
       "      <td>MILFORD</td>\n",
       "      <td>E</td>\n",
       "      <td>473</td>\n",
       "      <td>True</td>\n",
       "      <td>I</td>\n",
       "      <td>Other</td>\n",
       "      <td>49.0</td>\n",
       "      <td>N</td>\n",
       "      <td>B</td>\n",
       "      <td>F</td>\n",
       "      <td>False</td>\n",
       "    </tr>\n",
       "    <tr>\n",
       "      <th>1</th>\n",
       "      <td>7</td>\n",
       "      <td>6</td>\n",
       "      <td>0.259167</td>\n",
       "      <td>0.0</td>\n",
       "      <td>0</td>\n",
       "      <td>Naugatuck</td>\n",
       "      <td>05/16/2018 11:43:00 AM</td>\n",
       "      <td>NAUGATUCK</td>\n",
       "      <td>I</td>\n",
       "      <td>100296</td>\n",
       "      <td>True</td>\n",
       "      <td>I</td>\n",
       "      <td>Administrative Offense</td>\n",
       "      <td>23.0</td>\n",
       "      <td>H</td>\n",
       "      <td>W</td>\n",
       "      <td>M</td>\n",
       "      <td>False</td>\n",
       "    </tr>\n",
       "    <tr>\n",
       "      <th>2</th>\n",
       "      <td>8</td>\n",
       "      <td>7</td>\n",
       "      <td>0.259167</td>\n",
       "      <td>0.0</td>\n",
       "      <td>0</td>\n",
       "      <td>Naugatuck</td>\n",
       "      <td>05/16/2018 11:43:00 AM</td>\n",
       "      <td>NAUGATUCK</td>\n",
       "      <td>I</td>\n",
       "      <td>100296</td>\n",
       "      <td>True</td>\n",
       "      <td>I</td>\n",
       "      <td>Administrative Offense</td>\n",
       "      <td>23.0</td>\n",
       "      <td>H</td>\n",
       "      <td>W</td>\n",
       "      <td>M</td>\n",
       "      <td>False</td>\n",
       "    </tr>\n",
       "    <tr>\n",
       "      <th>3</th>\n",
       "      <td>9</td>\n",
       "      <td>8</td>\n",
       "      <td>0.581199</td>\n",
       "      <td>0.0</td>\n",
       "      <td>1</td>\n",
       "      <td>Glastonbury</td>\n",
       "      <td>05/16/2018 12:17:00 PM</td>\n",
       "      <td>Glastonbury</td>\n",
       "      <td>V</td>\n",
       "      <td>BWC0441</td>\n",
       "      <td>True</td>\n",
       "      <td>O</td>\n",
       "      <td>Moving Violation</td>\n",
       "      <td>24.0</td>\n",
       "      <td>N</td>\n",
       "      <td>B</td>\n",
       "      <td>F</td>\n",
       "      <td>False</td>\n",
       "    </tr>\n",
       "    <tr>\n",
       "      <th>4</th>\n",
       "      <td>10</td>\n",
       "      <td>9</td>\n",
       "      <td>0.581199</td>\n",
       "      <td>0.0</td>\n",
       "      <td>1</td>\n",
       "      <td>Glastonbury</td>\n",
       "      <td>05/16/2018 12:17:00 PM</td>\n",
       "      <td>Glastonbury</td>\n",
       "      <td>V</td>\n",
       "      <td>BWC0441</td>\n",
       "      <td>True</td>\n",
       "      <td>O</td>\n",
       "      <td>Moving Violation</td>\n",
       "      <td>24.0</td>\n",
       "      <td>N</td>\n",
       "      <td>B</td>\n",
       "      <td>F</td>\n",
       "      <td>False</td>\n",
       "    </tr>\n",
       "  </tbody>\n",
       "</table>\n",
       "</div>"
      ],
      "text/plain": [
       "   id  observation_id     proba  true_class  predicted_class Department Name  \\\n",
       "0   4               3  0.324282         1.0                0         Milford   \n",
       "1   7               6  0.259167         0.0                0       Naugatuck   \n",
       "2   8               7  0.259167         0.0                0       Naugatuck   \n",
       "3   9               8  0.581199         0.0                1     Glastonbury   \n",
       "4  10               9  0.581199         0.0                1     Glastonbury   \n",
       "\n",
       "     InterventionDateTime InterventionLocationName InterventionReasonCode  \\\n",
       "0  05/16/2018 04:08:00 AM                  MILFORD                      E   \n",
       "1  05/16/2018 11:43:00 AM                NAUGATUCK                      I   \n",
       "2  05/16/2018 11:43:00 AM                NAUGATUCK                      I   \n",
       "3  05/16/2018 12:17:00 PM              Glastonbury                      V   \n",
       "4  05/16/2018 12:17:00 PM              Glastonbury                      V   \n",
       "\n",
       "  ReportingOfficerIdentificationID  ResidentIndicator SearchAuthorizationCode  \\\n",
       "0                              473               True                       I   \n",
       "1                           100296               True                       I   \n",
       "2                           100296               True                       I   \n",
       "3                          BWC0441               True                       O   \n",
       "4                          BWC0441               True                       O   \n",
       "\n",
       "            StatuteReason  SubjectAge SubjectEthnicityCode SubjectRaceCode  \\\n",
       "0                   Other        49.0                    N               B   \n",
       "1  Administrative Offense        23.0                    H               W   \n",
       "2  Administrative Offense        23.0                    H               W   \n",
       "3        Moving Violation        24.0                    N               B   \n",
       "4        Moving Violation        24.0                    N               B   \n",
       "\n",
       "  SubjectSexCode  TownResidentIndicator  \n",
       "0              F                  False  \n",
       "1              M                  False  \n",
       "2              M                  False  \n",
       "3              F                  False  \n",
       "4              F                  False  "
      ]
     },
     "execution_count": 9,
     "metadata": {},
     "output_type": "execute_result"
    }
   ],
   "source": [
    "trial_df = trial_df.drop(columns=[\"observation\"])\n",
    "trial_df = trial_df.merge(obs, on='observation_id')\n",
    "trial_df.head()"
   ]
  },
  {
   "cell_type": "code",
   "execution_count": 10,
   "metadata": {
    "scrolled": true
   },
   "outputs": [
    {
     "name": "stdout",
     "output_type": "stream",
     "text": [
      "0.5751789976133651\n",
      "0.5844636251541308\n",
      "0.547085201793722\n",
      "0.0\n",
      "0.5924764890282131\n",
      "0.5994087213599408\n",
      "0.5505952380952381\n",
      "0.5\n",
      "0.5\n"
     ]
    },
    {
     "name": "stderr",
     "output_type": "stream",
     "text": [
      "C:\\Anaconda3\\envs\\capstone_env\\lib\\site-packages\\sklearn\\metrics\\classification.py:1437: UndefinedMetricWarning: Precision is ill-defined and being set to 0.0 due to no predicted samples.\n",
      "  'precision', 'predicted', average, warn_for)\n"
     ]
    }
   ],
   "source": [
    "precision_female = precision_score(trial_df[trial_df.SubjectSexCode == 'F'].true_class, trial_df[trial_df.SubjectSexCode == 'F'].predicted_class)\n",
    "precision_male = precision_score(trial_df[trial_df.SubjectSexCode == 'M'].true_class, trial_df[trial_df.SubjectSexCode == 'M'].predicted_class)\n",
    "precision_hispanic = precision_score(trial_df[trial_df.SubjectEthnicityCode == 'H'].true_class, trial_df[trial_df.SubjectEthnicityCode == 'H'].predicted_class)\n",
    "precision_middle_eastern = precision_score(trial_df[trial_df.SubjectEthnicityCode == 'M'].true_class, trial_df[trial_df.SubjectEthnicityCode == 'M'].predicted_class)\n",
    "precision_not_applicable_ethnicity = precision_score(trial_df[trial_df.SubjectEthnicityCode == 'N'].true_class, trial_df[trial_df.SubjectEthnicityCode == 'N'].predicted_class)\n",
    "precision_white = precision_score(trial_df[trial_df.SubjectRaceCode == 'W'].true_class, trial_df[trial_df.SubjectRaceCode == 'W'].predicted_class)\n",
    "precision_black = precision_score(trial_df[trial_df.SubjectRaceCode == 'B'].true_class, trial_df[trial_df.SubjectRaceCode == 'B'].predicted_class)\n",
    "precision_indian = precision_score(trial_df[trial_df.SubjectRaceCode == 'I'].true_class, trial_df[trial_df.SubjectRaceCode == 'I'].predicted_class)\n",
    "precision_asian = precision_score(trial_df[trial_df.SubjectRaceCode == 'A'].true_class, trial_df[trial_df.SubjectRaceCode == 'A'].predicted_class)\n",
    "print(precision_female)\n",
    "print(precision_male)\n",
    "print(precision_hispanic)\n",
    "print(precision_middle_eastern)\n",
    "print(precision_not_applicable_ethnicity)\n",
    "print(precision_white)\n",
    "print(precision_black)\n",
    "print(precision_indian)\n",
    "print(precision_asian)"
   ]
  },
  {
   "cell_type": "markdown",
   "metadata": {},
   "source": [
    "Section Population Analysis"
   ]
  },
  {
   "cell_type": "code",
   "execution_count": 11,
   "metadata": {},
   "outputs": [],
   "source": [
    "for i in np.unique(trial_df['Department Name'].values):\n",
    "    if i not in np.unique(train_df['Department Name'].values):\n",
    "        print(i)"
   ]
  },
  {
   "cell_type": "code",
   "execution_count": 12,
   "metadata": {},
   "outputs": [
    {
     "name": "stdout",
     "output_type": "stream",
     "text": [
      "['CCSU', 'Canton', 'ECSU', 'MET DIST WATER AUTHORITY', 'MTA', 'MTA Stamford', 'Madison', 'Middlebury', 'Orange', 'Redding', 'State Police', 'WCSU']\n",
      "12\n"
     ]
    }
   ],
   "source": [
    "department_not_in_production = []\n",
    "for i in np.unique(train_df['Department Name'].values):\n",
    "    if i not in np.unique(trial_df['Department Name'].values):\n",
    "        department_not_in_production.append(i)\n",
    "        \n",
    "print(department_not_in_production)\n",
    "print(len(department_not_in_production))"
   ]
  },
  {
   "cell_type": "code",
   "execution_count": 13,
   "metadata": {},
   "outputs": [
    {
     "data": {
      "text/html": [
       "<div>\n",
       "<style scoped>\n",
       "    .dataframe tbody tr th:only-of-type {\n",
       "        vertical-align: middle;\n",
       "    }\n",
       "\n",
       "    .dataframe tbody tr th {\n",
       "        vertical-align: top;\n",
       "    }\n",
       "\n",
       "    .dataframe thead th {\n",
       "        text-align: right;\n",
       "    }\n",
       "</style>\n",
       "<table border=\"1\" class=\"dataframe\">\n",
       "  <thead>\n",
       "    <tr style=\"text-align: right;\">\n",
       "      <th></th>\n",
       "      <th>VehicleSearchedIndicator</th>\n",
       "      <th>ContrabandIndicator</th>\n",
       "      <th>Department Name</th>\n",
       "      <th>InterventionDateTime</th>\n",
       "      <th>InterventionLocationName</th>\n",
       "      <th>InterventionReasonCode</th>\n",
       "      <th>ReportingOfficerIdentificationID</th>\n",
       "      <th>ResidentIndicator</th>\n",
       "      <th>SearchAuthorizationCode</th>\n",
       "      <th>StatuteReason</th>\n",
       "      <th>SubjectAge</th>\n",
       "      <th>SubjectEthnicityCode</th>\n",
       "      <th>SubjectRaceCode</th>\n",
       "      <th>SubjectSexCode</th>\n",
       "      <th>TownResidentIndicator</th>\n",
       "    </tr>\n",
       "  </thead>\n",
       "  <tbody>\n",
       "    <tr>\n",
       "      <th>127366</th>\n",
       "      <td>True</td>\n",
       "      <td>False</td>\n",
       "      <td>Milford</td>\n",
       "      <td>01/01/2014 01:00:00 AM</td>\n",
       "      <td>MILFORD</td>\n",
       "      <td>V</td>\n",
       "      <td>2117</td>\n",
       "      <td>False</td>\n",
       "      <td>C</td>\n",
       "      <td>Moving Violation</td>\n",
       "      <td>26.0</td>\n",
       "      <td>N</td>\n",
       "      <td>W</td>\n",
       "      <td>M</td>\n",
       "      <td>False</td>\n",
       "    </tr>\n",
       "    <tr>\n",
       "      <th>127833</th>\n",
       "      <td>True</td>\n",
       "      <td>True</td>\n",
       "      <td>Stratford</td>\n",
       "      <td>01/01/2014 01:01:00 PM</td>\n",
       "      <td>STRATFORD</td>\n",
       "      <td>V</td>\n",
       "      <td>10154</td>\n",
       "      <td>True</td>\n",
       "      <td>O</td>\n",
       "      <td>Other</td>\n",
       "      <td>30.0</td>\n",
       "      <td>M</td>\n",
       "      <td>B</td>\n",
       "      <td>F</td>\n",
       "      <td>False</td>\n",
       "    </tr>\n",
       "    <tr>\n",
       "      <th>127384</th>\n",
       "      <td>True</td>\n",
       "      <td>False</td>\n",
       "      <td>Willimantic</td>\n",
       "      <td>01/01/2014 01:08:00 AM</td>\n",
       "      <td>WILLIMANTIC</td>\n",
       "      <td>V</td>\n",
       "      <td>319</td>\n",
       "      <td>True</td>\n",
       "      <td>N</td>\n",
       "      <td>Stop Sign</td>\n",
       "      <td>28.0</td>\n",
       "      <td>M</td>\n",
       "      <td>W</td>\n",
       "      <td>F</td>\n",
       "      <td>True</td>\n",
       "    </tr>\n",
       "    <tr>\n",
       "      <th>127397</th>\n",
       "      <td>True</td>\n",
       "      <td>False</td>\n",
       "      <td>Norwalk</td>\n",
       "      <td>01/01/2014 01:14:00 AM</td>\n",
       "      <td>NORWALK</td>\n",
       "      <td>V</td>\n",
       "      <td>173</td>\n",
       "      <td>True</td>\n",
       "      <td>O</td>\n",
       "      <td>Other</td>\n",
       "      <td>45.0</td>\n",
       "      <td>N</td>\n",
       "      <td>B</td>\n",
       "      <td>M</td>\n",
       "      <td>True</td>\n",
       "    </tr>\n",
       "    <tr>\n",
       "      <th>127865</th>\n",
       "      <td>True</td>\n",
       "      <td>False</td>\n",
       "      <td>Wethersfield</td>\n",
       "      <td>01/01/2014 01:38:00 PM</td>\n",
       "      <td>Wethersfield</td>\n",
       "      <td>V</td>\n",
       "      <td>PJM0164</td>\n",
       "      <td>True</td>\n",
       "      <td>C</td>\n",
       "      <td>Display of Plates</td>\n",
       "      <td>19.0</td>\n",
       "      <td>H</td>\n",
       "      <td>W</td>\n",
       "      <td>M</td>\n",
       "      <td>False</td>\n",
       "    </tr>\n",
       "  </tbody>\n",
       "</table>\n",
       "</div>"
      ],
      "text/plain": [
       "        VehicleSearchedIndicator  ContrabandIndicator Department Name  \\\n",
       "127366                      True                False         Milford   \n",
       "127833                      True                 True       Stratford   \n",
       "127384                      True                False     Willimantic   \n",
       "127397                      True                False         Norwalk   \n",
       "127865                      True                False    Wethersfield   \n",
       "\n",
       "          InterventionDateTime InterventionLocationName  \\\n",
       "127366  01/01/2014 01:00:00 AM                 MILFORD    \n",
       "127833  01/01/2014 01:01:00 PM     STRATFORD              \n",
       "127384  01/01/2014 01:08:00 AM              WILLIMANTIC   \n",
       "127397  01/01/2014 01:14:00 AM     NORWALK                \n",
       "127865  01/01/2014 01:38:00 PM             Wethersfield   \n",
       "\n",
       "       InterventionReasonCode ReportingOfficerIdentificationID  \\\n",
       "127366                      V                             2117   \n",
       "127833                      V                            10154   \n",
       "127384                      V                              319   \n",
       "127397                      V                              173   \n",
       "127865                      V                          PJM0164   \n",
       "\n",
       "        ResidentIndicator SearchAuthorizationCode      StatuteReason  \\\n",
       "127366              False                       C   Moving Violation   \n",
       "127833               True                       O              Other   \n",
       "127384               True                       N          Stop Sign   \n",
       "127397               True                       O              Other   \n",
       "127865               True                       C  Display of Plates   \n",
       "\n",
       "        SubjectAge SubjectEthnicityCode SubjectRaceCode SubjectSexCode  \\\n",
       "127366        26.0                    N               W              M   \n",
       "127833        30.0                    M               B              F   \n",
       "127384        28.0                    M               W              F   \n",
       "127397        45.0                    N               B              M   \n",
       "127865        19.0                    H               W              M   \n",
       "\n",
       "        TownResidentIndicator  \n",
       "127366                  False  \n",
       "127833                  False  \n",
       "127384                   True  \n",
       "127397                   True  \n",
       "127865                  False  "
      ]
     },
     "execution_count": 13,
     "metadata": {},
     "output_type": "execute_result"
    }
   ],
   "source": [
    "train_df = train_df.sort_values(by=['InterventionDateTime'])\n",
    "train_df.head()"
   ]
  },
  {
   "cell_type": "code",
   "execution_count": 14,
   "metadata": {},
   "outputs": [
    {
     "data": {
      "text/html": [
       "<div>\n",
       "<style scoped>\n",
       "    .dataframe tbody tr th:only-of-type {\n",
       "        vertical-align: middle;\n",
       "    }\n",
       "\n",
       "    .dataframe tbody tr th {\n",
       "        vertical-align: top;\n",
       "    }\n",
       "\n",
       "    .dataframe thead th {\n",
       "        text-align: right;\n",
       "    }\n",
       "</style>\n",
       "<table border=\"1\" class=\"dataframe\">\n",
       "  <thead>\n",
       "    <tr style=\"text-align: right;\">\n",
       "      <th></th>\n",
       "      <th>VehicleSearchedIndicator</th>\n",
       "      <th>ContrabandIndicator</th>\n",
       "      <th>Department Name</th>\n",
       "      <th>InterventionDateTime</th>\n",
       "      <th>InterventionLocationName</th>\n",
       "      <th>InterventionReasonCode</th>\n",
       "      <th>ReportingOfficerIdentificationID</th>\n",
       "      <th>ResidentIndicator</th>\n",
       "      <th>SearchAuthorizationCode</th>\n",
       "      <th>StatuteReason</th>\n",
       "      <th>SubjectAge</th>\n",
       "      <th>SubjectEthnicityCode</th>\n",
       "      <th>SubjectRaceCode</th>\n",
       "      <th>SubjectSexCode</th>\n",
       "      <th>TownResidentIndicator</th>\n",
       "    </tr>\n",
       "  </thead>\n",
       "  <tbody>\n",
       "    <tr>\n",
       "      <th>2076241</th>\n",
       "      <td>True</td>\n",
       "      <td>True</td>\n",
       "      <td>West Hartford</td>\n",
       "      <td>12/31/2017 11:55:00 AM</td>\n",
       "      <td>West Hartford</td>\n",
       "      <td>V</td>\n",
       "      <td>1000002072</td>\n",
       "      <td>True</td>\n",
       "      <td>O</td>\n",
       "      <td>Moving Violation</td>\n",
       "      <td>41.0</td>\n",
       "      <td>N</td>\n",
       "      <td>W</td>\n",
       "      <td>M</td>\n",
       "      <td>False</td>\n",
       "    </tr>\n",
       "    <tr>\n",
       "      <th>2076877</th>\n",
       "      <td>True</td>\n",
       "      <td>False</td>\n",
       "      <td>Wilton</td>\n",
       "      <td>12/31/2017 11:57:00 PM</td>\n",
       "      <td>WILTON</td>\n",
       "      <td>I</td>\n",
       "      <td>120000067</td>\n",
       "      <td>True</td>\n",
       "      <td>O</td>\n",
       "      <td>Moving Violation</td>\n",
       "      <td>60.0</td>\n",
       "      <td>N</td>\n",
       "      <td>W</td>\n",
       "      <td>F</td>\n",
       "      <td>True</td>\n",
       "    </tr>\n",
       "    <tr>\n",
       "      <th>2076005</th>\n",
       "      <td>True</td>\n",
       "      <td>False</td>\n",
       "      <td>Farmington</td>\n",
       "      <td>12/31/2017 12:11:00 AM</td>\n",
       "      <td>FARMINGTON</td>\n",
       "      <td>V</td>\n",
       "      <td>400</td>\n",
       "      <td>False</td>\n",
       "      <td>O</td>\n",
       "      <td>Defective Lights</td>\n",
       "      <td>21.0</td>\n",
       "      <td>H</td>\n",
       "      <td>W</td>\n",
       "      <td>M</td>\n",
       "      <td>False</td>\n",
       "    </tr>\n",
       "    <tr>\n",
       "      <th>2076006</th>\n",
       "      <td>True</td>\n",
       "      <td>True</td>\n",
       "      <td>Coventry</td>\n",
       "      <td>12/31/2017 12:12:00 AM</td>\n",
       "      <td>Coventry</td>\n",
       "      <td>V</td>\n",
       "      <td>20272</td>\n",
       "      <td>True</td>\n",
       "      <td>O</td>\n",
       "      <td>Speed Related</td>\n",
       "      <td>22.0</td>\n",
       "      <td>N</td>\n",
       "      <td>W</td>\n",
       "      <td>M</td>\n",
       "      <td>False</td>\n",
       "    </tr>\n",
       "    <tr>\n",
       "      <th>2076012</th>\n",
       "      <td>True</td>\n",
       "      <td>True</td>\n",
       "      <td>Naugatuck</td>\n",
       "      <td>12/31/2017 12:21:00 AM</td>\n",
       "      <td>Naugatuck</td>\n",
       "      <td>V</td>\n",
       "      <td>PL31</td>\n",
       "      <td>True</td>\n",
       "      <td>O</td>\n",
       "      <td>Defective Lights</td>\n",
       "      <td>24.0</td>\n",
       "      <td>N</td>\n",
       "      <td>W</td>\n",
       "      <td>F</td>\n",
       "      <td>False</td>\n",
       "    </tr>\n",
       "  </tbody>\n",
       "</table>\n",
       "</div>"
      ],
      "text/plain": [
       "         VehicleSearchedIndicator  ContrabandIndicator Department Name  \\\n",
       "2076241                      True                 True   West Hartford   \n",
       "2076877                      True                False          Wilton   \n",
       "2076005                      True                False      Farmington   \n",
       "2076006                      True                 True        Coventry   \n",
       "2076012                      True                 True       Naugatuck   \n",
       "\n",
       "           InterventionDateTime InterventionLocationName  \\\n",
       "2076241  12/31/2017 11:55:00 AM            West Hartford   \n",
       "2076877  12/31/2017 11:57:00 PM                   WILTON   \n",
       "2076005  12/31/2017 12:11:00 AM               FARMINGTON   \n",
       "2076006  12/31/2017 12:12:00 AM                 Coventry   \n",
       "2076012  12/31/2017 12:21:00 AM                Naugatuck   \n",
       "\n",
       "        InterventionReasonCode ReportingOfficerIdentificationID  \\\n",
       "2076241                      V                       1000002072   \n",
       "2076877                      I                        120000067   \n",
       "2076005                      V                              400   \n",
       "2076006                      V                            20272   \n",
       "2076012                      V                             PL31   \n",
       "\n",
       "         ResidentIndicator SearchAuthorizationCode     StatuteReason  \\\n",
       "2076241               True                       O  Moving Violation   \n",
       "2076877               True                       O  Moving Violation   \n",
       "2076005              False                       O  Defective Lights   \n",
       "2076006               True                       O     Speed Related   \n",
       "2076012               True                       O  Defective Lights   \n",
       "\n",
       "         SubjectAge SubjectEthnicityCode SubjectRaceCode SubjectSexCode  \\\n",
       "2076241        41.0                    N               W              M   \n",
       "2076877        60.0                    N               W              F   \n",
       "2076005        21.0                    H               W              M   \n",
       "2076006        22.0                    N               W              M   \n",
       "2076012        24.0                    N               W              F   \n",
       "\n",
       "         TownResidentIndicator  \n",
       "2076241                  False  \n",
       "2076877                   True  \n",
       "2076005                  False  \n",
       "2076006                  False  \n",
       "2076012                  False  "
      ]
     },
     "execution_count": 14,
     "metadata": {},
     "output_type": "execute_result"
    }
   ],
   "source": [
    "train_df.tail()"
   ]
  },
  {
   "cell_type": "code",
   "execution_count": 15,
   "metadata": {},
   "outputs": [
    {
     "data": {
      "text/html": [
       "<div>\n",
       "<style scoped>\n",
       "    .dataframe tbody tr th:only-of-type {\n",
       "        vertical-align: middle;\n",
       "    }\n",
       "\n",
       "    .dataframe tbody tr th {\n",
       "        vertical-align: top;\n",
       "    }\n",
       "\n",
       "    .dataframe thead th {\n",
       "        text-align: right;\n",
       "    }\n",
       "</style>\n",
       "<table border=\"1\" class=\"dataframe\">\n",
       "  <thead>\n",
       "    <tr style=\"text-align: right;\">\n",
       "      <th></th>\n",
       "      <th>id</th>\n",
       "      <th>observation_id</th>\n",
       "      <th>proba</th>\n",
       "      <th>true_class</th>\n",
       "      <th>predicted_class</th>\n",
       "      <th>Department Name</th>\n",
       "      <th>InterventionDateTime</th>\n",
       "      <th>InterventionLocationName</th>\n",
       "      <th>InterventionReasonCode</th>\n",
       "      <th>ReportingOfficerIdentificationID</th>\n",
       "      <th>ResidentIndicator</th>\n",
       "      <th>SearchAuthorizationCode</th>\n",
       "      <th>StatuteReason</th>\n",
       "      <th>SubjectAge</th>\n",
       "      <th>SubjectEthnicityCode</th>\n",
       "      <th>SubjectRaceCode</th>\n",
       "      <th>SubjectSexCode</th>\n",
       "      <th>TownResidentIndicator</th>\n",
       "    </tr>\n",
       "  </thead>\n",
       "  <tbody>\n",
       "    <tr>\n",
       "      <th>5</th>\n",
       "      <td>11</td>\n",
       "      <td>10</td>\n",
       "      <td>0.562560</td>\n",
       "      <td>1.0</td>\n",
       "      <td>1</td>\n",
       "      <td>New Britain</td>\n",
       "      <td>05/16/2018 01:19:00 PM</td>\n",
       "      <td>New Britain</td>\n",
       "      <td>V</td>\n",
       "      <td>684</td>\n",
       "      <td>False</td>\n",
       "      <td>O</td>\n",
       "      <td>Window Tint</td>\n",
       "      <td>30.0</td>\n",
       "      <td>N</td>\n",
       "      <td>B</td>\n",
       "      <td>M</td>\n",
       "      <td>True</td>\n",
       "    </tr>\n",
       "    <tr>\n",
       "      <th>6</th>\n",
       "      <td>12</td>\n",
       "      <td>11</td>\n",
       "      <td>0.562560</td>\n",
       "      <td>1.0</td>\n",
       "      <td>1</td>\n",
       "      <td>New Britain</td>\n",
       "      <td>05/16/2018 01:19:00 PM</td>\n",
       "      <td>New Britain</td>\n",
       "      <td>V</td>\n",
       "      <td>684</td>\n",
       "      <td>False</td>\n",
       "      <td>O</td>\n",
       "      <td>Window Tint</td>\n",
       "      <td>30.0</td>\n",
       "      <td>N</td>\n",
       "      <td>B</td>\n",
       "      <td>M</td>\n",
       "      <td>True</td>\n",
       "    </tr>\n",
       "    <tr>\n",
       "      <th>8</th>\n",
       "      <td>14</td>\n",
       "      <td>13</td>\n",
       "      <td>0.276715</td>\n",
       "      <td>1.0</td>\n",
       "      <td>0</td>\n",
       "      <td>CSP Troop C</td>\n",
       "      <td>05/16/2018 02:36:00 PM</td>\n",
       "      <td>ELLINGTON</td>\n",
       "      <td>V</td>\n",
       "      <td>1000003160</td>\n",
       "      <td>False</td>\n",
       "      <td>C</td>\n",
       "      <td>Speed Related</td>\n",
       "      <td>48.0</td>\n",
       "      <td>N</td>\n",
       "      <td>W</td>\n",
       "      <td>F</td>\n",
       "      <td>False</td>\n",
       "    </tr>\n",
       "    <tr>\n",
       "      <th>7</th>\n",
       "      <td>13</td>\n",
       "      <td>12</td>\n",
       "      <td>0.276715</td>\n",
       "      <td>1.0</td>\n",
       "      <td>0</td>\n",
       "      <td>CSP Troop C</td>\n",
       "      <td>05/16/2018 02:36:00 PM</td>\n",
       "      <td>ELLINGTON</td>\n",
       "      <td>V</td>\n",
       "      <td>1000003160</td>\n",
       "      <td>False</td>\n",
       "      <td>C</td>\n",
       "      <td>Speed Related</td>\n",
       "      <td>48.0</td>\n",
       "      <td>N</td>\n",
       "      <td>W</td>\n",
       "      <td>F</td>\n",
       "      <td>False</td>\n",
       "    </tr>\n",
       "    <tr>\n",
       "      <th>1816</th>\n",
       "      <td>2</td>\n",
       "      <td>0</td>\n",
       "      <td>0.388104</td>\n",
       "      <td>0.0</td>\n",
       "      <td>1</td>\n",
       "      <td>Vernon</td>\n",
       "      <td>05/16/2018 02:39:00 AM</td>\n",
       "      <td>VERNON</td>\n",
       "      <td>V</td>\n",
       "      <td>625</td>\n",
       "      <td>False</td>\n",
       "      <td>C</td>\n",
       "      <td>Registration</td>\n",
       "      <td>40.0</td>\n",
       "      <td>N</td>\n",
       "      <td>B</td>\n",
       "      <td>M</td>\n",
       "      <td>False</td>\n",
       "    </tr>\n",
       "  </tbody>\n",
       "</table>\n",
       "</div>"
      ],
      "text/plain": [
       "      id  observation_id     proba  true_class  predicted_class  \\\n",
       "5     11              10  0.562560         1.0                1   \n",
       "6     12              11  0.562560         1.0                1   \n",
       "8     14              13  0.276715         1.0                0   \n",
       "7     13              12  0.276715         1.0                0   \n",
       "1816   2               0  0.388104         0.0                1   \n",
       "\n",
       "     Department Name    InterventionDateTime InterventionLocationName  \\\n",
       "5        New Britain  05/16/2018 01:19:00 PM              New Britain   \n",
       "6        New Britain  05/16/2018 01:19:00 PM              New Britain   \n",
       "8        CSP Troop C  05/16/2018 02:36:00 PM                ELLINGTON   \n",
       "7        CSP Troop C  05/16/2018 02:36:00 PM                ELLINGTON   \n",
       "1816          Vernon  05/16/2018 02:39:00 AM                   VERNON   \n",
       "\n",
       "     InterventionReasonCode ReportingOfficerIdentificationID  \\\n",
       "5                         V                              684   \n",
       "6                         V                              684   \n",
       "8                         V                       1000003160   \n",
       "7                         V                       1000003160   \n",
       "1816                      V                              625   \n",
       "\n",
       "      ResidentIndicator SearchAuthorizationCode  StatuteReason  SubjectAge  \\\n",
       "5                 False                       O    Window Tint        30.0   \n",
       "6                 False                       O    Window Tint        30.0   \n",
       "8                 False                       C  Speed Related        48.0   \n",
       "7                 False                       C  Speed Related        48.0   \n",
       "1816              False                       C   Registration        40.0   \n",
       "\n",
       "     SubjectEthnicityCode SubjectRaceCode SubjectSexCode  \\\n",
       "5                       N               B              M   \n",
       "6                       N               B              M   \n",
       "8                       N               W              F   \n",
       "7                       N               W              F   \n",
       "1816                    N               B              M   \n",
       "\n",
       "      TownResidentIndicator  \n",
       "5                      True  \n",
       "6                      True  \n",
       "8                     False  \n",
       "7                     False  \n",
       "1816                  False  "
      ]
     },
     "execution_count": 15,
     "metadata": {},
     "output_type": "execute_result"
    }
   ],
   "source": [
    "trial_df = trial_df.sort_values(by=['InterventionDateTime'])\n",
    "trial_df.head()"
   ]
  },
  {
   "cell_type": "code",
   "execution_count": 16,
   "metadata": {},
   "outputs": [
    {
     "data": {
      "text/html": [
       "<div>\n",
       "<style scoped>\n",
       "    .dataframe tbody tr th:only-of-type {\n",
       "        vertical-align: middle;\n",
       "    }\n",
       "\n",
       "    .dataframe tbody tr th {\n",
       "        vertical-align: top;\n",
       "    }\n",
       "\n",
       "    .dataframe thead th {\n",
       "        text-align: right;\n",
       "    }\n",
       "</style>\n",
       "<table border=\"1\" class=\"dataframe\">\n",
       "  <thead>\n",
       "    <tr style=\"text-align: right;\">\n",
       "      <th></th>\n",
       "      <th>id</th>\n",
       "      <th>observation_id</th>\n",
       "      <th>proba</th>\n",
       "      <th>true_class</th>\n",
       "      <th>predicted_class</th>\n",
       "      <th>Department Name</th>\n",
       "      <th>InterventionDateTime</th>\n",
       "      <th>InterventionLocationName</th>\n",
       "      <th>InterventionReasonCode</th>\n",
       "      <th>ReportingOfficerIdentificationID</th>\n",
       "      <th>ResidentIndicator</th>\n",
       "      <th>SearchAuthorizationCode</th>\n",
       "      <th>StatuteReason</th>\n",
       "      <th>SubjectAge</th>\n",
       "      <th>SubjectEthnicityCode</th>\n",
       "      <th>SubjectRaceCode</th>\n",
       "      <th>SubjectSexCode</th>\n",
       "      <th>TownResidentIndicator</th>\n",
       "    </tr>\n",
       "  </thead>\n",
       "  <tbody>\n",
       "    <tr>\n",
       "      <th>4648</th>\n",
       "      <td>5489</td>\n",
       "      <td>4925</td>\n",
       "      <td>0.134633</td>\n",
       "      <td>0.0</td>\n",
       "      <td>0</td>\n",
       "      <td>Seymour</td>\n",
       "      <td>07/12/2018 12:39:00 AM</td>\n",
       "      <td>Seymour</td>\n",
       "      <td>E</td>\n",
       "      <td>356</td>\n",
       "      <td>True</td>\n",
       "      <td>N</td>\n",
       "      <td>Defective Lights</td>\n",
       "      <td>44.0</td>\n",
       "      <td>N</td>\n",
       "      <td>B</td>\n",
       "      <td>M</td>\n",
       "      <td>False</td>\n",
       "    </tr>\n",
       "    <tr>\n",
       "      <th>4678</th>\n",
       "      <td>5518</td>\n",
       "      <td>4954</td>\n",
       "      <td>0.244755</td>\n",
       "      <td>0.0</td>\n",
       "      <td>0</td>\n",
       "      <td>Hartford</td>\n",
       "      <td>07/12/2018 12:41:00 PM</td>\n",
       "      <td>Hartford</td>\n",
       "      <td>V</td>\n",
       "      <td>655</td>\n",
       "      <td>True</td>\n",
       "      <td>C</td>\n",
       "      <td>Display of Plates</td>\n",
       "      <td>28.0</td>\n",
       "      <td>N</td>\n",
       "      <td>B</td>\n",
       "      <td>M</td>\n",
       "      <td>True</td>\n",
       "    </tr>\n",
       "    <tr>\n",
       "      <th>4679</th>\n",
       "      <td>5519</td>\n",
       "      <td>4955</td>\n",
       "      <td>0.244755</td>\n",
       "      <td>0.0</td>\n",
       "      <td>0</td>\n",
       "      <td>Hartford</td>\n",
       "      <td>07/12/2018 12:41:00 PM</td>\n",
       "      <td>Hartford</td>\n",
       "      <td>V</td>\n",
       "      <td>655</td>\n",
       "      <td>True</td>\n",
       "      <td>C</td>\n",
       "      <td>Display of Plates</td>\n",
       "      <td>28.0</td>\n",
       "      <td>N</td>\n",
       "      <td>B</td>\n",
       "      <td>M</td>\n",
       "      <td>True</td>\n",
       "    </tr>\n",
       "    <tr>\n",
       "      <th>4649</th>\n",
       "      <td>5490</td>\n",
       "      <td>4926</td>\n",
       "      <td>0.519865</td>\n",
       "      <td>0.0</td>\n",
       "      <td>1</td>\n",
       "      <td>Plymouth</td>\n",
       "      <td>07/12/2018 12:57:00 AM</td>\n",
       "      <td>Terryville</td>\n",
       "      <td>V</td>\n",
       "      <td>24</td>\n",
       "      <td>True</td>\n",
       "      <td>O</td>\n",
       "      <td>Speed Related</td>\n",
       "      <td>22.0</td>\n",
       "      <td>N</td>\n",
       "      <td>W</td>\n",
       "      <td>M</td>\n",
       "      <td>True</td>\n",
       "    </tr>\n",
       "    <tr>\n",
       "      <th>4650</th>\n",
       "      <td>5491</td>\n",
       "      <td>4927</td>\n",
       "      <td>0.519865</td>\n",
       "      <td>0.0</td>\n",
       "      <td>1</td>\n",
       "      <td>Plymouth</td>\n",
       "      <td>07/12/2018 12:57:00 AM</td>\n",
       "      <td>Terryville</td>\n",
       "      <td>V</td>\n",
       "      <td>24</td>\n",
       "      <td>True</td>\n",
       "      <td>O</td>\n",
       "      <td>Speed Related</td>\n",
       "      <td>22.0</td>\n",
       "      <td>N</td>\n",
       "      <td>W</td>\n",
       "      <td>M</td>\n",
       "      <td>True</td>\n",
       "    </tr>\n",
       "  </tbody>\n",
       "</table>\n",
       "</div>"
      ],
      "text/plain": [
       "        id  observation_id     proba  true_class  predicted_class  \\\n",
       "4648  5489            4925  0.134633         0.0                0   \n",
       "4678  5518            4954  0.244755         0.0                0   \n",
       "4679  5519            4955  0.244755         0.0                0   \n",
       "4649  5490            4926  0.519865         0.0                1   \n",
       "4650  5491            4927  0.519865         0.0                1   \n",
       "\n",
       "     Department Name    InterventionDateTime InterventionLocationName  \\\n",
       "4648         Seymour  07/12/2018 12:39:00 AM                  Seymour   \n",
       "4678        Hartford  07/12/2018 12:41:00 PM                 Hartford   \n",
       "4679        Hartford  07/12/2018 12:41:00 PM                 Hartford   \n",
       "4649        Plymouth  07/12/2018 12:57:00 AM               Terryville   \n",
       "4650        Plymouth  07/12/2018 12:57:00 AM               Terryville   \n",
       "\n",
       "     InterventionReasonCode ReportingOfficerIdentificationID  \\\n",
       "4648                      E                              356   \n",
       "4678                      V                              655   \n",
       "4679                      V                              655   \n",
       "4649                      V                               24   \n",
       "4650                      V                               24   \n",
       "\n",
       "      ResidentIndicator SearchAuthorizationCode      StatuteReason  \\\n",
       "4648               True                       N   Defective Lights   \n",
       "4678               True                       C  Display of Plates   \n",
       "4679               True                       C  Display of Plates   \n",
       "4649               True                       O      Speed Related   \n",
       "4650               True                       O      Speed Related   \n",
       "\n",
       "      SubjectAge SubjectEthnicityCode SubjectRaceCode SubjectSexCode  \\\n",
       "4648        44.0                    N               B              M   \n",
       "4678        28.0                    N               B              M   \n",
       "4679        28.0                    N               B              M   \n",
       "4649        22.0                    N               W              M   \n",
       "4650        22.0                    N               W              M   \n",
       "\n",
       "      TownResidentIndicator  \n",
       "4648                  False  \n",
       "4678                   True  \n",
       "4679                   True  \n",
       "4649                   True  \n",
       "4650                   True  "
      ]
     },
     "execution_count": 16,
     "metadata": {},
     "output_type": "execute_result"
    }
   ],
   "source": [
    "trial_df.tail()"
   ]
  },
  {
   "cell_type": "code",
   "execution_count": 17,
   "metadata": {},
   "outputs": [
    {
     "name": "stdout",
     "output_type": "stream",
     "text": [
      "YALESVILLE\n"
     ]
    }
   ],
   "source": [
    "for i in np.unique(trial_df.InterventionLocationName.values):\n",
    "    if i not in train_df.InterventionLocationName.values:\n",
    "        print(i)"
   ]
  },
  {
   "cell_type": "code",
   "execution_count": 62,
   "metadata": {},
   "outputs": [
    {
     "name": "stdout",
     "output_type": "stream",
     "text": [
      "524\n"
     ]
    }
   ],
   "source": [
    "department_not_in_production_data = []\n",
    "for i in np.unique(train_df.InterventionLocationName.astype(str).values):\n",
    "    if i not in np.unique(trial_df.InterventionLocationName.values):\n",
    "        department_not_in_production_data.append(i)\n",
    "print(len(department_not_in_production_data))"
   ]
  },
  {
   "cell_type": "code",
   "execution_count": 21,
   "metadata": {},
   "outputs": [
    {
     "data": {
      "text/plain": [
       "V    3650\n",
       "E     840\n",
       "I     510\n",
       "Name: InterventionReasonCode, dtype: int64"
      ]
     },
     "execution_count": 21,
     "metadata": {},
     "output_type": "execute_result"
    }
   ],
   "source": [
    "trial_df.InterventionReasonCode.value_counts()"
   ]
  },
  {
   "cell_type": "code",
   "execution_count": 63,
   "metadata": {},
   "outputs": [
    {
     "data": {
      "text/plain": [
       "V    52896\n",
       "E    11942\n",
       "I     5041\n",
       "Name: InterventionReasonCode, dtype: int64"
      ]
     },
     "execution_count": 63,
     "metadata": {},
     "output_type": "execute_result"
    }
   ],
   "source": [
    "train_df.InterventionReasonCode.value_counts()"
   ]
  },
  {
   "cell_type": "code",
   "execution_count": 23,
   "metadata": {},
   "outputs": [
    {
     "name": "stdout",
     "output_type": "stream",
     "text": [
      "['01', '012', '0149', '02', '0400', '048', '062', '099', '100000072', '1000002276', '1000002284', '1000002291', '100000660', '1000194', '1000241', '1000243', '1000298', '100056', '1001084', '1001096', '100160', '100214', '100247', '100248', '100260', '100275', '100296', '100319', '100330', '100362', '102968', '102975', '1108', '120000226', '1235', '17309', '200058', '211767', '211768', '211774', '211780', '211784', '213240', '213247', '213248', '213255', '2151', '215208', '215219', '300009', '300013', '300026', '30193', '3145', '3146', '3160', '42623', '53802', '55963', '56', '655', '6641', '6643', '671', '71562', '725', '820', '851', '88342', '88352', '938', '9592', 'ARGJ56', 'DAMJ34', 'K9-3', 'LTC0438', 'MCJJ98', 'MCSJ07', 'MLKI91', 'P57', 'PSC27536', 'S25', 'S26', 'S27', 'S35', 'TKDI83']\n",
      "86\n"
     ]
    }
   ],
   "source": [
    "officers_not_present_in_training_data = []\n",
    "for i in np.unique(trial_df.ReportingOfficerIdentificationID.values):\n",
    "    if i not in train_df.ReportingOfficerIdentificationID.values:\n",
    "        officers_not_present_in_training_data.append(i)\n",
    "print(officers_not_present_in_training_data)\n",
    "print(len(officers_not_present_in_training_data))"
   ]
  },
  {
   "cell_type": "code",
   "execution_count": 24,
   "metadata": {},
   "outputs": [
    {
     "name": "stdout",
     "output_type": "stream",
     "text": [
      "4070\n"
     ]
    }
   ],
   "source": [
    "officers_not_present_in_production_data = []\n",
    "for i in np.unique(train_df.ReportingOfficerIdentificationID.astype(str).values):\n",
    "    if i not in np.unique(trial_df.ReportingOfficerIdentificationID.values):\n",
    "        officers_not_present_in_production_data.append(i)\n",
    "print(len(officers_not_present_in_production_data))"
   ]
  },
  {
   "cell_type": "code",
   "execution_count": 27,
   "metadata": {},
   "outputs": [
    {
     "data": {
      "text/plain": [
       "True     63893\n",
       "False     5986\n",
       "Name: ResidentIndicator, dtype: int64"
      ]
     },
     "execution_count": 27,
     "metadata": {},
     "output_type": "execute_result"
    }
   ],
   "source": [
    "train_df.ResidentIndicator.value_counts()"
   ]
  },
  {
   "cell_type": "code",
   "execution_count": 28,
   "metadata": {},
   "outputs": [
    {
     "data": {
      "text/plain": [
       "True     4542\n",
       "False     458\n",
       "Name: ResidentIndicator, dtype: int64"
      ]
     },
     "execution_count": 28,
     "metadata": {},
     "output_type": "execute_result"
    }
   ],
   "source": [
    "trial_df.ResidentIndicator.value_counts()"
   ]
  },
  {
   "cell_type": "code",
   "execution_count": 29,
   "metadata": {},
   "outputs": [
    {
     "data": {
      "text/plain": [
       "O    27546\n",
       "C    25046\n",
       "I    14170\n",
       "N     3107\n",
       "Name: SearchAuthorizationCode, dtype: int64"
      ]
     },
     "execution_count": 29,
     "metadata": {},
     "output_type": "execute_result"
    }
   ],
   "source": [
    "train_df.SearchAuthorizationCode.value_counts()"
   ]
  },
  {
   "cell_type": "code",
   "execution_count": 30,
   "metadata": {},
   "outputs": [
    {
     "data": {
      "text/plain": [
       "O    2094\n",
       "C    1490\n",
       "I    1272\n",
       "N     144\n",
       "Name: SearchAuthorizationCode, dtype: int64"
      ]
     },
     "execution_count": 30,
     "metadata": {},
     "output_type": "execute_result"
    }
   ],
   "source": [
    "trial_df.SearchAuthorizationCode.value_counts()"
   ]
  },
  {
   "cell_type": "code",
   "execution_count": 31,
   "metadata": {},
   "outputs": [
    {
     "data": {
      "text/plain": [
       "Other                     10214\n",
       "Moving Violation           9134\n",
       "Defective Lights           8305\n",
       "Speed Related              7575\n",
       "Registration               6650\n",
       "Display of Plates          5316\n",
       "Administrative Offense     4087\n",
       "Stop Sign                  3383\n",
       "Traffic Control Signal     3365\n",
       "Window Tint                3036\n",
       "Other/Error                2183\n",
       "Seatbelt                   2050\n",
       "Cell Phone                 1543\n",
       "Suspended License          1371\n",
       "Unlicensed Operation        608\n",
       "STC Violation               524\n",
       "Equipment Violation         522\n",
       "Stop Sign                     3\n",
       "Name: StatuteReason, dtype: int64"
      ]
     },
     "execution_count": 31,
     "metadata": {},
     "output_type": "execute_result"
    }
   ],
   "source": [
    "train_df.StatuteReason.value_counts()"
   ]
  },
  {
   "cell_type": "code",
   "execution_count": 32,
   "metadata": {},
   "outputs": [
    {
     "data": {
      "text/plain": [
       "Administrative Offense    644\n",
       "Moving Violation          630\n",
       "Other                     626\n",
       "Speed Related             506\n",
       "Display of Plates         494\n",
       "Registration              480\n",
       "Defective Lights          466\n",
       "Window Tint               250\n",
       "Stop Sign                 230\n",
       "Seatbelt                  220\n",
       "Traffic Control Signal    202\n",
       "Cell Phone                102\n",
       "STC Violation              62\n",
       "Unlicensed Operation       60\n",
       "Equipment Violation        28\n",
       "Name: StatuteReason, dtype: int64"
      ]
     },
     "execution_count": 32,
     "metadata": {},
     "output_type": "execute_result"
    }
   ],
   "source": [
    "trial_df.StatuteReason.value_counts()"
   ]
  },
  {
   "cell_type": "code",
   "execution_count": 33,
   "metadata": {},
   "outputs": [],
   "source": [
    "for i in np.unique(trial_df.StatuteReason.values):\n",
    "    if i not in train_df.StatuteReason.values:\n",
    "        print(i)"
   ]
  },
  {
   "cell_type": "code",
   "execution_count": 34,
   "metadata": {},
   "outputs": [
    {
     "name": "stdout",
     "output_type": "stream",
     "text": [
      "['Other/Error', 'Stop Sign ', 'Suspended License', 'nan']\n",
      "4\n"
     ]
    }
   ],
   "source": [
    "statutereason_not_in_production_data = []\n",
    "for i in np.unique(train_df.StatuteReason.astype(str).values):\n",
    "    if i not in np.unique(trial_df.StatuteReason.values):\n",
    "        statutereason_not_in_production_data.append(i)\n",
    "print(statutereason_not_in_production_data)\n",
    "print(len(statutereason_not_in_production_data))"
   ]
  },
  {
   "cell_type": "code",
   "execution_count": 35,
   "metadata": {},
   "outputs": [
    {
     "data": {
      "text/plain": [
       "64"
      ]
     },
     "execution_count": 35,
     "metadata": {},
     "output_type": "execute_result"
    }
   ],
   "source": [
    "len(np.unique(trial_df.SubjectAge.values))"
   ]
  },
  {
   "cell_type": "code",
   "execution_count": 36,
   "metadata": {},
   "outputs": [
    {
     "data": {
      "text/plain": [
       "87"
      ]
     },
     "execution_count": 36,
     "metadata": {},
     "output_type": "execute_result"
    }
   ],
   "source": [
    "len(np.unique(train_df.SubjectAge.values))"
   ]
  },
  {
   "cell_type": "code",
   "execution_count": 37,
   "metadata": {},
   "outputs": [
    {
     "data": {
      "image/png": "[encoded data removed]",
      "text/plain": [
       "<Figure size 576x576 with 1 Axes>"
      ]
     },
     "metadata": {
      "needs_background": "light"
     },
     "output_type": "display_data"
    }
   ],
   "source": [
    "inches_wide = 8\n",
    "inches_high = 8\n",
    "plt.rcParams[\"figure.figsize\"] = [inches_wide, inches_high]\n",
    "ax = trial_df.SubjectAge.plot.hist(xlim=(0,100), bins=100, color='red', xticks = [0, 10, 16, 20, 40, 60, 80, 100], title = \"Age Distribution\");\n",
    "ax.set_xlabel(\"Age\")\n",
    "axis = plt.gca();"
   ]
  },
  {
   "cell_type": "code",
   "execution_count": 38,
   "metadata": {},
   "outputs": [
    {
     "data": {
      "text/plain": [
       "N    3720\n",
       "H    1280\n",
       "Name: SubjectEthnicityCode, dtype: int64"
      ]
     },
     "execution_count": 38,
     "metadata": {},
     "output_type": "execute_result"
    }
   ],
   "source": [
    "trial_df.SubjectEthnicityCode.value_counts()"
   ]
  },
  {
   "cell_type": "code",
   "execution_count": 39,
   "metadata": {},
   "outputs": [
    {
     "data": {
      "text/plain": [
       "N    53177\n",
       "H    15831\n",
       "M      871\n",
       "Name: SubjectEthnicityCode, dtype: int64"
      ]
     },
     "execution_count": 39,
     "metadata": {},
     "output_type": "execute_result"
    }
   ],
   "source": [
    "train_df.SubjectEthnicityCode.value_counts()"
   ]
  },
  {
   "cell_type": "code",
   "execution_count": 40,
   "metadata": {},
   "outputs": [
    {
     "data": {
      "text/plain": [
       "W    48969\n",
       "B    20259\n",
       "A      460\n",
       "I      191\n",
       "Name: SubjectRaceCode, dtype: int64"
      ]
     },
     "execution_count": 40,
     "metadata": {},
     "output_type": "execute_result"
    }
   ],
   "source": [
    "train_df.SubjectRaceCode.value_counts()"
   ]
  },
  {
   "cell_type": "code",
   "execution_count": 41,
   "metadata": {},
   "outputs": [
    {
     "data": {
      "text/plain": [
       "W    3333\n",
       "B    1611\n",
       "A      46\n",
       "I      10\n",
       "Name: SubjectRaceCode, dtype: int64"
      ]
     },
     "execution_count": 41,
     "metadata": {},
     "output_type": "execute_result"
    }
   ],
   "source": [
    "trial_df.SubjectRaceCode.value_counts()"
   ]
  },
  {
   "cell_type": "code",
   "execution_count": 42,
   "metadata": {},
   "outputs": [
    {
     "data": {
      "text/plain": [
       "M    57135\n",
       "F    12744\n",
       "Name: SubjectSexCode, dtype: int64"
      ]
     },
     "execution_count": 42,
     "metadata": {},
     "output_type": "execute_result"
    }
   ],
   "source": [
    "train_df.SubjectSexCode.value_counts()"
   ]
  },
  {
   "cell_type": "code",
   "execution_count": 43,
   "metadata": {},
   "outputs": [
    {
     "data": {
      "text/plain": [
       "M    3955\n",
       "F    1045\n",
       "Name: SubjectSexCode, dtype: int64"
      ]
     },
     "execution_count": 43,
     "metadata": {},
     "output_type": "execute_result"
    }
   ],
   "source": [
    "trial_df.SubjectSexCode.value_counts()"
   ]
  },
  {
   "cell_type": "code",
   "execution_count": 44,
   "metadata": {},
   "outputs": [
    {
     "data": {
      "text/plain": [
       "False    42247\n",
       "True     27632\n",
       "Name: TownResidentIndicator, dtype: int64"
      ]
     },
     "execution_count": 44,
     "metadata": {},
     "output_type": "execute_result"
    }
   ],
   "source": [
    "train_df.TownResidentIndicator.value_counts()"
   ]
  },
  {
   "cell_type": "code",
   "execution_count": 45,
   "metadata": {},
   "outputs": [
    {
     "data": {
      "text/plain": [
       "False    2772\n",
       "True     2228\n",
       "Name: TownResidentIndicator, dtype: int64"
      ]
     },
     "execution_count": 45,
     "metadata": {},
     "output_type": "execute_result"
    }
   ],
   "source": [
    "trial_df.TownResidentIndicator.value_counts()"
   ]
  },
  {
   "cell_type": "code",
   "execution_count": 46,
   "metadata": {},
   "outputs": [
    {
     "data": {
      "text/plain": [
       "(69879, 15)"
      ]
     },
     "execution_count": 46,
     "metadata": {},
     "output_type": "execute_result"
    }
   ],
   "source": [
    "train_df.shape"
   ]
  },
  {
   "cell_type": "code",
   "execution_count": 47,
   "metadata": {},
   "outputs": [
    {
     "data": {
      "text/plain": [
       "(5000, 18)"
      ]
     },
     "execution_count": 47,
     "metadata": {},
     "output_type": "execute_result"
    }
   ],
   "source": [
    "trial_df.shape"
   ]
  },
  {
   "cell_type": "code",
   "execution_count": 48,
   "metadata": {},
   "outputs": [
    {
     "data": {
      "text/html": [
       "<div>\n",
       "<style scoped>\n",
       "    .dataframe tbody tr th:only-of-type {\n",
       "        vertical-align: middle;\n",
       "    }\n",
       "\n",
       "    .dataframe tbody tr th {\n",
       "        vertical-align: top;\n",
       "    }\n",
       "\n",
       "    .dataframe thead th {\n",
       "        text-align: right;\n",
       "    }\n",
       "</style>\n",
       "<table border=\"1\" class=\"dataframe\">\n",
       "  <thead>\n",
       "    <tr style=\"text-align: right;\">\n",
       "      <th></th>\n",
       "      <th>id</th>\n",
       "      <th>observation_id</th>\n",
       "      <th>proba</th>\n",
       "      <th>true_class</th>\n",
       "      <th>predicted_class</th>\n",
       "      <th>Department Name</th>\n",
       "      <th>InterventionDateTime</th>\n",
       "      <th>InterventionLocationName</th>\n",
       "      <th>InterventionReasonCode</th>\n",
       "      <th>ReportingOfficerIdentificationID</th>\n",
       "      <th>ResidentIndicator</th>\n",
       "      <th>SearchAuthorizationCode</th>\n",
       "      <th>StatuteReason</th>\n",
       "      <th>SubjectAge</th>\n",
       "      <th>SubjectEthnicityCode</th>\n",
       "      <th>SubjectRaceCode</th>\n",
       "      <th>SubjectSexCode</th>\n",
       "      <th>TownResidentIndicator</th>\n",
       "    </tr>\n",
       "  </thead>\n",
       "  <tbody>\n",
       "    <tr>\n",
       "      <th>5</th>\n",
       "      <td>11</td>\n",
       "      <td>10</td>\n",
       "      <td>0.562560</td>\n",
       "      <td>1.0</td>\n",
       "      <td>1</td>\n",
       "      <td>New Britain</td>\n",
       "      <td>05/16/2018 01:19:00 PM</td>\n",
       "      <td>New Britain</td>\n",
       "      <td>V</td>\n",
       "      <td>684</td>\n",
       "      <td>False</td>\n",
       "      <td>O</td>\n",
       "      <td>Window Tint</td>\n",
       "      <td>30.0</td>\n",
       "      <td>N</td>\n",
       "      <td>B</td>\n",
       "      <td>M</td>\n",
       "      <td>True</td>\n",
       "    </tr>\n",
       "    <tr>\n",
       "      <th>6</th>\n",
       "      <td>12</td>\n",
       "      <td>11</td>\n",
       "      <td>0.562560</td>\n",
       "      <td>1.0</td>\n",
       "      <td>1</td>\n",
       "      <td>New Britain</td>\n",
       "      <td>05/16/2018 01:19:00 PM</td>\n",
       "      <td>New Britain</td>\n",
       "      <td>V</td>\n",
       "      <td>684</td>\n",
       "      <td>False</td>\n",
       "      <td>O</td>\n",
       "      <td>Window Tint</td>\n",
       "      <td>30.0</td>\n",
       "      <td>N</td>\n",
       "      <td>B</td>\n",
       "      <td>M</td>\n",
       "      <td>True</td>\n",
       "    </tr>\n",
       "    <tr>\n",
       "      <th>8</th>\n",
       "      <td>14</td>\n",
       "      <td>13</td>\n",
       "      <td>0.276715</td>\n",
       "      <td>1.0</td>\n",
       "      <td>0</td>\n",
       "      <td>CSP Troop C</td>\n",
       "      <td>05/16/2018 02:36:00 PM</td>\n",
       "      <td>ELLINGTON</td>\n",
       "      <td>V</td>\n",
       "      <td>1000003160</td>\n",
       "      <td>False</td>\n",
       "      <td>C</td>\n",
       "      <td>Speed Related</td>\n",
       "      <td>48.0</td>\n",
       "      <td>N</td>\n",
       "      <td>W</td>\n",
       "      <td>F</td>\n",
       "      <td>False</td>\n",
       "    </tr>\n",
       "    <tr>\n",
       "      <th>7</th>\n",
       "      <td>13</td>\n",
       "      <td>12</td>\n",
       "      <td>0.276715</td>\n",
       "      <td>1.0</td>\n",
       "      <td>0</td>\n",
       "      <td>CSP Troop C</td>\n",
       "      <td>05/16/2018 02:36:00 PM</td>\n",
       "      <td>ELLINGTON</td>\n",
       "      <td>V</td>\n",
       "      <td>1000003160</td>\n",
       "      <td>False</td>\n",
       "      <td>C</td>\n",
       "      <td>Speed Related</td>\n",
       "      <td>48.0</td>\n",
       "      <td>N</td>\n",
       "      <td>W</td>\n",
       "      <td>F</td>\n",
       "      <td>False</td>\n",
       "    </tr>\n",
       "    <tr>\n",
       "      <th>1816</th>\n",
       "      <td>2</td>\n",
       "      <td>0</td>\n",
       "      <td>0.388104</td>\n",
       "      <td>0.0</td>\n",
       "      <td>1</td>\n",
       "      <td>Vernon</td>\n",
       "      <td>05/16/2018 02:39:00 AM</td>\n",
       "      <td>VERNON</td>\n",
       "      <td>V</td>\n",
       "      <td>625</td>\n",
       "      <td>False</td>\n",
       "      <td>C</td>\n",
       "      <td>Registration</td>\n",
       "      <td>40.0</td>\n",
       "      <td>N</td>\n",
       "      <td>B</td>\n",
       "      <td>M</td>\n",
       "      <td>False</td>\n",
       "    </tr>\n",
       "  </tbody>\n",
       "</table>\n",
       "</div>"
      ],
      "text/plain": [
       "      id  observation_id     proba  true_class  predicted_class  \\\n",
       "5     11              10  0.562560         1.0                1   \n",
       "6     12              11  0.562560         1.0                1   \n",
       "8     14              13  0.276715         1.0                0   \n",
       "7     13              12  0.276715         1.0                0   \n",
       "1816   2               0  0.388104         0.0                1   \n",
       "\n",
       "     Department Name    InterventionDateTime InterventionLocationName  \\\n",
       "5        New Britain  05/16/2018 01:19:00 PM              New Britain   \n",
       "6        New Britain  05/16/2018 01:19:00 PM              New Britain   \n",
       "8        CSP Troop C  05/16/2018 02:36:00 PM                ELLINGTON   \n",
       "7        CSP Troop C  05/16/2018 02:36:00 PM                ELLINGTON   \n",
       "1816          Vernon  05/16/2018 02:39:00 AM                   VERNON   \n",
       "\n",
       "     InterventionReasonCode ReportingOfficerIdentificationID  \\\n",
       "5                         V                              684   \n",
       "6                         V                              684   \n",
       "8                         V                       1000003160   \n",
       "7                         V                       1000003160   \n",
       "1816                      V                              625   \n",
       "\n",
       "      ResidentIndicator SearchAuthorizationCode  StatuteReason  SubjectAge  \\\n",
       "5                 False                       O    Window Tint        30.0   \n",
       "6                 False                       O    Window Tint        30.0   \n",
       "8                 False                       C  Speed Related        48.0   \n",
       "7                 False                       C  Speed Related        48.0   \n",
       "1816              False                       C   Registration        40.0   \n",
       "\n",
       "     SubjectEthnicityCode SubjectRaceCode SubjectSexCode  \\\n",
       "5                       N               B              M   \n",
       "6                       N               B              M   \n",
       "8                       N               W              F   \n",
       "7                       N               W              F   \n",
       "1816                    N               B              M   \n",
       "\n",
       "      TownResidentIndicator  \n",
       "5                      True  \n",
       "6                      True  \n",
       "8                     False  \n",
       "7                     False  \n",
       "1816                  False  "
      ]
     },
     "execution_count": 48,
     "metadata": {},
     "output_type": "execute_result"
    }
   ],
   "source": [
    "trial_df.head()"
   ]
  },
  {
   "cell_type": "markdown",
   "metadata": {},
   "source": [
    "Section Model Performance"
   ]
  },
  {
   "cell_type": "code",
   "execution_count": 49,
   "metadata": {},
   "outputs": [],
   "source": [
    "precision, recall, thresholds = precision_recall_curve(trial_df.true_class, trial_df.proba)"
   ]
  },
  {
   "cell_type": "code",
   "execution_count": 50,
   "metadata": {},
   "outputs": [
    {
     "data": {
      "image/png": "[encoded data removed]",
      "text/plain": [
       "<Figure size 576x360 with 1 Axes>"
      ]
     },
     "metadata": {
      "needs_background": "light"
     },
     "output_type": "display_data"
    }
   ],
   "source": [
    "def plot_precision_recall_vs_threshold(precisions, recall, thresholds): \n",
    "    fig = plt.figure(figsize= (8,5))\n",
    "    plt.plot(thresholds, precisions[:-1], \"b--\", label=\"Precision\")\n",
    "    plt.plot(thresholds, recall[:-1], \"g-\", label=\"Recall\")\n",
    "    plt.legend()\n",
    "\n",
    "plot_precision_recall_vs_threshold(precision, recall, thresholds)"
   ]
  },
  {
   "cell_type": "code",
   "execution_count": 51,
   "metadata": {},
   "outputs": [
    {
     "data": {
      "text/plain": [
       "0.721912"
      ]
     },
     "execution_count": 51,
     "metadata": {},
     "output_type": "execute_result"
    }
   ],
   "source": [
    "trial_df.proba.max()"
   ]
  },
  {
   "cell_type": "code",
   "execution_count": 52,
   "metadata": {},
   "outputs": [
    {
     "data": {
      "text/plain": [
       "array([0.0688828, 0.0690821, 0.0693104, ..., 0.713868 , 0.718265 ,\n",
       "       0.721912 ])"
      ]
     },
     "execution_count": 52,
     "metadata": {},
     "output_type": "execute_result"
    }
   ],
   "source": [
    "thresholds"
   ]
  },
  {
   "cell_type": "code",
   "execution_count": 53,
   "metadata": {},
   "outputs": [
    {
     "data": {
      "text/plain": [
       "array([0.88888889, 0.875     , 0.85714286, 0.83333333, 0.8       ,\n",
       "       0.75      , 0.66666667, 0.5       , 0.        , 1.        ])"
      ]
     },
     "execution_count": 53,
     "metadata": {},
     "output_type": "execute_result"
    }
   ],
   "source": [
    "precision[-10:]"
   ]
  },
  {
   "cell_type": "code",
   "execution_count": 54,
   "metadata": {},
   "outputs": [
    {
     "data": {
      "text/plain": [
       "array([0.00891365, 0.00779944, 0.00668524, 0.00557103, 0.00445682,\n",
       "       0.00334262, 0.00222841, 0.00111421, 0.        , 0.        ])"
      ]
     },
     "execution_count": 54,
     "metadata": {},
     "output_type": "execute_result"
    }
   ],
   "source": [
    "recall[-10:]"
   ]
  },
  {
   "cell_type": "code",
   "execution_count": 55,
   "metadata": {},
   "outputs": [
    {
     "data": {
      "text/plain": [
       "0.5825575698187163"
      ]
     },
     "execution_count": 55,
     "metadata": {},
     "output_type": "execute_result"
    }
   ],
   "source": [
    "precision[:-1][np.greater_equal(thresholds, [0.3873617971247522])][0]"
   ]
  },
  {
   "cell_type": "code",
   "execution_count": 56,
   "metadata": {},
   "outputs": [
    {
     "data": {
      "text/plain": [
       "0.6623955431754874"
      ]
     },
     "execution_count": 56,
     "metadata": {},
     "output_type": "execute_result"
    }
   ],
   "source": [
    "recall[:-1][np.greater_equal(thresholds, [0.3873617971247522])][0]"
   ]
  },
  {
   "cell_type": "code",
   "execution_count": 57,
   "metadata": {},
   "outputs": [],
   "source": [
    "fpr, tpr, _ = roc_curve(trial_df.true_class, trial_df.proba)\n",
    "roc_auc = auc(fpr, tpr)"
   ]
  },
  {
   "cell_type": "code",
   "execution_count": 58,
   "metadata": {},
   "outputs": [],
   "source": [
    "%matplotlib inline"
   ]
  },
  {
   "cell_type": "code",
   "execution_count": 59,
   "metadata": {},
   "outputs": [
    {
     "data": {
      "image/png": "[encoded data removed]",
      "text/plain": [
       "<Figure size 432x288 with 1 Axes>"
      ]
     },
     "metadata": {
      "needs_background": "light"
     },
     "output_type": "display_data"
    }
   ],
   "source": [
    "plt.figure()\n",
    "lw = 2\n",
    "plt.plot(fpr, tpr, color='darkorange',\n",
    "         lw=lw, label='ROC curve (area = %0.2f)' % roc_auc)\n",
    "plt.plot([0, 1], [0, 1], color='navy', lw=lw, linestyle='--')\n",
    "plt.xlim([0.0, 1.0])\n",
    "plt.ylim([0.0, 1.05])\n",
    "plt.xlabel('False Positive Rate')\n",
    "plt.ylabel('True Positive Rate')\n",
    "plt.title('Receiver operating characteristic example')\n",
    "plt.legend(loc=\"lower right\")\n",
    "plt.show()"
   ]
  },
  {
   "cell_type": "code",
   "execution_count": 60,
   "metadata": {},
   "outputs": [
    {
     "data": {
      "text/plain": [
       "0.7717334074978598"
      ]
     },
     "execution_count": 60,
     "metadata": {},
     "output_type": "execute_result"
    }
   ],
   "source": [
    "roc = roc_auc_score(trial_df.true_class, trial_df.proba)\n",
    "roc"
   ]
  },
  {
   "cell_type": "markdown",
   "metadata": {},
   "source": [
    "Sections Population analysis and Unexpected Problems"
   ]
  },
  {
   "cell_type": "code",
   "execution_count": 61,
   "metadata": {},
   "outputs": [
    {
     "data": {
      "text/plain": [
       "'trial_df_dup = trial_df.drop(columns=[\"id\", \"observation_id\", \\'true_class\\'])\\nprint(trial_df_dup.drop_duplicates(keep=\"first\").shape)\\nprint(trial_df_dup.shape)\\ntrial_df_b = trial_df[(trial_df.true_class == 1) | (trial_df.true_class == 0)]\\nprint(trial_df_b.shape)\\nprint(trial_df_b.drop(columns=[\"id\", \"observation_id\", \\'true_class\\']).drop_duplicates(keep=\"first\").shape)'"
      ]
     },
     "execution_count": 61,
     "metadata": {},
     "output_type": "execute_result"
    }
   ],
   "source": [
    "#check for duplicates. Make sure to comment the line \n",
    "#trial_df = trial_df[(trial_df.true_class == 1) | (trial_df.true_class == 0)]\n",
    "#otherwise the analysis won't include the full dataset\n",
    "'''trial_df_dup = trial_df.drop(columns=[\"id\", \"observation_id\", 'true_class'])\n",
    "print(trial_df_dup.drop_duplicates(keep=\"first\").shape)\n",
    "print(trial_df_dup.shape)\n",
    "trial_df_b = trial_df[(trial_df.true_class == 1) | (trial_df.true_class == 0)]\n",
    "print(trial_df_b.shape)\n",
    "print(trial_df_b.drop(columns=[\"id\", \"observation_id\", 'true_class']).drop_duplicates(keep=\"first\").shape)'''"
   ]
  },
  {
   "cell_type": "code",
   "execution_count": null,
   "metadata": {},
   "outputs": [],
   "source": []
  }
 ],
 "metadata": {
  "kernelspec": {
   "display_name": "Python 3",
   "language": "python",
   "name": "python3"
  },
  "language_info": {
   "codemirror_mode": {
    "name": "ipython",
    "version": 3
   },
   "file_extension": ".py",
   "mimetype": "text/x-python",
   "name": "python",
   "nbconvert_exporter": "python",
   "pygments_lexer": "ipython3",
   "version": "3.7.3"
  }
 },
 "nbformat": 4,
 "nbformat_minor": 4
}

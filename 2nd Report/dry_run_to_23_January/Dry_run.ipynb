{
 "cells": [
  {
   "cell_type": "code",
   "execution_count": 1,
   "metadata": {},
   "outputs": [],
   "source": [
    "import os\n",
    "import pandas as pd\n",
    "from sklearn.metrics import precision_score, recall_score, accuracy_score, precision_recall_curve\n",
    "import json\n",
    "import matplotlib.pyplot as plt"
   ]
  },
  {
   "cell_type": "code",
   "execution_count": 2,
   "metadata": {},
   "outputs": [],
   "source": [
    "with open('dry_run.json') as json_file:\n",
    "    data = json.load(json_file)"
   ]
  },
  {
   "cell_type": "code",
   "execution_count": 3,
   "metadata": {},
   "outputs": [
    {
     "data": {
      "text/html": [
       "<div>\n",
       "<style scoped>\n",
       "    .dataframe tbody tr th:only-of-type {\n",
       "        vertical-align: middle;\n",
       "    }\n",
       "\n",
       "    .dataframe tbody tr th {\n",
       "        vertical-align: top;\n",
       "    }\n",
       "\n",
       "    .dataframe thead th {\n",
       "        text-align: right;\n",
       "    }\n",
       "</style>\n",
       "<table border=\"1\" class=\"dataframe\">\n",
       "  <thead>\n",
       "    <tr style=\"text-align: right;\">\n",
       "      <th></th>\n",
       "      <th>id</th>\n",
       "      <th>observation_id</th>\n",
       "      <th>observation</th>\n",
       "      <th>proba</th>\n",
       "      <th>true_class</th>\n",
       "      <th>predicted_class</th>\n",
       "    </tr>\n",
       "  </thead>\n",
       "  <tbody>\n",
       "    <tr>\n",
       "      <th>0</th>\n",
       "      <td>4</td>\n",
       "      <td>3</td>\n",
       "      <td>{\"id\": 3, \"observation\": {\"Department Name\": \"...</td>\n",
       "      <td>0.324282</td>\n",
       "      <td>1.0</td>\n",
       "      <td>0</td>\n",
       "    </tr>\n",
       "    <tr>\n",
       "      <th>1</th>\n",
       "      <td>5</td>\n",
       "      <td>4</td>\n",
       "      <td>{\"id\": 4, \"observation\": {\"Department Name\": \"...</td>\n",
       "      <td>0.150087</td>\n",
       "      <td>0.0</td>\n",
       "      <td>0</td>\n",
       "    </tr>\n",
       "    <tr>\n",
       "      <th>2</th>\n",
       "      <td>6</td>\n",
       "      <td>5</td>\n",
       "      <td>{\"id\": 5, \"observation\": {\"Department Name\": \"...</td>\n",
       "      <td>0.150087</td>\n",
       "      <td>0.0</td>\n",
       "      <td>0</td>\n",
       "    </tr>\n",
       "    <tr>\n",
       "      <th>3</th>\n",
       "      <td>7</td>\n",
       "      <td>6</td>\n",
       "      <td>{\"id\": 6, \"observation\": {\"Department Name\": \"...</td>\n",
       "      <td>0.259167</td>\n",
       "      <td>0.0</td>\n",
       "      <td>0</td>\n",
       "    </tr>\n",
       "    <tr>\n",
       "      <th>4</th>\n",
       "      <td>8</td>\n",
       "      <td>7</td>\n",
       "      <td>{\"id\": 7, \"observation\": {\"Department Name\": \"...</td>\n",
       "      <td>0.259167</td>\n",
       "      <td>0.0</td>\n",
       "      <td>0</td>\n",
       "    </tr>\n",
       "  </tbody>\n",
       "</table>\n",
       "</div>"
      ],
      "text/plain": [
       "   id  observation_id                                        observation  \\\n",
       "0   4               3  {\"id\": 3, \"observation\": {\"Department Name\": \"...   \n",
       "1   5               4  {\"id\": 4, \"observation\": {\"Department Name\": \"...   \n",
       "2   6               5  {\"id\": 5, \"observation\": {\"Department Name\": \"...   \n",
       "3   7               6  {\"id\": 6, \"observation\": {\"Department Name\": \"...   \n",
       "4   8               7  {\"id\": 7, \"observation\": {\"Department Name\": \"...   \n",
       "\n",
       "      proba  true_class  predicted_class  \n",
       "0  0.324282         1.0                0  \n",
       "1  0.150087         0.0                0  \n",
       "2  0.150087         0.0                0  \n",
       "3  0.259167         0.0                0  \n",
       "4  0.259167         0.0                0  "
      ]
     },
     "execution_count": 3,
     "metadata": {},
     "output_type": "execute_result"
    }
   ],
   "source": [
    "trial_df = pd.DataFrame(data[\"values\"], columns = ['id', 'observation_id', 'observation', 'proba', 'true_class', 'predicted_class']) \n",
    "trial_df.head()"
   ]
  },
  {
   "cell_type": "code",
   "execution_count": 4,
   "metadata": {},
   "outputs": [],
   "source": [
    "# Get only observations that received the true_class\n",
    "trial_df = trial_df[(trial_df.true_class == 1) | (trial_df.true_class == 0)]"
   ]
  },
  {
   "cell_type": "code",
   "execution_count": 5,
   "metadata": {},
   "outputs": [
    {
     "data": {
      "text/plain": [
       "0.5238095238095238"
      ]
     },
     "execution_count": 5,
     "metadata": {},
     "output_type": "execute_result"
    }
   ],
   "source": [
    "precision_score(trial_df.true_class, trial_df.predicted_class)"
   ]
  },
  {
   "cell_type": "code",
   "execution_count": 6,
   "metadata": {},
   "outputs": [
    {
     "data": {
      "text/plain": [
       "0.5789473684210527"
      ]
     },
     "execution_count": 6,
     "metadata": {},
     "output_type": "execute_result"
    }
   ],
   "source": [
    "recall_score(trial_df.true_class, trial_df.predicted_class)"
   ]
  },
  {
   "cell_type": "code",
   "execution_count": 7,
   "metadata": {},
   "outputs": [
    {
     "data": {
      "text/plain": [
       "0.6814159292035398"
      ]
     },
     "execution_count": 7,
     "metadata": {},
     "output_type": "execute_result"
    }
   ],
   "source": [
    "accuracy_score(trial_df.true_class, trial_df.predicted_class)"
   ]
  },
  {
   "cell_type": "code",
   "execution_count": 8,
   "metadata": {},
   "outputs": [
    {
     "data": {
      "text/html": [
       "<div>\n",
       "<style scoped>\n",
       "    .dataframe tbody tr th:only-of-type {\n",
       "        vertical-align: middle;\n",
       "    }\n",
       "\n",
       "    .dataframe tbody tr th {\n",
       "        vertical-align: top;\n",
       "    }\n",
       "\n",
       "    .dataframe thead th {\n",
       "        text-align: right;\n",
       "    }\n",
       "</style>\n",
       "<table border=\"1\" class=\"dataframe\">\n",
       "  <thead>\n",
       "    <tr style=\"text-align: right;\">\n",
       "      <th></th>\n",
       "      <th>observation_id</th>\n",
       "      <th>Department Name</th>\n",
       "      <th>InterventionDateTime</th>\n",
       "      <th>InterventionLocationName</th>\n",
       "      <th>InterventionReasonCode</th>\n",
       "      <th>ReportingOfficerIdentificationID</th>\n",
       "      <th>ResidentIndicator</th>\n",
       "      <th>SearchAuthorizationCode</th>\n",
       "      <th>StatuteReason</th>\n",
       "      <th>SubjectAge</th>\n",
       "      <th>SubjectEthnicityCode</th>\n",
       "      <th>SubjectRaceCode</th>\n",
       "      <th>SubjectSexCode</th>\n",
       "      <th>TownResidentIndicator</th>\n",
       "    </tr>\n",
       "  </thead>\n",
       "  <tbody>\n",
       "    <tr>\n",
       "      <th>0</th>\n",
       "      <td>3</td>\n",
       "      <td>Milford</td>\n",
       "      <td>05/16/2018 04:08:00 AM</td>\n",
       "      <td>MILFORD</td>\n",
       "      <td>E</td>\n",
       "      <td>473</td>\n",
       "      <td>True</td>\n",
       "      <td>I</td>\n",
       "      <td>Other</td>\n",
       "      <td>49.0</td>\n",
       "      <td>N</td>\n",
       "      <td>B</td>\n",
       "      <td>F</td>\n",
       "      <td>False</td>\n",
       "    </tr>\n",
       "    <tr>\n",
       "      <th>1</th>\n",
       "      <td>4</td>\n",
       "      <td>Norwalk</td>\n",
       "      <td>05/16/2018 09:38:00 AM</td>\n",
       "      <td>NORWALK</td>\n",
       "      <td>V</td>\n",
       "      <td>100000335</td>\n",
       "      <td>True</td>\n",
       "      <td>I</td>\n",
       "      <td>Defective Lights</td>\n",
       "      <td>35.0</td>\n",
       "      <td>N</td>\n",
       "      <td>W</td>\n",
       "      <td>M</td>\n",
       "      <td>True</td>\n",
       "    </tr>\n",
       "    <tr>\n",
       "      <th>2</th>\n",
       "      <td>5</td>\n",
       "      <td>Norwalk</td>\n",
       "      <td>05/16/2018 09:38:00 AM</td>\n",
       "      <td>NORWALK</td>\n",
       "      <td>V</td>\n",
       "      <td>100000335</td>\n",
       "      <td>True</td>\n",
       "      <td>I</td>\n",
       "      <td>Defective Lights</td>\n",
       "      <td>35.0</td>\n",
       "      <td>N</td>\n",
       "      <td>W</td>\n",
       "      <td>M</td>\n",
       "      <td>True</td>\n",
       "    </tr>\n",
       "    <tr>\n",
       "      <th>3</th>\n",
       "      <td>6</td>\n",
       "      <td>Naugatuck</td>\n",
       "      <td>05/16/2018 11:43:00 AM</td>\n",
       "      <td>NAUGATUCK</td>\n",
       "      <td>I</td>\n",
       "      <td>100296</td>\n",
       "      <td>True</td>\n",
       "      <td>I</td>\n",
       "      <td>Administrative Offense</td>\n",
       "      <td>23.0</td>\n",
       "      <td>H</td>\n",
       "      <td>W</td>\n",
       "      <td>M</td>\n",
       "      <td>False</td>\n",
       "    </tr>\n",
       "    <tr>\n",
       "      <th>4</th>\n",
       "      <td>7</td>\n",
       "      <td>Naugatuck</td>\n",
       "      <td>05/16/2018 11:43:00 AM</td>\n",
       "      <td>NAUGATUCK</td>\n",
       "      <td>I</td>\n",
       "      <td>100296</td>\n",
       "      <td>True</td>\n",
       "      <td>I</td>\n",
       "      <td>Administrative Offense</td>\n",
       "      <td>23.0</td>\n",
       "      <td>H</td>\n",
       "      <td>W</td>\n",
       "      <td>M</td>\n",
       "      <td>False</td>\n",
       "    </tr>\n",
       "  </tbody>\n",
       "</table>\n",
       "</div>"
      ],
      "text/plain": [
       "   observation_id Department Name    InterventionDateTime  \\\n",
       "0               3         Milford  05/16/2018 04:08:00 AM   \n",
       "1               4         Norwalk  05/16/2018 09:38:00 AM   \n",
       "2               5         Norwalk  05/16/2018 09:38:00 AM   \n",
       "3               6       Naugatuck  05/16/2018 11:43:00 AM   \n",
       "4               7       Naugatuck  05/16/2018 11:43:00 AM   \n",
       "\n",
       "  InterventionLocationName InterventionReasonCode  \\\n",
       "0                  MILFORD                      E   \n",
       "1                  NORWALK                      V   \n",
       "2                  NORWALK                      V   \n",
       "3                NAUGATUCK                      I   \n",
       "4                NAUGATUCK                      I   \n",
       "\n",
       "  ReportingOfficerIdentificationID  ResidentIndicator SearchAuthorizationCode  \\\n",
       "0                              473               True                       I   \n",
       "1                        100000335               True                       I   \n",
       "2                        100000335               True                       I   \n",
       "3                           100296               True                       I   \n",
       "4                           100296               True                       I   \n",
       "\n",
       "            StatuteReason  SubjectAge SubjectEthnicityCode SubjectRaceCode  \\\n",
       "0                   Other        49.0                    N               B   \n",
       "1        Defective Lights        35.0                    N               W   \n",
       "2        Defective Lights        35.0                    N               W   \n",
       "3  Administrative Offense        23.0                    H               W   \n",
       "4  Administrative Offense        23.0                    H               W   \n",
       "\n",
       "  SubjectSexCode  TownResidentIndicator  \n",
       "0              F                  False  \n",
       "1              M                   True  \n",
       "2              M                   True  \n",
       "3              M                  False  \n",
       "4              M                  False  "
      ]
     },
     "execution_count": 8,
     "metadata": {},
     "output_type": "execute_result"
    }
   ],
   "source": [
    "obs_id = trial_df.observation.apply(lambda x: json.loads(x)['id'])\n",
    "obs = trial_df.observation.apply(lambda x: json.loads(x)['observation']).apply(pd.Series).set_index(obs_id)\n",
    "obs = obs.reset_index().rename(columns={\"observation\": \"observation_id\"})\n",
    "obs.head()"
   ]
  },
  {
   "cell_type": "code",
   "execution_count": 9,
   "metadata": {},
   "outputs": [
    {
     "data": {
      "text/html": [
       "<div>\n",
       "<style scoped>\n",
       "    .dataframe tbody tr th:only-of-type {\n",
       "        vertical-align: middle;\n",
       "    }\n",
       "\n",
       "    .dataframe tbody tr th {\n",
       "        vertical-align: top;\n",
       "    }\n",
       "\n",
       "    .dataframe thead th {\n",
       "        text-align: right;\n",
       "    }\n",
       "</style>\n",
       "<table border=\"1\" class=\"dataframe\">\n",
       "  <thead>\n",
       "    <tr style=\"text-align: right;\">\n",
       "      <th></th>\n",
       "      <th>id</th>\n",
       "      <th>observation_id</th>\n",
       "      <th>proba</th>\n",
       "      <th>true_class</th>\n",
       "      <th>predicted_class</th>\n",
       "      <th>Department Name</th>\n",
       "      <th>InterventionDateTime</th>\n",
       "      <th>InterventionLocationName</th>\n",
       "      <th>InterventionReasonCode</th>\n",
       "      <th>ReportingOfficerIdentificationID</th>\n",
       "      <th>ResidentIndicator</th>\n",
       "      <th>SearchAuthorizationCode</th>\n",
       "      <th>StatuteReason</th>\n",
       "      <th>SubjectAge</th>\n",
       "      <th>SubjectEthnicityCode</th>\n",
       "      <th>SubjectRaceCode</th>\n",
       "      <th>SubjectSexCode</th>\n",
       "      <th>TownResidentIndicator</th>\n",
       "    </tr>\n",
       "  </thead>\n",
       "  <tbody>\n",
       "    <tr>\n",
       "      <th>0</th>\n",
       "      <td>4</td>\n",
       "      <td>3</td>\n",
       "      <td>0.324282</td>\n",
       "      <td>1.0</td>\n",
       "      <td>0</td>\n",
       "      <td>Milford</td>\n",
       "      <td>05/16/2018 04:08:00 AM</td>\n",
       "      <td>MILFORD</td>\n",
       "      <td>E</td>\n",
       "      <td>473</td>\n",
       "      <td>True</td>\n",
       "      <td>I</td>\n",
       "      <td>Other</td>\n",
       "      <td>49.0</td>\n",
       "      <td>N</td>\n",
       "      <td>B</td>\n",
       "      <td>F</td>\n",
       "      <td>False</td>\n",
       "    </tr>\n",
       "    <tr>\n",
       "      <th>1</th>\n",
       "      <td>5</td>\n",
       "      <td>4</td>\n",
       "      <td>0.150087</td>\n",
       "      <td>0.0</td>\n",
       "      <td>0</td>\n",
       "      <td>Norwalk</td>\n",
       "      <td>05/16/2018 09:38:00 AM</td>\n",
       "      <td>NORWALK</td>\n",
       "      <td>V</td>\n",
       "      <td>100000335</td>\n",
       "      <td>True</td>\n",
       "      <td>I</td>\n",
       "      <td>Defective Lights</td>\n",
       "      <td>35.0</td>\n",
       "      <td>N</td>\n",
       "      <td>W</td>\n",
       "      <td>M</td>\n",
       "      <td>True</td>\n",
       "    </tr>\n",
       "    <tr>\n",
       "      <th>2</th>\n",
       "      <td>6</td>\n",
       "      <td>5</td>\n",
       "      <td>0.150087</td>\n",
       "      <td>0.0</td>\n",
       "      <td>0</td>\n",
       "      <td>Norwalk</td>\n",
       "      <td>05/16/2018 09:38:00 AM</td>\n",
       "      <td>NORWALK</td>\n",
       "      <td>V</td>\n",
       "      <td>100000335</td>\n",
       "      <td>True</td>\n",
       "      <td>I</td>\n",
       "      <td>Defective Lights</td>\n",
       "      <td>35.0</td>\n",
       "      <td>N</td>\n",
       "      <td>W</td>\n",
       "      <td>M</td>\n",
       "      <td>True</td>\n",
       "    </tr>\n",
       "    <tr>\n",
       "      <th>3</th>\n",
       "      <td>7</td>\n",
       "      <td>6</td>\n",
       "      <td>0.259167</td>\n",
       "      <td>0.0</td>\n",
       "      <td>0</td>\n",
       "      <td>Naugatuck</td>\n",
       "      <td>05/16/2018 11:43:00 AM</td>\n",
       "      <td>NAUGATUCK</td>\n",
       "      <td>I</td>\n",
       "      <td>100296</td>\n",
       "      <td>True</td>\n",
       "      <td>I</td>\n",
       "      <td>Administrative Offense</td>\n",
       "      <td>23.0</td>\n",
       "      <td>H</td>\n",
       "      <td>W</td>\n",
       "      <td>M</td>\n",
       "      <td>False</td>\n",
       "    </tr>\n",
       "    <tr>\n",
       "      <th>4</th>\n",
       "      <td>8</td>\n",
       "      <td>7</td>\n",
       "      <td>0.259167</td>\n",
       "      <td>0.0</td>\n",
       "      <td>0</td>\n",
       "      <td>Naugatuck</td>\n",
       "      <td>05/16/2018 11:43:00 AM</td>\n",
       "      <td>NAUGATUCK</td>\n",
       "      <td>I</td>\n",
       "      <td>100296</td>\n",
       "      <td>True</td>\n",
       "      <td>I</td>\n",
       "      <td>Administrative Offense</td>\n",
       "      <td>23.0</td>\n",
       "      <td>H</td>\n",
       "      <td>W</td>\n",
       "      <td>M</td>\n",
       "      <td>False</td>\n",
       "    </tr>\n",
       "  </tbody>\n",
       "</table>\n",
       "</div>"
      ],
      "text/plain": [
       "   id  observation_id     proba  true_class  predicted_class Department Name  \\\n",
       "0   4               3  0.324282         1.0                0         Milford   \n",
       "1   5               4  0.150087         0.0                0         Norwalk   \n",
       "2   6               5  0.150087         0.0                0         Norwalk   \n",
       "3   7               6  0.259167         0.0                0       Naugatuck   \n",
       "4   8               7  0.259167         0.0                0       Naugatuck   \n",
       "\n",
       "     InterventionDateTime InterventionLocationName InterventionReasonCode  \\\n",
       "0  05/16/2018 04:08:00 AM                  MILFORD                      E   \n",
       "1  05/16/2018 09:38:00 AM                  NORWALK                      V   \n",
       "2  05/16/2018 09:38:00 AM                  NORWALK                      V   \n",
       "3  05/16/2018 11:43:00 AM                NAUGATUCK                      I   \n",
       "4  05/16/2018 11:43:00 AM                NAUGATUCK                      I   \n",
       "\n",
       "  ReportingOfficerIdentificationID  ResidentIndicator SearchAuthorizationCode  \\\n",
       "0                              473               True                       I   \n",
       "1                        100000335               True                       I   \n",
       "2                        100000335               True                       I   \n",
       "3                           100296               True                       I   \n",
       "4                           100296               True                       I   \n",
       "\n",
       "            StatuteReason  SubjectAge SubjectEthnicityCode SubjectRaceCode  \\\n",
       "0                   Other        49.0                    N               B   \n",
       "1        Defective Lights        35.0                    N               W   \n",
       "2        Defective Lights        35.0                    N               W   \n",
       "3  Administrative Offense        23.0                    H               W   \n",
       "4  Administrative Offense        23.0                    H               W   \n",
       "\n",
       "  SubjectSexCode  TownResidentIndicator  \n",
       "0              F                  False  \n",
       "1              M                   True  \n",
       "2              M                   True  \n",
       "3              M                  False  \n",
       "4              M                  False  "
      ]
     },
     "execution_count": 9,
     "metadata": {},
     "output_type": "execute_result"
    }
   ],
   "source": [
    "trial_df = trial_df.drop(columns=[\"observation\"])\n",
    "trial_df = trial_df.merge(obs, on='observation_id')\n",
    "trial_df.head()"
   ]
  },
  {
   "cell_type": "code",
   "execution_count": 10,
   "metadata": {},
   "outputs": [],
   "source": [
    "#get the observations where we got the predicted class wrong\n",
    "#trial_df = trial_df[trial_df.true_class != trial_df.predicted_class]\n",
    "#trial_df.head()"
   ]
  },
  {
   "cell_type": "code",
   "execution_count": 11,
   "metadata": {
    "scrolled": true
   },
   "outputs": [
    {
     "name": "stdout",
     "output_type": "stream",
     "text": [
      "0.5\n",
      "0.5294117647058824\n",
      "0.25\n",
      "0.0\n",
      "0.5882352941176471\n",
      "0.5454545454545454\n",
      "0.5\n",
      "0.0\n",
      "0.0\n"
     ]
    },
    {
     "name": "stderr",
     "output_type": "stream",
     "text": [
      "C:\\Anaconda3\\envs\\final_test\\lib\\site-packages\\sklearn\\metrics\\classification.py:1437: UndefinedMetricWarning: Precision is ill-defined and being set to 0.0 due to no predicted samples.\n",
      "  'precision', 'predicted', average, warn_for)\n"
     ]
    }
   ],
   "source": [
    "precision_female = precision_score(trial_df[trial_df.SubjectSexCode == 'F'].true_class, trial_df[trial_df.SubjectSexCode == 'F'].predicted_class)\n",
    "precision_male = precision_score(trial_df[trial_df.SubjectSexCode == 'M'].true_class, trial_df[trial_df.SubjectSexCode == 'M'].predicted_class)\n",
    "precision_hispanic = precision_score(trial_df[trial_df.SubjectEthnicityCode == 'H'].true_class, trial_df[trial_df.SubjectEthnicityCode == 'H'].predicted_class)\n",
    "precision_middle_eastern = precision_score(trial_df[trial_df.SubjectEthnicityCode == 'M'].true_class, trial_df[trial_df.SubjectEthnicityCode == 'M'].predicted_class)\n",
    "precision_not_applicable_ethnicity = precision_score(trial_df[trial_df.SubjectEthnicityCode == 'N'].true_class, trial_df[trial_df.SubjectEthnicityCode == 'N'].predicted_class)\n",
    "precision_white = precision_score(trial_df[trial_df.SubjectRaceCode == 'W'].true_class, trial_df[trial_df.SubjectRaceCode == 'W'].predicted_class)\n",
    "precision_black = precision_score(trial_df[trial_df.SubjectRaceCode == 'B'].true_class, trial_df[trial_df.SubjectRaceCode == 'B'].predicted_class)\n",
    "precision_indian = precision_score(trial_df[trial_df.SubjectRaceCode == 'I'].true_class, trial_df[trial_df.SubjectRaceCode == 'I'].predicted_class)\n",
    "precision_asian = precision_score(trial_df[trial_df.SubjectRaceCode == 'A'].true_class, trial_df[trial_df.SubjectRaceCode == 'A'].predicted_class)\n",
    "print(precision_female)\n",
    "print(precision_male)\n",
    "print(precision_hispanic)\n",
    "print(precision_middle_eastern)\n",
    "print(precision_not_applicable_ethnicity)\n",
    "print(precision_white)\n",
    "print(precision_black)\n",
    "print(precision_indian)\n",
    "print(precision_asian)"
   ]
  },
  {
   "cell_type": "markdown",
   "metadata": {},
   "source": [
    "Investigate middle_eastern, indian and asian precisions:"
   ]
  },
  {
   "cell_type": "code",
   "execution_count": 13,
   "metadata": {},
   "outputs": [
    {
     "data": {
      "text/plain": [
       "(0, 18)"
      ]
     },
     "execution_count": 13,
     "metadata": {},
     "output_type": "execute_result"
    }
   ],
   "source": [
    "trial_df[trial_df.SubjectEthnicityCode == 'M'].shape"
   ]
  },
  {
   "cell_type": "code",
   "execution_count": 14,
   "metadata": {},
   "outputs": [
    {
     "data": {
      "text/plain": [
       "(2, 18)"
      ]
     },
     "execution_count": 14,
     "metadata": {},
     "output_type": "execute_result"
    }
   ],
   "source": [
    "trial_df[trial_df.SubjectRaceCode == 'I'].shape"
   ]
  },
  {
   "cell_type": "code",
   "execution_count": 15,
   "metadata": {},
   "outputs": [
    {
     "data": {
      "text/plain": [
       "(0, 18)"
      ]
     },
     "execution_count": 15,
     "metadata": {},
     "output_type": "execute_result"
    }
   ],
   "source": [
    "trial_df[trial_df.SubjectRaceCode == 'A'].shape"
   ]
  },
  {
   "cell_type": "markdown",
   "metadata": {},
   "source": [
    "We will disregard the indians as 2 observations is very few"
   ]
  },
  {
   "cell_type": "markdown",
   "metadata": {},
   "source": [
    "The precision in the sex code seems to be ok"
   ]
  },
  {
   "cell_type": "markdown",
   "metadata": {},
   "source": [
    "Investigating hispanics"
   ]
  },
  {
   "cell_type": "code",
   "execution_count": 16,
   "metadata": {},
   "outputs": [
    {
     "data": {
      "text/plain": [
       "(21, 18)"
      ]
     },
     "execution_count": 16,
     "metadata": {},
     "output_type": "execute_result"
    }
   ],
   "source": [
    "trial_df[trial_df.SubjectEthnicityCode == 'H'].shape"
   ]
  },
  {
   "cell_type": "markdown",
   "metadata": {},
   "source": [
    "We are having a very low precision for hispanics that is making the difference of precision to not_applicable_ethnicity drivers very high. Since we have very few observations overall, we will wait for more to make a judgement."
   ]
  },
  {
   "cell_type": "markdown",
   "metadata": {},
   "source": [
    "The difference of precision between white and black drivers is also low (<5%)."
   ]
  },
  {
   "cell_type": "code",
   "execution_count": null,
   "metadata": {},
   "outputs": [],
   "source": []
  }
 ],
 "metadata": {
  "kernelspec": {
   "display_name": "Python 3",
   "language": "python",
   "name": "python3"
  },
  "language_info": {
   "codemirror_mode": {
    "name": "ipython",
    "version": 3
   },
   "file_extension": ".py",
   "mimetype": "text/x-python",
   "name": "python",
   "nbconvert_exporter": "python",
   "pygments_lexer": "ipython3",
   "version": "3.7.3"
  }
 },
 "nbformat": 4,
 "nbformat_minor": 4
}
